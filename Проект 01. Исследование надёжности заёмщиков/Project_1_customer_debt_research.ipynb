{
 "cells": [
  {
   "cell_type": "markdown",
   "metadata": {},
   "source": [
    "# ИССЛЕДОВАНИЕ НАДЕЖНОСТИ ЗАЕМЩИКОВ"
   ]
  },
  {
   "cell_type": "markdown",
   "metadata": {},
   "source": [
    "**Заказчик**: кредитный отдел банка. \n",
    "\n",
    "**Исходные данные**: статистика о платёжеспособности клиентов.\n",
    "\n",
    "Результаты исследования будут учтены при построении модели кредитного скоринга — специальной системы, которая оценивает способность потенциального заёмщика вернуть кредит банку.\n",
    "\n",
    "Нужно выяснить, есть ли:\n",
    "- зависимость между наличием детей и возвратом кредита в срок?\n",
    "- зависимость между семейным положением и возвратом кредита в срок?\n",
    "- зависимость между уровнем дохода и возвратом кредита в срок?\n",
    "- как разные цели кредита влияют на его возврат в срок?\n",
    "\n",
    "Перед началом анализа мы проверим: \n",
    "- есть ли пропуски в данных и проработаем их, \n",
    "- проверим типы данных и при необходимость изменим их, \n",
    "- проверим наличие дубликатов и проработаем их,\n",
    "- категоризируем данные, если это необходимо\n",
    "- приступим к самому анализу взаимосвязей\n",
    "\n",
    "\n",
    "Расшифровка названий столбцов:\n",
    "- children — количество детей в семье\n",
    "- days_employed — общий трудовой стаж в днях\n",
    "- dob_years — возраст клиента в годах\n",
    "- education — уровень образования клиента\n",
    "- education_id — идентификатор уровня образования\n",
    "- family_status — семейное положение\n",
    "- family_status_id — идентификатор семейного положения\n",
    "- gender — пол клиента\n",
    "- income_type — тип занятости\n",
    "- debt — имел ли задолженность по возврату кредитов\n",
    "- total_income — ежемесячный доход\n",
    "- purpose — цель получения кредита"
   ]
  },
  {
   "cell_type": "markdown",
   "metadata": {
    "toc": true
   },
   "source": [
    "<h1>Table of Contents<span class=\"tocSkip\"></span></h1>\n",
    "<div class=\"toc\"><ul class=\"toc-item\"><li><span><a href=\"#Обзор-данных\" data-toc-modified-id=\"Обзор-данных-1\"><span class=\"toc-item-num\">1&nbsp;&nbsp;</span>Обзор данных</a></span></li><li><span><a href=\"#Предобработка-данных\" data-toc-modified-id=\"Предобработка-данных-2\"><span class=\"toc-item-num\">2&nbsp;&nbsp;</span>Предобработка данных</a></span><ul class=\"toc-item\"><li><span><a href=\"#Поиск-и-заполнение-пропущенных-значений\" data-toc-modified-id=\"Поиск-и-заполнение-пропущенных-значений-2.1\"><span class=\"toc-item-num\">2.1&nbsp;&nbsp;</span>Поиск и заполнение пропущенных значений</a></span></li><li><span><a href=\"#Работа-с-типами-данных\" data-toc-modified-id=\"Работа-с-типами-данных-2.2\"><span class=\"toc-item-num\">2.2&nbsp;&nbsp;</span>Работа с типами данных</a></span></li><li><span><a href=\"#Поиск-и-удаление-дубликатов\" data-toc-modified-id=\"Поиск-и-удаление-дубликатов-2.3\"><span class=\"toc-item-num\">2.3&nbsp;&nbsp;</span>Поиск и удаление дубликатов</a></span></li><li><span><a href=\"#Лемматизация\" data-toc-modified-id=\"Лемматизация-2.4\"><span class=\"toc-item-num\">2.4&nbsp;&nbsp;</span>Лемматизация</a></span></li><li><span><a href=\"#Категоризация-данных\" data-toc-modified-id=\"Категоризация-данных-2.5\"><span class=\"toc-item-num\">2.5&nbsp;&nbsp;</span>Категоризация данных</a></span></li></ul></li><li><span><a href=\"#Исследование\" data-toc-modified-id=\"Исследование-3\"><span class=\"toc-item-num\">3&nbsp;&nbsp;</span>Исследование</a></span></li><li><span><a href=\"#Выводы\" data-toc-modified-id=\"Выводы-4\"><span class=\"toc-item-num\">4&nbsp;&nbsp;</span>Выводы</a></span></li></ul></div>"
   ]
  },
  {
   "cell_type": "markdown",
   "metadata": {},
   "source": [
    "## Обзор данных"
   ]
  },
  {
   "cell_type": "markdown",
   "metadata": {},
   "source": [
    "Для начала мы импортировали библиотеки `Pandas`, `Seaborn` и `Matplotlib.pyplot`, функцию `Mystem` из библиотеки `Pymystem3`, функцию `Counter` из библиотеки `Collections` и функцию `display` из библиотеки `IPython.display`."
   ]
  },
  {
   "cell_type": "code",
   "execution_count": 1,
   "metadata": {},
   "outputs": [],
   "source": [
    "import pandas as pd\n",
    "\n",
    "import seaborn as sns\n",
    "import matplotlib.pyplot as plt\n",
    "\n",
    "from pymystem3 import Mystem\n",
    "m = Mystem()\n",
    "\n",
    "from collections import Counter\n",
    "from IPython.display import display\n",
    "\n",
    "#не отображает предупреждения\n",
    "pd.options.mode.chained_assignment = None\n",
    "import warnings\n",
    "warnings.filterwarnings('ignore')"
   ]
  },
  {
   "cell_type": "markdown",
   "metadata": {},
   "source": [
    "Cоздали DataFrame `customer` и с помощью функции `info()` посмотрели общую информацию о исходных данных."
   ]
  },
  {
   "cell_type": "code",
   "execution_count": 2,
   "metadata": {
    "scrolled": true
   },
   "outputs": [
    {
     "name": "stdout",
     "output_type": "stream",
     "text": [
      "<class 'pandas.core.frame.DataFrame'>\n",
      "RangeIndex: 21525 entries, 0 to 21524\n",
      "Data columns (total 12 columns):\n",
      " #   Column            Non-Null Count  Dtype  \n",
      "---  ------            --------------  -----  \n",
      " 0   children          21525 non-null  int64  \n",
      " 1   days_employed     19351 non-null  float64\n",
      " 2   dob_years         21525 non-null  int64  \n",
      " 3   education         21525 non-null  object \n",
      " 4   education_id      21525 non-null  int64  \n",
      " 5   family_status     21525 non-null  object \n",
      " 6   family_status_id  21525 non-null  int64  \n",
      " 7   gender            21525 non-null  object \n",
      " 8   income_type       21525 non-null  object \n",
      " 9   debt              21525 non-null  int64  \n",
      " 10  total_income      19351 non-null  float64\n",
      " 11  purpose           21525 non-null  object \n",
      "dtypes: float64(2), int64(5), object(5)\n",
      "memory usage: 2.0+ MB\n"
     ]
    }
   ],
   "source": [
    "customer = pd.read_csv('data.csv')\n",
    "customer.info()"
   ]
  },
  {
   "cell_type": "markdown",
   "metadata": {},
   "source": [
    "Из общей информации видно, что исходные данные содержат 12 столбцов и 21525 строк. Используются как числовой тип данных: float и int, так и строковый - object. В двух столбцах есть пропуски - `days_employed` (общий трудовой стаж в днях) и `total_income` (ежемесячный доход), оба имеют тип данных `float`. \n",
    "Все названия столбцов корректные, заменили только название столбца \"возраст клиента в годах\" `dob_years` на более удобное `age`.\n",
    "После ознакомления с общей информацией, вывели первые 15 строк таблицы с помощью функции `head()`."
   ]
  },
  {
   "cell_type": "code",
   "execution_count": 3,
   "metadata": {
    "scrolled": false
   },
   "outputs": [
    {
     "data": {
      "text/html": [
       "<div>\n",
       "<style scoped>\n",
       "    .dataframe tbody tr th:only-of-type {\n",
       "        vertical-align: middle;\n",
       "    }\n",
       "\n",
       "    .dataframe tbody tr th {\n",
       "        vertical-align: top;\n",
       "    }\n",
       "\n",
       "    .dataframe thead th {\n",
       "        text-align: right;\n",
       "    }\n",
       "</style>\n",
       "<table border=\"1\" class=\"dataframe\">\n",
       "  <thead>\n",
       "    <tr style=\"text-align: right;\">\n",
       "      <th></th>\n",
       "      <th>children</th>\n",
       "      <th>days_employed</th>\n",
       "      <th>age</th>\n",
       "      <th>education</th>\n",
       "      <th>education_id</th>\n",
       "      <th>family_status</th>\n",
       "      <th>family_status_id</th>\n",
       "      <th>gender</th>\n",
       "      <th>income_type</th>\n",
       "      <th>debt</th>\n",
       "      <th>total_income</th>\n",
       "      <th>purpose</th>\n",
       "    </tr>\n",
       "  </thead>\n",
       "  <tbody>\n",
       "    <tr>\n",
       "      <th>0</th>\n",
       "      <td>1</td>\n",
       "      <td>-8437.673028</td>\n",
       "      <td>42</td>\n",
       "      <td>высшее</td>\n",
       "      <td>0</td>\n",
       "      <td>женат / замужем</td>\n",
       "      <td>0</td>\n",
       "      <td>F</td>\n",
       "      <td>сотрудник</td>\n",
       "      <td>0</td>\n",
       "      <td>253875.639453</td>\n",
       "      <td>покупка жилья</td>\n",
       "    </tr>\n",
       "    <tr>\n",
       "      <th>1</th>\n",
       "      <td>1</td>\n",
       "      <td>-4024.803754</td>\n",
       "      <td>36</td>\n",
       "      <td>среднее</td>\n",
       "      <td>1</td>\n",
       "      <td>женат / замужем</td>\n",
       "      <td>0</td>\n",
       "      <td>F</td>\n",
       "      <td>сотрудник</td>\n",
       "      <td>0</td>\n",
       "      <td>112080.014102</td>\n",
       "      <td>приобретение автомобиля</td>\n",
       "    </tr>\n",
       "    <tr>\n",
       "      <th>2</th>\n",
       "      <td>0</td>\n",
       "      <td>-5623.422610</td>\n",
       "      <td>33</td>\n",
       "      <td>Среднее</td>\n",
       "      <td>1</td>\n",
       "      <td>женат / замужем</td>\n",
       "      <td>0</td>\n",
       "      <td>M</td>\n",
       "      <td>сотрудник</td>\n",
       "      <td>0</td>\n",
       "      <td>145885.952297</td>\n",
       "      <td>покупка жилья</td>\n",
       "    </tr>\n",
       "    <tr>\n",
       "      <th>3</th>\n",
       "      <td>3</td>\n",
       "      <td>-4124.747207</td>\n",
       "      <td>32</td>\n",
       "      <td>среднее</td>\n",
       "      <td>1</td>\n",
       "      <td>женат / замужем</td>\n",
       "      <td>0</td>\n",
       "      <td>M</td>\n",
       "      <td>сотрудник</td>\n",
       "      <td>0</td>\n",
       "      <td>267628.550329</td>\n",
       "      <td>дополнительное образование</td>\n",
       "    </tr>\n",
       "    <tr>\n",
       "      <th>4</th>\n",
       "      <td>0</td>\n",
       "      <td>340266.072047</td>\n",
       "      <td>53</td>\n",
       "      <td>среднее</td>\n",
       "      <td>1</td>\n",
       "      <td>гражданский брак</td>\n",
       "      <td>1</td>\n",
       "      <td>F</td>\n",
       "      <td>пенсионер</td>\n",
       "      <td>0</td>\n",
       "      <td>158616.077870</td>\n",
       "      <td>сыграть свадьбу</td>\n",
       "    </tr>\n",
       "    <tr>\n",
       "      <th>5</th>\n",
       "      <td>0</td>\n",
       "      <td>-926.185831</td>\n",
       "      <td>27</td>\n",
       "      <td>высшее</td>\n",
       "      <td>0</td>\n",
       "      <td>гражданский брак</td>\n",
       "      <td>1</td>\n",
       "      <td>M</td>\n",
       "      <td>компаньон</td>\n",
       "      <td>0</td>\n",
       "      <td>255763.565419</td>\n",
       "      <td>покупка жилья</td>\n",
       "    </tr>\n",
       "    <tr>\n",
       "      <th>6</th>\n",
       "      <td>0</td>\n",
       "      <td>-2879.202052</td>\n",
       "      <td>43</td>\n",
       "      <td>высшее</td>\n",
       "      <td>0</td>\n",
       "      <td>женат / замужем</td>\n",
       "      <td>0</td>\n",
       "      <td>F</td>\n",
       "      <td>компаньон</td>\n",
       "      <td>0</td>\n",
       "      <td>240525.971920</td>\n",
       "      <td>операции с жильем</td>\n",
       "    </tr>\n",
       "    <tr>\n",
       "      <th>7</th>\n",
       "      <td>0</td>\n",
       "      <td>-152.779569</td>\n",
       "      <td>50</td>\n",
       "      <td>СРЕДНЕЕ</td>\n",
       "      <td>1</td>\n",
       "      <td>женат / замужем</td>\n",
       "      <td>0</td>\n",
       "      <td>M</td>\n",
       "      <td>сотрудник</td>\n",
       "      <td>0</td>\n",
       "      <td>135823.934197</td>\n",
       "      <td>образование</td>\n",
       "    </tr>\n",
       "    <tr>\n",
       "      <th>8</th>\n",
       "      <td>2</td>\n",
       "      <td>-6929.865299</td>\n",
       "      <td>35</td>\n",
       "      <td>ВЫСШЕЕ</td>\n",
       "      <td>0</td>\n",
       "      <td>гражданский брак</td>\n",
       "      <td>1</td>\n",
       "      <td>F</td>\n",
       "      <td>сотрудник</td>\n",
       "      <td>0</td>\n",
       "      <td>95856.832424</td>\n",
       "      <td>на проведение свадьбы</td>\n",
       "    </tr>\n",
       "    <tr>\n",
       "      <th>9</th>\n",
       "      <td>0</td>\n",
       "      <td>-2188.756445</td>\n",
       "      <td>41</td>\n",
       "      <td>среднее</td>\n",
       "      <td>1</td>\n",
       "      <td>женат / замужем</td>\n",
       "      <td>0</td>\n",
       "      <td>M</td>\n",
       "      <td>сотрудник</td>\n",
       "      <td>0</td>\n",
       "      <td>144425.938277</td>\n",
       "      <td>покупка жилья для семьи</td>\n",
       "    </tr>\n",
       "    <tr>\n",
       "      <th>10</th>\n",
       "      <td>2</td>\n",
       "      <td>-4171.483647</td>\n",
       "      <td>36</td>\n",
       "      <td>высшее</td>\n",
       "      <td>0</td>\n",
       "      <td>женат / замужем</td>\n",
       "      <td>0</td>\n",
       "      <td>M</td>\n",
       "      <td>компаньон</td>\n",
       "      <td>0</td>\n",
       "      <td>113943.491460</td>\n",
       "      <td>покупка недвижимости</td>\n",
       "    </tr>\n",
       "    <tr>\n",
       "      <th>11</th>\n",
       "      <td>0</td>\n",
       "      <td>-792.701887</td>\n",
       "      <td>40</td>\n",
       "      <td>среднее</td>\n",
       "      <td>1</td>\n",
       "      <td>женат / замужем</td>\n",
       "      <td>0</td>\n",
       "      <td>F</td>\n",
       "      <td>сотрудник</td>\n",
       "      <td>0</td>\n",
       "      <td>77069.234271</td>\n",
       "      <td>покупка коммерческой недвижимости</td>\n",
       "    </tr>\n",
       "    <tr>\n",
       "      <th>12</th>\n",
       "      <td>0</td>\n",
       "      <td>NaN</td>\n",
       "      <td>65</td>\n",
       "      <td>среднее</td>\n",
       "      <td>1</td>\n",
       "      <td>гражданский брак</td>\n",
       "      <td>1</td>\n",
       "      <td>M</td>\n",
       "      <td>пенсионер</td>\n",
       "      <td>0</td>\n",
       "      <td>NaN</td>\n",
       "      <td>сыграть свадьбу</td>\n",
       "    </tr>\n",
       "    <tr>\n",
       "      <th>13</th>\n",
       "      <td>0</td>\n",
       "      <td>-1846.641941</td>\n",
       "      <td>54</td>\n",
       "      <td>неоконченное высшее</td>\n",
       "      <td>2</td>\n",
       "      <td>женат / замужем</td>\n",
       "      <td>0</td>\n",
       "      <td>F</td>\n",
       "      <td>сотрудник</td>\n",
       "      <td>0</td>\n",
       "      <td>130458.228857</td>\n",
       "      <td>приобретение автомобиля</td>\n",
       "    </tr>\n",
       "    <tr>\n",
       "      <th>14</th>\n",
       "      <td>0</td>\n",
       "      <td>-1844.956182</td>\n",
       "      <td>56</td>\n",
       "      <td>высшее</td>\n",
       "      <td>0</td>\n",
       "      <td>гражданский брак</td>\n",
       "      <td>1</td>\n",
       "      <td>F</td>\n",
       "      <td>компаньон</td>\n",
       "      <td>1</td>\n",
       "      <td>165127.911772</td>\n",
       "      <td>покупка жилой недвижимости</td>\n",
       "    </tr>\n",
       "  </tbody>\n",
       "</table>\n",
       "</div>"
      ],
      "text/plain": [
       "    children  days_employed  age            education  education_id  \\\n",
       "0          1   -8437.673028   42               высшее             0   \n",
       "1          1   -4024.803754   36              среднее             1   \n",
       "2          0   -5623.422610   33              Среднее             1   \n",
       "3          3   -4124.747207   32              среднее             1   \n",
       "4          0  340266.072047   53              среднее             1   \n",
       "5          0    -926.185831   27               высшее             0   \n",
       "6          0   -2879.202052   43               высшее             0   \n",
       "7          0    -152.779569   50              СРЕДНЕЕ             1   \n",
       "8          2   -6929.865299   35               ВЫСШЕЕ             0   \n",
       "9          0   -2188.756445   41              среднее             1   \n",
       "10         2   -4171.483647   36               высшее             0   \n",
       "11         0    -792.701887   40              среднее             1   \n",
       "12         0            NaN   65              среднее             1   \n",
       "13         0   -1846.641941   54  неоконченное высшее             2   \n",
       "14         0   -1844.956182   56               высшее             0   \n",
       "\n",
       "       family_status  family_status_id gender income_type  debt  \\\n",
       "0    женат / замужем                 0      F   сотрудник     0   \n",
       "1    женат / замужем                 0      F   сотрудник     0   \n",
       "2    женат / замужем                 0      M   сотрудник     0   \n",
       "3    женат / замужем                 0      M   сотрудник     0   \n",
       "4   гражданский брак                 1      F   пенсионер     0   \n",
       "5   гражданский брак                 1      M   компаньон     0   \n",
       "6    женат / замужем                 0      F   компаньон     0   \n",
       "7    женат / замужем                 0      M   сотрудник     0   \n",
       "8   гражданский брак                 1      F   сотрудник     0   \n",
       "9    женат / замужем                 0      M   сотрудник     0   \n",
       "10   женат / замужем                 0      M   компаньон     0   \n",
       "11   женат / замужем                 0      F   сотрудник     0   \n",
       "12  гражданский брак                 1      M   пенсионер     0   \n",
       "13   женат / замужем                 0      F   сотрудник     0   \n",
       "14  гражданский брак                 1      F   компаньон     1   \n",
       "\n",
       "     total_income                            purpose  \n",
       "0   253875.639453                      покупка жилья  \n",
       "1   112080.014102            приобретение автомобиля  \n",
       "2   145885.952297                      покупка жилья  \n",
       "3   267628.550329         дополнительное образование  \n",
       "4   158616.077870                    сыграть свадьбу  \n",
       "5   255763.565419                      покупка жилья  \n",
       "6   240525.971920                  операции с жильем  \n",
       "7   135823.934197                        образование  \n",
       "8    95856.832424              на проведение свадьбы  \n",
       "9   144425.938277            покупка жилья для семьи  \n",
       "10  113943.491460               покупка недвижимости  \n",
       "11   77069.234271  покупка коммерческой недвижимости  \n",
       "12            NaN                    сыграть свадьбу  \n",
       "13  130458.228857            приобретение автомобиля  \n",
       "14  165127.911772         покупка жилой недвижимости  "
      ]
     },
     "metadata": {},
     "output_type": "display_data"
    }
   ],
   "source": [
    "customer.set_axis(['children','days_employed','age','education', 'education_id',\n",
    "                  'family_status','family_status_id','gender','income_type','debt',\n",
    "                  'total_income','purpose'], axis='columns', inplace=True)\n",
    "display(customer.head(15))"
   ]
  },
  {
   "cell_type": "markdown",
   "metadata": {},
   "source": [
    "Уже по первым 15 строкам видим пропуски `NaN` в двух столбцах: days_employed и total_income. Также в столбце общий трудовой стаж в днях `days_employed` кроме пропусков, есть отрицательные значения. В столбце образование `education` данные указаны в разных регистрах. А в столбце `purpose` встречается описание одной цели кредита разными способами, например: покупка жилья, покупка жилья для семьи, покупка жилой недвижимости. Следующим шагом осуществили предобработку данных."
   ]
  },
  {
   "cell_type": "markdown",
   "metadata": {},
   "source": [
    "## Предобработка данных"
   ]
  },
  {
   "cell_type": "markdown",
   "metadata": {},
   "source": [
    "### Поиск и заполнение пропущенных значений "
   ]
  },
  {
   "cell_type": "markdown",
   "metadata": {},
   "source": [
    "Для начала с помощью функции `isnull` и `sum` проверили количество пропусков по столбцам."
   ]
  },
  {
   "cell_type": "code",
   "execution_count": 4,
   "metadata": {
    "scrolled": false
   },
   "outputs": [
    {
     "name": "stdout",
     "output_type": "stream",
     "text": [
      "children               0\n",
      "days_employed       2174\n",
      "age                    0\n",
      "education              0\n",
      "education_id           0\n",
      "family_status          0\n",
      "family_status_id       0\n",
      "gender                 0\n",
      "income_type            0\n",
      "debt                   0\n",
      "total_income        2174\n",
      "purpose                0\n",
      "dtype: int64\n"
     ]
    }
   ],
   "source": [
    "print(customer.isnull().sum())"
   ]
  },
  {
   "cell_type": "markdown",
   "metadata": {},
   "source": [
    "Получили, что пропуски есть только в столбцах с трудовым стажем `days_employed` и ежемесячным доходом `total_income`, причем в равном количестве - 2174.\n",
    "Далее проверили, находятся ли эти пропуски в одних и тех же строка."
   ]
  },
  {
   "cell_type": "code",
   "execution_count": 5,
   "metadata": {
    "scrolled": true
   },
   "outputs": [
    {
     "name": "stdout",
     "output_type": "stream",
     "text": [
      "Количество строк в выборке с пропусками  2174\n",
      "\n",
      "children               0\n",
      "days_employed       2174\n",
      "age                    0\n",
      "education              0\n",
      "education_id           0\n",
      "family_status          0\n",
      "family_status_id       0\n",
      "gender                 0\n",
      "income_type            0\n",
      "debt                   0\n",
      "total_income        2174\n",
      "purpose                0\n",
      "dtype: int64\n"
     ]
    }
   ],
   "source": [
    "#создание выборки с пропусками в customer_null и проверка,\n",
    "#сколько всего строк попало в выборку, и нулевые значения по столбцам\n",
    "customer_null = customer[customer['days_employed'].isnull()]\n",
    "print('Количество строк в выборке с пропусками ',len(customer_null))\n",
    "print('')\n",
    "print(customer_null.isnull().sum())\n",
    "\n"
   ]
  },
  {
   "cell_type": "markdown",
   "metadata": {},
   "source": [
    "Получили, что пропущенные значения в одинаковых строках. \n",
    "Вывели первые 10 строк выборки с нулевыми значениями."
   ]
  },
  {
   "cell_type": "code",
   "execution_count": 6,
   "metadata": {
    "scrolled": false
   },
   "outputs": [
    {
     "data": {
      "text/html": [
       "<div>\n",
       "<style scoped>\n",
       "    .dataframe tbody tr th:only-of-type {\n",
       "        vertical-align: middle;\n",
       "    }\n",
       "\n",
       "    .dataframe tbody tr th {\n",
       "        vertical-align: top;\n",
       "    }\n",
       "\n",
       "    .dataframe thead th {\n",
       "        text-align: right;\n",
       "    }\n",
       "</style>\n",
       "<table border=\"1\" class=\"dataframe\">\n",
       "  <thead>\n",
       "    <tr style=\"text-align: right;\">\n",
       "      <th></th>\n",
       "      <th>children</th>\n",
       "      <th>days_employed</th>\n",
       "      <th>age</th>\n",
       "      <th>education</th>\n",
       "      <th>education_id</th>\n",
       "      <th>family_status</th>\n",
       "      <th>family_status_id</th>\n",
       "      <th>gender</th>\n",
       "      <th>income_type</th>\n",
       "      <th>debt</th>\n",
       "      <th>total_income</th>\n",
       "      <th>purpose</th>\n",
       "    </tr>\n",
       "  </thead>\n",
       "  <tbody>\n",
       "    <tr>\n",
       "      <th>12</th>\n",
       "      <td>0</td>\n",
       "      <td>NaN</td>\n",
       "      <td>65</td>\n",
       "      <td>среднее</td>\n",
       "      <td>1</td>\n",
       "      <td>гражданский брак</td>\n",
       "      <td>1</td>\n",
       "      <td>M</td>\n",
       "      <td>пенсионер</td>\n",
       "      <td>0</td>\n",
       "      <td>NaN</td>\n",
       "      <td>сыграть свадьбу</td>\n",
       "    </tr>\n",
       "    <tr>\n",
       "      <th>26</th>\n",
       "      <td>0</td>\n",
       "      <td>NaN</td>\n",
       "      <td>41</td>\n",
       "      <td>среднее</td>\n",
       "      <td>1</td>\n",
       "      <td>женат / замужем</td>\n",
       "      <td>0</td>\n",
       "      <td>M</td>\n",
       "      <td>госслужащий</td>\n",
       "      <td>0</td>\n",
       "      <td>NaN</td>\n",
       "      <td>образование</td>\n",
       "    </tr>\n",
       "    <tr>\n",
       "      <th>29</th>\n",
       "      <td>0</td>\n",
       "      <td>NaN</td>\n",
       "      <td>63</td>\n",
       "      <td>среднее</td>\n",
       "      <td>1</td>\n",
       "      <td>Не женат / не замужем</td>\n",
       "      <td>4</td>\n",
       "      <td>F</td>\n",
       "      <td>пенсионер</td>\n",
       "      <td>0</td>\n",
       "      <td>NaN</td>\n",
       "      <td>строительство жилой недвижимости</td>\n",
       "    </tr>\n",
       "    <tr>\n",
       "      <th>41</th>\n",
       "      <td>0</td>\n",
       "      <td>NaN</td>\n",
       "      <td>50</td>\n",
       "      <td>среднее</td>\n",
       "      <td>1</td>\n",
       "      <td>женат / замужем</td>\n",
       "      <td>0</td>\n",
       "      <td>F</td>\n",
       "      <td>госслужащий</td>\n",
       "      <td>0</td>\n",
       "      <td>NaN</td>\n",
       "      <td>сделка с подержанным автомобилем</td>\n",
       "    </tr>\n",
       "    <tr>\n",
       "      <th>55</th>\n",
       "      <td>0</td>\n",
       "      <td>NaN</td>\n",
       "      <td>54</td>\n",
       "      <td>среднее</td>\n",
       "      <td>1</td>\n",
       "      <td>гражданский брак</td>\n",
       "      <td>1</td>\n",
       "      <td>F</td>\n",
       "      <td>пенсионер</td>\n",
       "      <td>1</td>\n",
       "      <td>NaN</td>\n",
       "      <td>сыграть свадьбу</td>\n",
       "    </tr>\n",
       "    <tr>\n",
       "      <th>65</th>\n",
       "      <td>0</td>\n",
       "      <td>NaN</td>\n",
       "      <td>21</td>\n",
       "      <td>среднее</td>\n",
       "      <td>1</td>\n",
       "      <td>Не женат / не замужем</td>\n",
       "      <td>4</td>\n",
       "      <td>M</td>\n",
       "      <td>компаньон</td>\n",
       "      <td>0</td>\n",
       "      <td>NaN</td>\n",
       "      <td>операции с коммерческой недвижимостью</td>\n",
       "    </tr>\n",
       "    <tr>\n",
       "      <th>67</th>\n",
       "      <td>0</td>\n",
       "      <td>NaN</td>\n",
       "      <td>52</td>\n",
       "      <td>высшее</td>\n",
       "      <td>0</td>\n",
       "      <td>женат / замужем</td>\n",
       "      <td>0</td>\n",
       "      <td>F</td>\n",
       "      <td>пенсионер</td>\n",
       "      <td>0</td>\n",
       "      <td>NaN</td>\n",
       "      <td>покупка жилья для семьи</td>\n",
       "    </tr>\n",
       "    <tr>\n",
       "      <th>72</th>\n",
       "      <td>1</td>\n",
       "      <td>NaN</td>\n",
       "      <td>32</td>\n",
       "      <td>высшее</td>\n",
       "      <td>0</td>\n",
       "      <td>женат / замужем</td>\n",
       "      <td>0</td>\n",
       "      <td>M</td>\n",
       "      <td>госслужащий</td>\n",
       "      <td>0</td>\n",
       "      <td>NaN</td>\n",
       "      <td>операции с коммерческой недвижимостью</td>\n",
       "    </tr>\n",
       "    <tr>\n",
       "      <th>82</th>\n",
       "      <td>2</td>\n",
       "      <td>NaN</td>\n",
       "      <td>50</td>\n",
       "      <td>высшее</td>\n",
       "      <td>0</td>\n",
       "      <td>женат / замужем</td>\n",
       "      <td>0</td>\n",
       "      <td>F</td>\n",
       "      <td>сотрудник</td>\n",
       "      <td>0</td>\n",
       "      <td>NaN</td>\n",
       "      <td>жилье</td>\n",
       "    </tr>\n",
       "    <tr>\n",
       "      <th>83</th>\n",
       "      <td>0</td>\n",
       "      <td>NaN</td>\n",
       "      <td>52</td>\n",
       "      <td>среднее</td>\n",
       "      <td>1</td>\n",
       "      <td>женат / замужем</td>\n",
       "      <td>0</td>\n",
       "      <td>M</td>\n",
       "      <td>сотрудник</td>\n",
       "      <td>0</td>\n",
       "      <td>NaN</td>\n",
       "      <td>жилье</td>\n",
       "    </tr>\n",
       "  </tbody>\n",
       "</table>\n",
       "</div>"
      ],
      "text/plain": [
       "    children  days_employed  age education  education_id  \\\n",
       "12         0            NaN   65   среднее             1   \n",
       "26         0            NaN   41   среднее             1   \n",
       "29         0            NaN   63   среднее             1   \n",
       "41         0            NaN   50   среднее             1   \n",
       "55         0            NaN   54   среднее             1   \n",
       "65         0            NaN   21   среднее             1   \n",
       "67         0            NaN   52    высшее             0   \n",
       "72         1            NaN   32    высшее             0   \n",
       "82         2            NaN   50    высшее             0   \n",
       "83         0            NaN   52   среднее             1   \n",
       "\n",
       "            family_status  family_status_id gender  income_type  debt  \\\n",
       "12       гражданский брак                 1      M    пенсионер     0   \n",
       "26        женат / замужем                 0      M  госслужащий     0   \n",
       "29  Не женат / не замужем                 4      F    пенсионер     0   \n",
       "41        женат / замужем                 0      F  госслужащий     0   \n",
       "55       гражданский брак                 1      F    пенсионер     1   \n",
       "65  Не женат / не замужем                 4      M    компаньон     0   \n",
       "67        женат / замужем                 0      F    пенсионер     0   \n",
       "72        женат / замужем                 0      M  госслужащий     0   \n",
       "82        женат / замужем                 0      F    сотрудник     0   \n",
       "83        женат / замужем                 0      M    сотрудник     0   \n",
       "\n",
       "    total_income                                purpose  \n",
       "12           NaN                        сыграть свадьбу  \n",
       "26           NaN                            образование  \n",
       "29           NaN       строительство жилой недвижимости  \n",
       "41           NaN       сделка с подержанным автомобилем  \n",
       "55           NaN                        сыграть свадьбу  \n",
       "65           NaN  операции с коммерческой недвижимостью  \n",
       "67           NaN                покупка жилья для семьи  \n",
       "72           NaN  операции с коммерческой недвижимостью  \n",
       "82           NaN                                  жилье  \n",
       "83           NaN                                  жилье  "
      ]
     },
     "metadata": {},
     "output_type": "display_data"
    }
   ],
   "source": [
    "display(customer_null.head(10))"
   ]
  },
  {
   "cell_type": "markdown",
   "metadata": {},
   "source": [
    "На основании выборки приняли решение посмотреть общее количество и количество пропусков по категориям типа занятости - `income_type`."
   ]
  },
  {
   "cell_type": "code",
   "execution_count": 7,
   "metadata": {},
   "outputs": [
    {
     "data": {
      "text/html": [
       "<div>\n",
       "<style scoped>\n",
       "    .dataframe tbody tr th:only-of-type {\n",
       "        vertical-align: middle;\n",
       "    }\n",
       "\n",
       "    .dataframe tbody tr th {\n",
       "        vertical-align: top;\n",
       "    }\n",
       "\n",
       "    .dataframe thead th {\n",
       "        text-align: right;\n",
       "    }\n",
       "</style>\n",
       "<table border=\"1\" class=\"dataframe\">\n",
       "  <thead>\n",
       "    <tr style=\"text-align: right;\">\n",
       "      <th></th>\n",
       "      <th>count_all</th>\n",
       "      <th>count_without_nan</th>\n",
       "      <th>diff</th>\n",
       "      <th>part</th>\n",
       "    </tr>\n",
       "    <tr>\n",
       "      <th>income_type</th>\n",
       "      <th></th>\n",
       "      <th></th>\n",
       "      <th></th>\n",
       "      <th></th>\n",
       "    </tr>\n",
       "  </thead>\n",
       "  <tbody>\n",
       "    <tr>\n",
       "      <th>безработный</th>\n",
       "      <td>2</td>\n",
       "      <td>2</td>\n",
       "      <td>0</td>\n",
       "      <td>0.000000</td>\n",
       "    </tr>\n",
       "    <tr>\n",
       "      <th>в декрете</th>\n",
       "      <td>1</td>\n",
       "      <td>1</td>\n",
       "      <td>0</td>\n",
       "      <td>0.000000</td>\n",
       "    </tr>\n",
       "    <tr>\n",
       "      <th>госслужащий</th>\n",
       "      <td>1459</td>\n",
       "      <td>1312</td>\n",
       "      <td>147</td>\n",
       "      <td>0.100754</td>\n",
       "    </tr>\n",
       "    <tr>\n",
       "      <th>компаньон</th>\n",
       "      <td>5085</td>\n",
       "      <td>4577</td>\n",
       "      <td>508</td>\n",
       "      <td>0.099902</td>\n",
       "    </tr>\n",
       "    <tr>\n",
       "      <th>пенсионер</th>\n",
       "      <td>3856</td>\n",
       "      <td>3443</td>\n",
       "      <td>413</td>\n",
       "      <td>0.107106</td>\n",
       "    </tr>\n",
       "    <tr>\n",
       "      <th>предприниматель</th>\n",
       "      <td>2</td>\n",
       "      <td>1</td>\n",
       "      <td>1</td>\n",
       "      <td>0.500000</td>\n",
       "    </tr>\n",
       "    <tr>\n",
       "      <th>сотрудник</th>\n",
       "      <td>11119</td>\n",
       "      <td>10014</td>\n",
       "      <td>1105</td>\n",
       "      <td>0.099379</td>\n",
       "    </tr>\n",
       "    <tr>\n",
       "      <th>студент</th>\n",
       "      <td>1</td>\n",
       "      <td>1</td>\n",
       "      <td>0</td>\n",
       "      <td>0.000000</td>\n",
       "    </tr>\n",
       "  </tbody>\n",
       "</table>\n",
       "</div>"
      ],
      "text/plain": [
       "                 count_all  count_without_nan  diff      part\n",
       "income_type                                                  \n",
       "безработный              2                  2     0  0.000000\n",
       "в декрете                1                  1     0  0.000000\n",
       "госслужащий           1459               1312   147  0.100754\n",
       "компаньон             5085               4577   508  0.099902\n",
       "пенсионер             3856               3443   413  0.107106\n",
       "предприниматель          2                  1     1  0.500000\n",
       "сотрудник            11119              10014  1105  0.099379\n",
       "студент                  1                  1     0  0.000000"
      ]
     },
     "execution_count": 7,
     "metadata": {},
     "output_type": "execute_result"
    }
   ],
   "source": [
    "(\n",
    "    customer\n",
    "    .groupby('income_type')['income_type','total_income']\n",
    "    .count()\n",
    "    .rename(columns={'income_type':'count_all','total_income':'count_without_nan'})\n",
    "    .assign(\n",
    "          #количество пропусков\n",
    "          diff = lambda x: x['count_all']- x['count_without_nan'],\n",
    "          #доля пропусков\n",
    "          part = lambda x: x['diff']/x['count_all']\n",
    "    ) \n",
    ")"
   ]
  },
  {
   "cell_type": "markdown",
   "metadata": {},
   "source": [
    "Получили, что доля пропусков, присутствующих в типах занятости: госслужащий, компаньон, пенсионер и сотрудник, составляет 10%. Для данных типов занятости найдем среднее значение по группе и заполним пропуски.\n",
    "Что касается типа занятости 'предприниматель', то в нем присутствует всего 2 клиента, из которых данные по одному клиенту отсутствуют. Данный пропуск некорректно заполнять усредненной цифрой, поэтому данную строку удалим.\n",
    "Для начала вывели данные по предпринимателям, а после удалили строку и проверили."
   ]
  },
  {
   "cell_type": "code",
   "execution_count": 8,
   "metadata": {},
   "outputs": [
    {
     "data": {
      "text/html": [
       "<div>\n",
       "<style scoped>\n",
       "    .dataframe tbody tr th:only-of-type {\n",
       "        vertical-align: middle;\n",
       "    }\n",
       "\n",
       "    .dataframe tbody tr th {\n",
       "        vertical-align: top;\n",
       "    }\n",
       "\n",
       "    .dataframe thead th {\n",
       "        text-align: right;\n",
       "    }\n",
       "</style>\n",
       "<table border=\"1\" class=\"dataframe\">\n",
       "  <thead>\n",
       "    <tr style=\"text-align: right;\">\n",
       "      <th></th>\n",
       "      <th>children</th>\n",
       "      <th>days_employed</th>\n",
       "      <th>age</th>\n",
       "      <th>education</th>\n",
       "      <th>education_id</th>\n",
       "      <th>family_status</th>\n",
       "      <th>family_status_id</th>\n",
       "      <th>gender</th>\n",
       "      <th>income_type</th>\n",
       "      <th>debt</th>\n",
       "      <th>total_income</th>\n",
       "      <th>purpose</th>\n",
       "    </tr>\n",
       "  </thead>\n",
       "  <tbody>\n",
       "    <tr>\n",
       "      <th>5936</th>\n",
       "      <td>0</td>\n",
       "      <td>NaN</td>\n",
       "      <td>58</td>\n",
       "      <td>высшее</td>\n",
       "      <td>0</td>\n",
       "      <td>женат / замужем</td>\n",
       "      <td>0</td>\n",
       "      <td>M</td>\n",
       "      <td>предприниматель</td>\n",
       "      <td>0</td>\n",
       "      <td>NaN</td>\n",
       "      <td>покупка жилой недвижимости</td>\n",
       "    </tr>\n",
       "    <tr>\n",
       "      <th>18697</th>\n",
       "      <td>0</td>\n",
       "      <td>-520.848083</td>\n",
       "      <td>27</td>\n",
       "      <td>высшее</td>\n",
       "      <td>0</td>\n",
       "      <td>гражданский брак</td>\n",
       "      <td>1</td>\n",
       "      <td>F</td>\n",
       "      <td>предприниматель</td>\n",
       "      <td>0</td>\n",
       "      <td>499163.144947</td>\n",
       "      <td>на проведение свадьбы</td>\n",
       "    </tr>\n",
       "  </tbody>\n",
       "</table>\n",
       "</div>"
      ],
      "text/plain": [
       "       children  days_employed  age education  education_id     family_status  \\\n",
       "5936          0            NaN   58    высшее             0   женат / замужем   \n",
       "18697         0    -520.848083   27    высшее             0  гражданский брак   \n",
       "\n",
       "       family_status_id gender      income_type  debt   total_income  \\\n",
       "5936                  0      M  предприниматель     0            NaN   \n",
       "18697                 1      F  предприниматель     0  499163.144947   \n",
       "\n",
       "                          purpose  \n",
       "5936   покупка жилой недвижимости  \n",
       "18697       на проведение свадьбы  "
      ]
     },
     "metadata": {},
     "output_type": "display_data"
    }
   ],
   "source": [
    "display(customer[customer['income_type'] == 'предприниматель'])"
   ]
  },
  {
   "cell_type": "code",
   "execution_count": 9,
   "metadata": {
    "scrolled": true
   },
   "outputs": [
    {
     "name": "stdout",
     "output_type": "stream",
     "text": [
      "Количество строк до удаления:  21525\n",
      "Количество строк после удаления 21524\n",
      "\n",
      "сотрудник          11119\n",
      "компаньон           5085\n",
      "пенсионер           3856\n",
      "госслужащий         1459\n",
      "безработный            2\n",
      "предприниматель        1\n",
      "студент                1\n",
      "в декрете              1\n",
      "Name: income_type, dtype: int64\n"
     ]
    }
   ],
   "source": [
    "#вывод общего числа строк до удаления\n",
    "print('Количество строк до удаления: ',len(customer))\n",
    "\n",
    "#удаление строки с пропуском в типе занятости \"предприниматель\" и проверка.\n",
    "customer.drop(customer[(customer.income_type == 'предприниматель') \\\n",
    "                       & (customer.days_employed.isnull())].index, inplace=True)\n",
    "\n",
    "#вывод общего числа строк после удаления и количество клиентов по типу занятости\n",
    "print('Количество строк после удаления',len(customer))\n",
    "print('')\n",
    "print(customer['income_type'].value_counts())\n"
   ]
  },
  {
   "cell_type": "markdown",
   "metadata": {},
   "source": [
    "Пропущенные значения по остальным типам занятости заменим на средние в каждой категории.\n",
    "Как мы уже ранее видели в столбцах со стажем есть отрицательные значение. Возможно, это ошибка при выгрузке. Поэтому перед тем, как заменять пропуски на средние значения, данные этого столбца взяли по модулю и проверили, выведя первые 5 строк, в которых были минусовые значения."
   ]
  },
  {
   "cell_type": "code",
   "execution_count": 10,
   "metadata": {},
   "outputs": [
    {
     "data": {
      "text/html": [
       "<div>\n",
       "<style scoped>\n",
       "    .dataframe tbody tr th:only-of-type {\n",
       "        vertical-align: middle;\n",
       "    }\n",
       "\n",
       "    .dataframe tbody tr th {\n",
       "        vertical-align: top;\n",
       "    }\n",
       "\n",
       "    .dataframe thead th {\n",
       "        text-align: right;\n",
       "    }\n",
       "</style>\n",
       "<table border=\"1\" class=\"dataframe\">\n",
       "  <thead>\n",
       "    <tr style=\"text-align: right;\">\n",
       "      <th></th>\n",
       "      <th>children</th>\n",
       "      <th>days_employed</th>\n",
       "      <th>age</th>\n",
       "      <th>education</th>\n",
       "      <th>education_id</th>\n",
       "      <th>family_status</th>\n",
       "      <th>family_status_id</th>\n",
       "      <th>gender</th>\n",
       "      <th>income_type</th>\n",
       "      <th>debt</th>\n",
       "      <th>total_income</th>\n",
       "      <th>purpose</th>\n",
       "    </tr>\n",
       "  </thead>\n",
       "  <tbody>\n",
       "    <tr>\n",
       "      <th>0</th>\n",
       "      <td>1</td>\n",
       "      <td>8437.673028</td>\n",
       "      <td>42</td>\n",
       "      <td>высшее</td>\n",
       "      <td>0</td>\n",
       "      <td>женат / замужем</td>\n",
       "      <td>0</td>\n",
       "      <td>F</td>\n",
       "      <td>сотрудник</td>\n",
       "      <td>0</td>\n",
       "      <td>253875.639453</td>\n",
       "      <td>покупка жилья</td>\n",
       "    </tr>\n",
       "    <tr>\n",
       "      <th>1</th>\n",
       "      <td>1</td>\n",
       "      <td>4024.803754</td>\n",
       "      <td>36</td>\n",
       "      <td>среднее</td>\n",
       "      <td>1</td>\n",
       "      <td>женат / замужем</td>\n",
       "      <td>0</td>\n",
       "      <td>F</td>\n",
       "      <td>сотрудник</td>\n",
       "      <td>0</td>\n",
       "      <td>112080.014102</td>\n",
       "      <td>приобретение автомобиля</td>\n",
       "    </tr>\n",
       "    <tr>\n",
       "      <th>2</th>\n",
       "      <td>0</td>\n",
       "      <td>5623.422610</td>\n",
       "      <td>33</td>\n",
       "      <td>Среднее</td>\n",
       "      <td>1</td>\n",
       "      <td>женат / замужем</td>\n",
       "      <td>0</td>\n",
       "      <td>M</td>\n",
       "      <td>сотрудник</td>\n",
       "      <td>0</td>\n",
       "      <td>145885.952297</td>\n",
       "      <td>покупка жилья</td>\n",
       "    </tr>\n",
       "    <tr>\n",
       "      <th>3</th>\n",
       "      <td>3</td>\n",
       "      <td>4124.747207</td>\n",
       "      <td>32</td>\n",
       "      <td>среднее</td>\n",
       "      <td>1</td>\n",
       "      <td>женат / замужем</td>\n",
       "      <td>0</td>\n",
       "      <td>M</td>\n",
       "      <td>сотрудник</td>\n",
       "      <td>0</td>\n",
       "      <td>267628.550329</td>\n",
       "      <td>дополнительное образование</td>\n",
       "    </tr>\n",
       "    <tr>\n",
       "      <th>4</th>\n",
       "      <td>0</td>\n",
       "      <td>340266.072047</td>\n",
       "      <td>53</td>\n",
       "      <td>среднее</td>\n",
       "      <td>1</td>\n",
       "      <td>гражданский брак</td>\n",
       "      <td>1</td>\n",
       "      <td>F</td>\n",
       "      <td>пенсионер</td>\n",
       "      <td>0</td>\n",
       "      <td>158616.077870</td>\n",
       "      <td>сыграть свадьбу</td>\n",
       "    </tr>\n",
       "  </tbody>\n",
       "</table>\n",
       "</div>"
      ],
      "text/plain": [
       "   children  days_employed  age education  education_id     family_status  \\\n",
       "0         1    8437.673028   42    высшее             0   женат / замужем   \n",
       "1         1    4024.803754   36   среднее             1   женат / замужем   \n",
       "2         0    5623.422610   33   Среднее             1   женат / замужем   \n",
       "3         3    4124.747207   32   среднее             1   женат / замужем   \n",
       "4         0  340266.072047   53   среднее             1  гражданский брак   \n",
       "\n",
       "   family_status_id gender income_type  debt   total_income  \\\n",
       "0                 0      F   сотрудник     0  253875.639453   \n",
       "1                 0      F   сотрудник     0  112080.014102   \n",
       "2                 0      M   сотрудник     0  145885.952297   \n",
       "3                 0      M   сотрудник     0  267628.550329   \n",
       "4                 1      F   пенсионер     0  158616.077870   \n",
       "\n",
       "                      purpose  \n",
       "0               покупка жилья  \n",
       "1     приобретение автомобиля  \n",
       "2               покупка жилья  \n",
       "3  дополнительное образование  \n",
       "4             сыграть свадьбу  "
      ]
     },
     "metadata": {},
     "output_type": "display_data"
    }
   ],
   "source": [
    "customer['days_employed'] = abs(customer['days_employed'])\n",
    "display(customer.head())"
   ]
  },
  {
   "cell_type": "markdown",
   "metadata": {},
   "source": [
    "Далее нашли средние показатели по категориям клиентов. Для трудового стажа в днях в качестве среднего использовали среднее арифмитеческое значение - функция `mean`, так как данные такого типа имеют ограниченный диапазон значений. А в качестве среднего показателя ежемесячного дохода использовали медиану `median`, так как в данной выборке могут быть сильно выделяющиеся значения, которые повлияют на итоговый результат."
   ]
  },
  {
   "cell_type": "code",
   "execution_count": 11,
   "metadata": {},
   "outputs": [],
   "source": [
    "#находит средние показатели трудового стажа и медиану ежемесячного дохода \n",
    "#по категории клиентов \"госслужащие\"\n",
    "jobholder_days_employed_avg = customer[customer['income_type'] == 'госслужащий']['days_employed'].mean()\n",
    "jobholder_total_income_avg = customer[customer['income_type'] == 'госслужащий']['total_income'].median()\n",
    "\n",
    "\n",
    "#находит средние показатели трудового стажа и медиану ежемесячного дохода \n",
    "#по категории клиентов \"компаньон\"\n",
    "partner_days_employed_avg = customer[customer['income_type'] == 'компаньон']['days_employed'].mean()\n",
    "partner_total_income_avg = customer[customer['income_type'] == 'компаньон']['total_income'].median()\n",
    "\n",
    "\n",
    "#находит средние показатели трудового стажа и медиану ежемесячного дохода \n",
    "#по категории клиентов \"пенсионер\"\n",
    "retiree_days_employed_avg = customer[customer['income_type'] == 'пенсионер']['days_employed'].mean()\n",
    "retiree_total_income_avg = customer[customer['income_type'] == 'пенсионер']['total_income'].median()\n",
    "\n",
    "\n",
    "#находит средние показатели трудового стажа и медиану ежемесячного дохода \n",
    "#по категории клиентов \"сотрудник\"\n",
    "employee_days_employed_avg = customer[customer['income_type'] == 'сотрудник']['days_employed'].mean()\n",
    "employee_total_income_avg = customer[customer['income_type'] == 'сотрудник']['total_income'].median()"
   ]
  },
  {
   "cell_type": "markdown",
   "metadata": {},
   "source": [
    "Следующим шагом заменили пропуски на средние значения."
   ]
  },
  {
   "cell_type": "code",
   "execution_count": 12,
   "metadata": {},
   "outputs": [
    {
     "name": "stdout",
     "output_type": "stream",
     "text": [
      "children            0\n",
      "days_employed       0\n",
      "age                 0\n",
      "education           0\n",
      "education_id        0\n",
      "family_status       0\n",
      "family_status_id    0\n",
      "gender              0\n",
      "income_type         0\n",
      "debt                0\n",
      "total_income        0\n",
      "purpose             0\n",
      "dtype: int64\n"
     ]
    }
   ],
   "source": [
    "#замена пропусков в типе занятости \"госслужащие\"\n",
    "\n",
    "customer.loc[customer['income_type'] == 'госслужащий', 'days_employed'] = customer[customer['income_type'] == 'госслужащий']['days_employed'].fillna(jobholder_days_employed_avg)\n",
    "customer.loc[customer['income_type'] == 'госслужащий', 'total_income'] = customer[customer['income_type'] == 'госслужащий']['total_income'].fillna(jobholder_total_income_avg)\n",
    "\n",
    "#замена пропусков в типе занятости \"компаньон\"\n",
    "\n",
    "customer.loc[customer['income_type'] == 'компаньон', 'days_employed'] = customer[customer['income_type'] == 'компаньон']['days_employed'].fillna(partner_days_employed_avg)\n",
    "customer.loc[customer['income_type'] == 'компаньон', 'total_income'] = customer[customer['income_type'] == 'компаньон']['total_income'].fillna(partner_total_income_avg)\n",
    "\n",
    "#замена пропусков в типе занятости \"пенсионер\"\n",
    "\n",
    "customer.loc[customer['income_type'] == 'пенсионер', 'days_employed'] = customer[customer['income_type'] == 'пенсионер']['days_employed'].fillna(retiree_days_employed_avg)\n",
    "customer.loc[customer['income_type'] == 'пенсионер', 'total_income'] = customer[customer['income_type'] == 'пенсионер']['total_income'].fillna(retiree_total_income_avg)\n",
    "\n",
    "#замена пропусков в типе занятости \"сотрудник\"\n",
    "\n",
    "customer.loc[customer['income_type'] == 'сотрудник', 'days_employed'] = customer[customer['income_type'] == 'сотрудник']['days_employed'].fillna(employee_days_employed_avg)\n",
    "customer.loc[customer['income_type'] == 'сотрудник', 'total_income'] = customer[customer['income_type'] == 'сотрудник']['total_income'].fillna(employee_total_income_avg)\n",
    "\n",
    "#выводит на экран информацию о наличии пропусках в таблице \"customer\"\n",
    "print(customer.isnull().sum())"
   ]
  },
  {
   "cell_type": "markdown",
   "metadata": {
    "scrolled": true
   },
   "source": [
    "Замена прошла успешно."
   ]
  },
  {
   "cell_type": "markdown",
   "metadata": {},
   "source": [
    "Промежуточные рузультаты.\n",
    "Мы выявили пропуски в двух столбцах: \"общий трудовой стаж в днях\" и \"ежемесячный доход\". Посмотрели, для каких типов занятости свойственны пропуски. Пропуски выявлены у пенсионеров, госслужащих, сотрудников, компаньонов и предпринимателей. Во всех группах, за исключением предпринимателей, доля пропусков составила 10 и менее процентов. По ним пропуски заменили на средние значения в типе занятости. Предпринимателей в данных было всего двое и у одного из них присутствовали пропуски. Заменять значение на среднее не корректно, в связи с чем приняли решение удалить данный пропуск."
   ]
  },
  {
   "cell_type": "markdown",
   "metadata": {},
   "source": [
    "### Работа с типами данных"
   ]
  },
  {
   "cell_type": "markdown",
   "metadata": {},
   "source": [
    "Следующим шагом перешли к проверке и, при необходимости, изменению типа данных.\n",
    "Посмотрели еще раз на общую информацию."
   ]
  },
  {
   "cell_type": "code",
   "execution_count": 13,
   "metadata": {
    "scrolled": true
   },
   "outputs": [
    {
     "name": "stdout",
     "output_type": "stream",
     "text": [
      "<class 'pandas.core.frame.DataFrame'>\n",
      "Int64Index: 21524 entries, 0 to 21524\n",
      "Data columns (total 12 columns):\n",
      " #   Column            Non-Null Count  Dtype  \n",
      "---  ------            --------------  -----  \n",
      " 0   children          21524 non-null  int64  \n",
      " 1   days_employed     21524 non-null  float64\n",
      " 2   age               21524 non-null  int64  \n",
      " 3   education         21524 non-null  object \n",
      " 4   education_id      21524 non-null  int64  \n",
      " 5   family_status     21524 non-null  object \n",
      " 6   family_status_id  21524 non-null  int64  \n",
      " 7   gender            21524 non-null  object \n",
      " 8   income_type       21524 non-null  object \n",
      " 9   debt              21524 non-null  int64  \n",
      " 10  total_income      21524 non-null  float64\n",
      " 11  purpose           21524 non-null  object \n",
      "dtypes: float64(2), int64(5), object(5)\n",
      "memory usage: 11.8 MB\n"
     ]
    }
   ],
   "source": [
    "customer.info(memory_usage='deep')"
   ]
  },
  {
   "cell_type": "markdown",
   "metadata": {},
   "source": [
    "В наших данных 2 столбца типа `float64`, 5 столбцов типа `int64` и 5 столбцов типа `object`. \n",
    "Занимаемая память таблицей `customer` - 11.8 МВ. \n",
    "Посмотрели сколько памяти в среднем занимает конкретный тип в таблице `customer`."
   ]
  },
  {
   "cell_type": "code",
   "execution_count": 14,
   "metadata": {},
   "outputs": [
    {
     "name": "stdout",
     "output_type": "stream",
     "text": [
      "Среднее потребление памяти столбцами типа float: 0.16 MB\n",
      "Среднее потребление памяти столбцами типа int: 0.16 MB\n",
      "Среднее потребление памяти столбцами типа object: 1.78 MB\n"
     ]
    }
   ],
   "source": [
    "def memory_usage_type(customer):\n",
    "    #Функция memory_usage_type принимает на вход DataFrame, отбирает стобцы заданного типа\n",
    "    #данных: float, int и object. \n",
    "    #Далее определяет по каждому типу данных среднее потребление памяти, \n",
    "    #переводит в МВ и выводит на экран.\n",
    "    \n",
    "    for dtype in ['float','int','object']:\n",
    "        selected_dtype = customer.select_dtypes(include=[dtype])\n",
    "        mean_usage_b = selected_dtype.memory_usage(deep=True).mean()\n",
    "        mean_usage_mb = mean_usage_b / 1024 ** 2\n",
    "        print(\"Среднее потребление памяти столбцами типа {}: {:03.2f} MB\".format(dtype,mean_usage_mb))\n",
    "        \n",
    "memory_usage_type(customer)"
   ]
  },
  {
   "cell_type": "markdown",
   "metadata": {},
   "source": [
    "Среднее потребление типами float и int одинаковое - 0.16 МВ. Больше всего памяти занимают столбцы типа object - 1.78 МВ. С них и начали работу по изменению типов данных.\n",
    "\n",
    "К ним относятся столбцы `education`, `family_status`, `gender`, `income_type` и `purpose`. Чтобы уменьшить потребление памяти, необходимо перевести тип `object` в тип `category`, но данный тип мы не можем использовать для всех строковых значений. Если посмотреть еще раз на структуру данных, то для значений \"семейное положение `family_status` у нас уже есть идентификатор `family_status_id`. В этом случае гораздо логичнее выделить их в новый словарь не изменяя тип данных, что мы сделали на этапе \"2.5 Категоризации данных\". \n",
    "Рассмотрели какое количество уникальных значений содержится в оставшихся колонках."
   ]
  },
  {
   "cell_type": "code",
   "execution_count": 15,
   "metadata": {},
   "outputs": [
    {
     "name": "stdout",
     "output_type": "stream",
     "text": [
      "Общее количество строк:  21524\n",
      "Количество уникальных значений в столбце education: 15\n",
      "Количество уникальных значений в столбце gender: 3\n",
      "Количество уникальных значений в столбце income_type: 8\n",
      "Количество уникальных значений в столбце purpose: 38\n"
     ]
    }
   ],
   "source": [
    "#Выводит общее количество строк\n",
    "print('Общее количество строк: ', len(customer))\n",
    "\n",
    "#Присваивает массиву данных customer_object названия необходимых столбцов.\n",
    "#Для каждого анализируемого столбца подсчитывает количество уникальных значений и выводит\n",
    "#их на экран\n",
    "customer_object = ['education','gender','income_type','purpose']\n",
    "for column in customer_object:\n",
    "    column_unique = customer[column].unique()\n",
    "    print(\"Количество уникальных значений в столбце {}: {}\".format(column,len(column_unique)))"
   ]
  },
  {
   "cell_type": "markdown",
   "metadata": {},
   "source": [
    "В данных `education`, `gender` и`income_type` содержится небольшое число определенные уникальные категории. Для них мы можем использовать тип `category`.\n",
    "А вот тип данных столбца `purpose` оставим `object`. Хотя он также имеет всего 38 уникальных значений, но они не имеют определенную категоризацию. Для приведения их в дальнейшем к единым категориям удобнее будет использовать строковый тип данных.\n",
    "Посмотрели, как изменилось потребление памяти."
   ]
  },
  {
   "cell_type": "code",
   "execution_count": 16,
   "metadata": {},
   "outputs": [
    {
     "name": "stdout",
     "output_type": "stream",
     "text": [
      "Среднее потребление памяти столбцами типа float: 0.16 MB\n",
      "Среднее потребление памяти столбцами типа int: 0.16 MB\n",
      "Среднее потребление памяти столбцами типа object: 1.99 MB\n"
     ]
    }
   ],
   "source": [
    "#изменение типа данных с `object` на 'category'\n",
    "customer['education'] = customer['education'].astype('category')\n",
    "customer['gender'] = customer['gender'].astype('category')\n",
    "customer['income_type'] = customer['income_type'].astype('category')\n",
    "\n",
    "memory_usage_type(customer)"
   ]
  },
  {
   "cell_type": "code",
   "execution_count": 17,
   "metadata": {},
   "outputs": [
    {
     "name": "stdout",
     "output_type": "stream",
     "text": [
      "<class 'pandas.core.frame.DataFrame'>\n",
      "Int64Index: 21524 entries, 0 to 21524\n",
      "Data columns (total 12 columns):\n",
      " #   Column            Non-Null Count  Dtype   \n",
      "---  ------            --------------  -----   \n",
      " 0   children          21524 non-null  int64   \n",
      " 1   days_employed     21524 non-null  float64 \n",
      " 2   age               21524 non-null  int64   \n",
      " 3   education         21524 non-null  category\n",
      " 4   education_id      21524 non-null  int64   \n",
      " 5   family_status     21524 non-null  object  \n",
      " 6   family_status_id  21524 non-null  int64   \n",
      " 7   gender            21524 non-null  category\n",
      " 8   income_type       21524 non-null  category\n",
      " 9   debt              21524 non-null  int64   \n",
      " 10  total_income      21524 non-null  float64 \n",
      " 11  purpose           21524 non-null  object  \n",
      "dtypes: category(3), float64(2), int64(5), object(2)\n",
      "memory usage: 7.2 MB\n"
     ]
    }
   ],
   "source": [
    "customer.info(memory_usage='deep')"
   ]
  },
  {
   "cell_type": "markdown",
   "metadata": {},
   "source": [
    "Хотя среднее потребление памяти столбцами типа `object` увеличилось с 1.78 до 1.99 МВ (связано с уменьшением количества столбцов и тем, что в типах `object` остался самый \"тяжелый\" столбец `purpose`), общее потребление памяти снизилось на 40% с 11.8 до 7.2 МВ."
   ]
  },
  {
   "cell_type": "markdown",
   "metadata": {},
   "source": [
    "Далее перешли к столбцам типа данных float64: \"общий трудовой стаж в днях\" и \"ежемесячный доход\".\n",
    "Мы рассмотрели минимальное, среднее и максимальное значение общего трудового стажа в днях и перевели его в года."
   ]
  },
  {
   "cell_type": "code",
   "execution_count": 18,
   "metadata": {
    "scrolled": false
   },
   "outputs": [
    {
     "name": "stdout",
     "output_type": "stream",
     "text": [
      "Минимальный стаж в годах: 0 лет\n",
      "Средний стаж в годах: 185 лет\n",
      "Максимальный стаж в годах: 1101 лет\n"
     ]
    }
   ],
   "source": [
    "#Минимальный стаж в годах в столбце days_employed\n",
    "year_empl_min = customer['days_employed'].min()/365\n",
    "print('Минимальный стаж в годах: {:.0f} лет'.format(year_empl_min))\n",
    "\n",
    "#Средний стаж в годах в столбце days_employed\n",
    "year_empl_avg = customer['days_employed'].mean()/365\n",
    "print('Средний стаж в годах: {:.0f} лет'.format(year_empl_avg))\n",
    "\n",
    "#Максимальный стаж в годах в столбце days_employed\n",
    "year_empl_max = customer['days_employed'].max()/365\n",
    "print('Максимальный стаж в годах: {:.0f} лет'.format(year_empl_max))"
   ]
  },
  {
   "cell_type": "markdown",
   "metadata": {},
   "source": [
    "На основании данных результатов видно, что либо в данных есть ошибка, либо использована какая-то специфическая система учета стажа. Для реализации целей нашего анализа информация о трудовом стаже клиентов не обязательна, поэтому данные значения оставили без изменения типа данных."
   ]
  },
  {
   "cell_type": "markdown",
   "metadata": {},
   "source": [
    "Что же касается ежемесячного дохода, то он необходим для нашего анализа, но точность до запятых нам не нужна. В связи с этим воспользовались методом `astype` и перевели данные из вещественного типа в целочисленное."
   ]
  },
  {
   "cell_type": "code",
   "execution_count": 19,
   "metadata": {
    "scrolled": true
   },
   "outputs": [],
   "source": [
    "#Изменяет для каждого значения в столбце 'total_income' тип данных с float на int.\n",
    "customer['total_income'] = customer['total_income'].astype('int')"
   ]
  },
  {
   "cell_type": "markdown",
   "metadata": {},
   "source": [
    "Проверили минимальное и максимальное значения ежемесячного дохода."
   ]
  },
  {
   "cell_type": "code",
   "execution_count": 20,
   "metadata": {},
   "outputs": [
    {
     "name": "stdout",
     "output_type": "stream",
     "text": [
      "Минимальный ежемесяный доход:  20667\n",
      "Максимальный ежемесяный доход:  2265604\n"
     ]
    }
   ],
   "source": [
    "#Минимальный ежемесяный доход total_income\n",
    "income_min = customer['total_income'].min()\n",
    "print('Минимальный ежемесяный доход: ', income_min)\n",
    "\n",
    "#Максимальный ежемесяный доход total_income\n",
    "income_max = customer['total_income'].max()\n",
    "print('Максимальный ежемесяный доход: ', income_max)"
   ]
  },
  {
   "cell_type": "markdown",
   "metadata": {},
   "source": [
    "Проверили изменение типа данных с помощью функции `info`. Изменение произошло успешно."
   ]
  },
  {
   "cell_type": "code",
   "execution_count": 21,
   "metadata": {},
   "outputs": [
    {
     "name": "stdout",
     "output_type": "stream",
     "text": [
      "Среднее потребление памяти столбцами типа float: 0.16 MB\n",
      "Среднее потребление памяти столбцами типа int: 0.16 MB\n",
      "Среднее потребление памяти столбцами типа object: 1.99 MB\n"
     ]
    }
   ],
   "source": [
    "memory_usage_type(customer)"
   ]
  },
  {
   "cell_type": "code",
   "execution_count": 22,
   "metadata": {
    "scrolled": true
   },
   "outputs": [
    {
     "name": "stdout",
     "output_type": "stream",
     "text": [
      "<class 'pandas.core.frame.DataFrame'>\n",
      "Int64Index: 21524 entries, 0 to 21524\n",
      "Data columns (total 12 columns):\n",
      " #   Column            Non-Null Count  Dtype   \n",
      "---  ------            --------------  -----   \n",
      " 0   children          21524 non-null  int64   \n",
      " 1   days_employed     21524 non-null  float64 \n",
      " 2   age               21524 non-null  int64   \n",
      " 3   education         21524 non-null  category\n",
      " 4   education_id      21524 non-null  int64   \n",
      " 5   family_status     21524 non-null  object  \n",
      " 6   family_status_id  21524 non-null  int64   \n",
      " 7   gender            21524 non-null  category\n",
      " 8   income_type       21524 non-null  category\n",
      " 9   debt              21524 non-null  int64   \n",
      " 10  total_income      21524 non-null  int64   \n",
      " 11  purpose           21524 non-null  object  \n",
      "dtypes: category(3), float64(1), int64(6), object(2)\n",
      "memory usage: 7.2 MB\n"
     ]
    }
   ],
   "source": [
    "customer.info(memory_usage='deep')"
   ]
  },
  {
   "cell_type": "markdown",
   "metadata": {},
   "source": [
    "Данное изменение не повлияло на потреблении памяти, но упростило дальнейшую работу по анализу значениями ежемесячного дохода.\n",
    "\n",
    "Осталось рассмотреть тип данных `int`. Вывели минимальное и максимальное значение для каждого столбца."
   ]
  },
  {
   "cell_type": "code",
   "execution_count": 23,
   "metadata": {},
   "outputs": [
    {
     "name": "stdout",
     "output_type": "stream",
     "text": [
      "Столбец children: минимальное значение -1,максимальное 20\n",
      "Столбец age: минимальное значение 0,максимальное 75\n",
      "Столбец education_id: минимальное значение 0,максимальное 4\n",
      "Столбец family_status_id: минимальное значение 0,максимальное 4\n",
      "Столбец debt: минимальное значение 0,максимальное 1\n"
     ]
    }
   ],
   "source": [
    "#Присваивает массиву данных customer_int названия необходимых столбцов.\n",
    "#Для каждого анализируемого столбца выводит минимальное и максимальное значение на экран\n",
    "customer_int = ['children','age','education_id','family_status_id','debt']\n",
    "for column in customer_int:\n",
    "    column_max = customer[column].max()\n",
    "    column_min = customer[column].min()\n",
    "    print(\"Столбец {}: минимальное значение {},максимальное {}\".format(column,\n",
    "                                                                       column_min,\n",
    "                                                                       column_max))"
   ]
  },
  {
   "cell_type": "markdown",
   "metadata": {},
   "source": [
    "Все значения данных столбцов имеют ограниченное количество значений, поэтому мы изменили тип данных на `int8` с помощью функции `astype`."
   ]
  },
  {
   "cell_type": "code",
   "execution_count": 24,
   "metadata": {},
   "outputs": [],
   "source": [
    "#изменяет тип данных на 'int8'\n",
    "customer['children'] = customer['children'].astype('int8')\n",
    "customer['age'] = customer['age'].astype('int8')\n",
    "customer['education_id'] = customer['education_id'].astype('int8')\n",
    "customer['family_status_id'] = customer['family_status_id'].astype('int8')\n",
    "customer['debt'] = customer['debt'].astype('int8')"
   ]
  },
  {
   "cell_type": "markdown",
   "metadata": {},
   "source": [
    "Проверили как изменилось потребление память после всех изменений."
   ]
  },
  {
   "cell_type": "code",
   "execution_count": 25,
   "metadata": {},
   "outputs": [
    {
     "name": "stdout",
     "output_type": "stream",
     "text": [
      "Среднее потребление памяти столбцами типа float: 0.16 MB\n",
      "Среднее потребление памяти столбцами типа int: 0.16 MB\n",
      "Среднее потребление памяти столбцами типа object: 1.99 MB\n"
     ]
    }
   ],
   "source": [
    "memory_usage_type(customer)"
   ]
  },
  {
   "cell_type": "code",
   "execution_count": 26,
   "metadata": {
    "scrolled": false
   },
   "outputs": [
    {
     "name": "stdout",
     "output_type": "stream",
     "text": [
      "<class 'pandas.core.frame.DataFrame'>\n",
      "Int64Index: 21524 entries, 0 to 21524\n",
      "Data columns (total 12 columns):\n",
      " #   Column            Non-Null Count  Dtype   \n",
      "---  ------            --------------  -----   \n",
      " 0   children          21524 non-null  int8    \n",
      " 1   days_employed     21524 non-null  float64 \n",
      " 2   age               21524 non-null  int8    \n",
      " 3   education         21524 non-null  category\n",
      " 4   education_id      21524 non-null  int8    \n",
      " 5   family_status     21524 non-null  object  \n",
      " 6   family_status_id  21524 non-null  int8    \n",
      " 7   gender            21524 non-null  category\n",
      " 8   income_type       21524 non-null  category\n",
      " 9   debt              21524 non-null  int8    \n",
      " 10  total_income      21524 non-null  int64   \n",
      " 11  purpose           21524 non-null  object  \n",
      "dtypes: category(3), float64(1), int64(1), int8(5), object(2)\n",
      "memory usage: 6.5 MB\n"
     ]
    }
   ],
   "source": [
    "customer.info(memory_usage='deep')"
   ]
  },
  {
   "cell_type": "markdown",
   "metadata": {},
   "source": [
    "Среднее потребление памяти столбцами типа `int` не изменилось, но потребление памяти снизилось с 7.2 до 6.5 МВ."
   ]
  },
  {
   "cell_type": "markdown",
   "metadata": {},
   "source": [
    "Промежуточные результаты.\n",
    "С помощью метода `astype` изменили тип данных с `float` на `int` для значений \"ежемесячный доход\" `total_income`. Изменили тип данных с `object` на `category` для столбцов \"образование\" `education`, \"пол\" `gender` и \"тип занятости\" `income_type`.\n",
    "Общее потребление памяти снизили  почти вдвое: с 11,8 МВ до 6,5 МВ.\n",
    "Данные в столбце \"трудовой стаж в днях\" `days_employed` не корректны и для анализа использованы не будут, поэтому было принято решения оставить их без изменения."
   ]
  },
  {
   "cell_type": "markdown",
   "metadata": {},
   "source": [
    "### Поиск и удаление дубликатов"
   ]
  },
  {
   "cell_type": "markdown",
   "metadata": {},
   "source": [
    "Начали проверку дубликатов с просмотра, как внесены строковые данные, есть ли разные регистры или разное написание в столбцах: образование `education`, семейное положение `family_status`, пол `gender`.\n",
    "Сначала посмотрим данные в столбце образование `education`.\n",
    "Столбец тип занятости `income_type` мы уже видели в предыдущем разделе, начилие дубликатов в нем не выявлено."
   ]
  },
  {
   "cell_type": "code",
   "execution_count": 27,
   "metadata": {
    "scrolled": true
   },
   "outputs": [
    {
     "name": "stdout",
     "output_type": "stream",
     "text": [
      "education\n",
      "ВЫСШЕЕ                   274\n",
      "Высшее                   268\n",
      "НАЧАЛЬНОЕ                 17\n",
      "НЕОКОНЧЕННОЕ ВЫСШЕЕ       29\n",
      "Начальное                 15\n",
      "Неоконченное высшее       47\n",
      "СРЕДНЕЕ                  772\n",
      "Среднее                  711\n",
      "УЧЕНАЯ СТЕПЕНЬ             1\n",
      "Ученая степень             1\n",
      "высшее                  4717\n",
      "начальное                250\n",
      "неоконченное высшее      668\n",
      "среднее                13750\n",
      "ученая степень             4\n",
      "Name: education, dtype: int64\n"
     ]
    }
   ],
   "source": [
    "print(customer.groupby('education')['education'].count())"
   ]
  },
  {
   "cell_type": "markdown",
   "metadata": {},
   "source": [
    "По данным видно, что одни и те же значения указаны в разных регистрах.\n",
    "Исправили это с помощью метода `str.lower()` и проверили."
   ]
  },
  {
   "cell_type": "code",
   "execution_count": 28,
   "metadata": {
    "scrolled": true
   },
   "outputs": [
    {
     "name": "stdout",
     "output_type": "stream",
     "text": [
      "education\n",
      "высшее                  5259\n",
      "начальное                282\n",
      "неоконченное высшее      744\n",
      "среднее                15233\n",
      "ученая степень             6\n",
      "Name: education, dtype: int64\n"
     ]
    }
   ],
   "source": [
    "customer['education'] = customer['education'].str.lower()\n",
    "print(customer.groupby('education')['education'].count())"
   ]
  },
  {
   "cell_type": "markdown",
   "metadata": {},
   "source": [
    "Привели данные по образованию к одному регистру и убрали дубли. Далее перешли к стобцу семейное положение."
   ]
  },
  {
   "cell_type": "code",
   "execution_count": 29,
   "metadata": {
    "scrolled": true
   },
   "outputs": [
    {
     "name": "stdout",
     "output_type": "stream",
     "text": [
      "family_status\n",
      "Не женат / не замужем     2813\n",
      "в разводе                 1195\n",
      "вдовец / вдова             960\n",
      "гражданский брак          4177\n",
      "женат / замужем          12379\n",
      "Name: family_status, dtype: int64\n"
     ]
    }
   ],
   "source": [
    "print(customer.groupby('family_status')['family_status'].count())"
   ]
  },
  {
   "cell_type": "markdown",
   "metadata": {},
   "source": [
    "Дублирование данных в данном столбце нет, но мы убрали верхний регистр в 'Не женат / не замужем'."
   ]
  },
  {
   "cell_type": "code",
   "execution_count": 30,
   "metadata": {},
   "outputs": [
    {
     "name": "stdout",
     "output_type": "stream",
     "text": [
      "family_status\n",
      "в разводе                 1195\n",
      "вдовец / вдова             960\n",
      "гражданский брак          4177\n",
      "женат / замужем          12379\n",
      "не женат / не замужем     2813\n",
      "Name: family_status, dtype: int64\n"
     ]
    }
   ],
   "source": [
    "customer['family_status'] = customer['family_status'].str.lower()\n",
    "print(customer.groupby('family_status')['family_status'].count())"
   ]
  },
  {
   "cell_type": "markdown",
   "metadata": {},
   "source": [
    "Следующим рассмотрели столбец \"пол\"."
   ]
  },
  {
   "cell_type": "code",
   "execution_count": 31,
   "metadata": {
    "scrolled": true
   },
   "outputs": [
    {
     "name": "stdout",
     "output_type": "stream",
     "text": [
      "gender\n",
      "F      14236\n",
      "M       7287\n",
      "XNA        1\n",
      "Name: gender, dtype: int64\n"
     ]
    }
   ],
   "source": [
    "print(customer.groupby('gender')['gender'].count())"
   ]
  },
  {
   "cell_type": "markdown",
   "metadata": {},
   "source": [
    "Получили странное значение в гендере \"XNA\". Вывели данную строку для просмотра."
   ]
  },
  {
   "cell_type": "code",
   "execution_count": 32,
   "metadata": {},
   "outputs": [
    {
     "data": {
      "text/html": [
       "<div>\n",
       "<style scoped>\n",
       "    .dataframe tbody tr th:only-of-type {\n",
       "        vertical-align: middle;\n",
       "    }\n",
       "\n",
       "    .dataframe tbody tr th {\n",
       "        vertical-align: top;\n",
       "    }\n",
       "\n",
       "    .dataframe thead th {\n",
       "        text-align: right;\n",
       "    }\n",
       "</style>\n",
       "<table border=\"1\" class=\"dataframe\">\n",
       "  <thead>\n",
       "    <tr style=\"text-align: right;\">\n",
       "      <th></th>\n",
       "      <th>children</th>\n",
       "      <th>days_employed</th>\n",
       "      <th>age</th>\n",
       "      <th>education</th>\n",
       "      <th>education_id</th>\n",
       "      <th>family_status</th>\n",
       "      <th>family_status_id</th>\n",
       "      <th>gender</th>\n",
       "      <th>income_type</th>\n",
       "      <th>debt</th>\n",
       "      <th>total_income</th>\n",
       "      <th>purpose</th>\n",
       "    </tr>\n",
       "  </thead>\n",
       "  <tbody>\n",
       "    <tr>\n",
       "      <th>10701</th>\n",
       "      <td>0</td>\n",
       "      <td>2358.600502</td>\n",
       "      <td>24</td>\n",
       "      <td>неоконченное высшее</td>\n",
       "      <td>2</td>\n",
       "      <td>гражданский брак</td>\n",
       "      <td>1</td>\n",
       "      <td>XNA</td>\n",
       "      <td>компаньон</td>\n",
       "      <td>0</td>\n",
       "      <td>203905</td>\n",
       "      <td>покупка недвижимости</td>\n",
       "    </tr>\n",
       "  </tbody>\n",
       "</table>\n",
       "</div>"
      ],
      "text/plain": [
       "       children  days_employed  age            education  education_id  \\\n",
       "10701         0    2358.600502   24  неоконченное высшее             2   \n",
       "\n",
       "          family_status  family_status_id gender income_type  debt  \\\n",
       "10701  гражданский брак                 1    XNA   компаньон     0   \n",
       "\n",
       "       total_income               purpose  \n",
       "10701        203905  покупка недвижимости  "
      ]
     },
     "metadata": {},
     "output_type": "display_data"
    }
   ],
   "source": [
    "display(customer[customer['gender'] == 'XNA'])"
   ]
  },
  {
   "cell_type": "markdown",
   "metadata": {},
   "source": [
    "Данное значение можно отнести к артефакту. Возможно, в данных был пропуск и \"XNA\" - выбранный метод для заполнения таких пропусков. Так как это всего одна строка из 5085 строк, то ее удаление не повлияет на итоговый результат. Это будет самый оптимальный способ в данном случае."
   ]
  },
  {
   "cell_type": "code",
   "execution_count": 33,
   "metadata": {},
   "outputs": [
    {
     "name": "stdout",
     "output_type": "stream",
     "text": [
      "F      14236\n",
      "M       7287\n",
      "XNA        0\n",
      "Name: gender, dtype: int64\n"
     ]
    }
   ],
   "source": [
    "customer.drop(customer[customer.gender == 'XNA'].index, inplace=True)\n",
    "print(customer['gender'].value_counts())"
   ]
  },
  {
   "cell_type": "markdown",
   "metadata": {},
   "source": [
    "Данные по полу чистые, перешли к проверке дубликатов с помощью функций `duplicated` и `sum`."
   ]
  },
  {
   "cell_type": "code",
   "execution_count": 34,
   "metadata": {
    "scrolled": false
   },
   "outputs": [
    {
     "name": "stdout",
     "output_type": "stream",
     "text": [
      "Количество дупликатов 71\n"
     ]
    }
   ],
   "source": [
    "print('Количество дупликатов', customer.duplicated().sum())"
   ]
  },
  {
   "cell_type": "code",
   "execution_count": 35,
   "metadata": {
    "scrolled": true
   },
   "outputs": [
    {
     "name": "stdout",
     "output_type": "stream",
     "text": [
      "Количество дупликатов 0\n"
     ]
    }
   ],
   "source": [
    "#удаление дубликатов и проверка\n",
    "customer = customer.drop_duplicates()\n",
    "print('Количество дупликатов', customer.duplicated().sum())"
   ]
  },
  {
   "cell_type": "markdown",
   "metadata": {},
   "source": [
    "После чего проверили, какие значения хранятся в количественных данных:\n",
    "- количество детей в семье `children`\n",
    "- возраст клиента в годах `age`\n",
    "- имел ли задолженность по возврату кредитов `debt`"
   ]
  },
  {
   "cell_type": "code",
   "execution_count": 36,
   "metadata": {
    "scrolled": true
   },
   "outputs": [
    {
     "name": "stdout",
     "output_type": "stream",
     "text": [
      "children\n",
      "-1        47\n",
      " 0     14089\n",
      " 1      4808\n",
      " 2      2052\n",
      " 3       330\n",
      " 4        41\n",
      " 5         9\n",
      " 20       76\n",
      "Name: children, dtype: int64\n"
     ]
    }
   ],
   "source": [
    "#вывод сгруппировонных данных и их количество в столбце children\n",
    "print(customer.groupby('children')['children'].count())"
   ]
  },
  {
   "cell_type": "markdown",
   "metadata": {},
   "source": [
    "Встречаем артефакты - количество детей \"-1\" и \"20\". Возможно, это ошибки ввода и должны были быть значения \"1\" и \"2\", а может быть возникла ошибка при выгрузки. Мы не знаем причину наверняка и доля таких строк составляет всего 0,005%, поэтому корректнее всего удалить их."
   ]
  },
  {
   "cell_type": "code",
   "execution_count": 37,
   "metadata": {
    "scrolled": true
   },
   "outputs": [
    {
     "name": "stdout",
     "output_type": "stream",
     "text": [
      "children\n",
      "0    14089\n",
      "1     4808\n",
      "2     2052\n",
      "3      330\n",
      "4       41\n",
      "5        9\n",
      "Name: children, dtype: int64\n"
     ]
    }
   ],
   "source": [
    "customer.drop(customer[customer.children == -1].index, inplace=True)\n",
    "customer.drop(customer[customer.children == 20].index, inplace=True)\n",
    "print(customer.groupby('children')['children'].count())"
   ]
  },
  {
   "cell_type": "markdown",
   "metadata": {},
   "source": [
    "Следующим шагом проверили данные по возрасту клиентов"
   ]
  },
  {
   "cell_type": "code",
   "execution_count": 38,
   "metadata": {
    "scrolled": true
   },
   "outputs": [
    {
     "name": "stdout",
     "output_type": "stream",
     "text": [
      "age\n",
      "0     100\n",
      "19     14\n",
      "20     51\n",
      "21    110\n",
      "22    183\n",
      "23    250\n",
      "24    262\n",
      "25    356\n",
      "26    406\n",
      "27    490\n",
      "28    501\n",
      "29    542\n",
      "30    533\n",
      "31    555\n",
      "32    505\n",
      "33    577\n",
      "34    595\n",
      "35    613\n",
      "36    552\n",
      "37    530\n",
      "38    594\n",
      "39    571\n",
      "40    601\n",
      "41    601\n",
      "42    591\n",
      "43    509\n",
      "44    541\n",
      "45    493\n",
      "46    466\n",
      "47    477\n",
      "48    534\n",
      "49    505\n",
      "50    508\n",
      "51    444\n",
      "52    483\n",
      "53    457\n",
      "54    473\n",
      "55    441\n",
      "56    478\n",
      "57    453\n",
      "58    453\n",
      "59    440\n",
      "60    373\n",
      "61    352\n",
      "62    347\n",
      "63    268\n",
      "64    258\n",
      "65    193\n",
      "66    182\n",
      "67    167\n",
      "68     99\n",
      "69     83\n",
      "70     65\n",
      "71     56\n",
      "72     33\n",
      "73      8\n",
      "74      6\n",
      "75      1\n",
      "Name: age, dtype: int64\n"
     ]
    }
   ],
   "source": [
    "#вывод сгруппировонных данных и их количество в столбце age\n",
    "print(customer.groupby('age')['age'].count())"
   ]
  },
  {
   "cell_type": "markdown",
   "metadata": {},
   "source": [
    "Снова встретили артефакт - нулевой возраст. Доля так же составляет 0,005%, корректнее удалить данные строки."
   ]
  },
  {
   "cell_type": "code",
   "execution_count": 39,
   "metadata": {},
   "outputs": [
    {
     "name": "stdout",
     "output_type": "stream",
     "text": [
      "35    613\n",
      "41    601\n",
      "40    601\n",
      "34    595\n",
      "38    594\n",
      "42    591\n",
      "33    577\n",
      "39    571\n",
      "31    555\n",
      "36    552\n",
      "29    542\n",
      "44    541\n",
      "48    534\n",
      "30    533\n",
      "37    530\n",
      "43    509\n",
      "50    508\n",
      "49    505\n",
      "32    505\n",
      "28    501\n",
      "45    493\n",
      "27    490\n",
      "52    483\n",
      "56    478\n",
      "47    477\n",
      "54    473\n",
      "46    466\n",
      "53    457\n",
      "57    453\n",
      "58    453\n",
      "51    444\n",
      "55    441\n",
      "59    440\n",
      "26    406\n",
      "60    373\n",
      "25    356\n",
      "61    352\n",
      "62    347\n",
      "63    268\n",
      "24    262\n",
      "64    258\n",
      "23    250\n",
      "65    193\n",
      "22    183\n",
      "66    182\n",
      "67    167\n",
      "21    110\n",
      "68     99\n",
      "69     83\n",
      "70     65\n",
      "71     56\n",
      "20     51\n",
      "72     33\n",
      "19     14\n",
      "73      8\n",
      "74      6\n",
      "75      1\n",
      "Name: age, dtype: int64\n"
     ]
    }
   ],
   "source": [
    "customer.drop(customer[customer.age == 0].index, inplace=True)\n",
    "print(customer['age'].value_counts())"
   ]
  },
  {
   "cell_type": "code",
   "execution_count": 40,
   "metadata": {},
   "outputs": [
    {
     "name": "stdout",
     "output_type": "stream",
     "text": [
      "debt\n",
      "0    19505\n",
      "1     1724\n",
      "Name: debt, dtype: int64\n"
     ]
    }
   ],
   "source": [
    "#вывод сгруппировонных данных и их количество в столбце debt\n",
    "print(customer.groupby('debt')['debt'].count())"
   ]
  },
  {
   "cell_type": "markdown",
   "metadata": {},
   "source": [
    "Данные в столбце \"имел ли задолженность по возврату кредитов\" корректны."
   ]
  },
  {
   "cell_type": "markdown",
   "metadata": {},
   "source": [
    "Промежуточный результат.\n",
    "Мы проверили столбцы со строковым типом данных: \"образование\", \"семейное положение\" и \"пол\". Привели к единому регистру и удалили некорректные данные. После чего проверили количество дубликатов с помощью методов `duplicated` и `sum`, и удалили с помощью метода `drop_duplicates`.\n",
    "Далее проверили данные в столбцах: \"количество детей\", \"возраст клиента\" и \"имел ли клиент задолженность по возврату кредитов\". Также удалили некорректные данные.\n",
    "Осталось решить вопрос с последним столбцом строкового типа - цель кредита `purpose`."
   ]
  },
  {
   "cell_type": "markdown",
   "metadata": {},
   "source": [
    "### Лемматизация"
   ]
  },
  {
   "cell_type": "markdown",
   "metadata": {},
   "source": [
    "С помощью функции `groupby` и `count` посмотрели, что же содержит в себе столбец \"цель кредита - `purpose`\"."
   ]
  },
  {
   "cell_type": "code",
   "execution_count": 41,
   "metadata": {
    "scrolled": false
   },
   "outputs": [
    {
     "name": "stdout",
     "output_type": "stream",
     "text": [
      "purpose\n",
      "автомобили                                474\n",
      "автомобиль                                487\n",
      "высшее образование                        443\n",
      "дополнительное образование                453\n",
      "жилье                                     635\n",
      "заняться высшим образованием              493\n",
      "заняться образованием                     407\n",
      "на покупку автомобиля                     465\n",
      "на покупку подержанного автомобиля        471\n",
      "на покупку своего автомобиля              501\n",
      "на проведение свадьбы                     759\n",
      "недвижимость                              627\n",
      "образование                               439\n",
      "операции с жильем                         641\n",
      "операции с коммерческой недвижимостью     643\n",
      "операции с недвижимостью                  669\n",
      "операции со своей недвижимостью           623\n",
      "покупка жилой недвижимости                598\n",
      "покупка жилья                             634\n",
      "покупка жилья для сдачи                   647\n",
      "покупка жилья для семьи                   636\n",
      "покупка коммерческой недвижимости         655\n",
      "покупка недвижимости                      612\n",
      "покупка своего жилья                      618\n",
      "получение высшего образования             423\n",
      "получение дополнительного образования     442\n",
      "получение образования                     439\n",
      "приобретение автомобиля                   457\n",
      "профильное образование                    431\n",
      "ремонт жилью                              602\n",
      "свадьба                                   785\n",
      "свой автомобиль                           470\n",
      "сделка с автомобилем                      454\n",
      "сделка с подержанным автомобилем          479\n",
      "строительство жилой недвижимости          617\n",
      "строительство недвижимости                619\n",
      "строительство собственной недвижимости    626\n",
      "сыграть свадьбу                           755\n",
      "Name: purpose, dtype: int64\n"
     ]
    }
   ],
   "source": [
    "print(customer.groupby('purpose')['purpose'].count())"
   ]
  },
  {
   "cell_type": "markdown",
   "metadata": {},
   "source": [
    "Заметили, что одна и таже цель описана по разному. Чтобы выделить основные цели получения кредита, объединили все уникальные значения в столбце `purpose` и вывели сколько раз в них повторяются отдельные слова."
   ]
  },
  {
   "cell_type": "code",
   "execution_count": 42,
   "metadata": {},
   "outputs": [
    {
     "name": "stdout",
     "output_type": "stream",
     "text": [
      "Counter({' ': 96, 'покупка': 10, 'недвижимость': 10, 'автомобиль': 9, 'образование': 9, 'жилье': 7, 'с': 5, 'операция': 4, 'на': 4, 'свой': 4, 'свадьба': 3, 'строительство': 3, 'получение': 3, 'высокий': 3, 'дополнительный': 2, 'для': 2, 'коммерческий': 2, 'жилой': 2, 'подержать': 2, 'заниматься': 2, 'сделка': 2, 'приобретение': 1, 'сыграть': 1, 'проведение': 1, 'семья': 1, 'собственный': 1, 'со': 1, 'профильный': 1, 'сдача': 1, 'ремонт': 1, '\\n': 1})\n"
     ]
    }
   ],
   "source": [
    "#объединение всех уникальных значений 'purpose', \n",
    "#их лемматизация и передача функции Counter\n",
    "purpose_uniq = ' '.join(customer['purpose'].unique())\n",
    "purpose_lemm = m.lemmatize(purpose_uniq)\n",
    "print(Counter(purpose_lemm))"
   ]
  },
  {
   "cell_type": "markdown",
   "metadata": {},
   "source": [
    "Получили список слов, отсартированного по убыванию числа их повторений. Наиболее часто встречающиеся слова: \"покупка\", \"недвижимость\", \"автомобиль\", \"образование\", \"жилье\".  Мы выделили 6 целей получения кредита: покупка недвижимости, строительство недвижимости, ремонт, покупка автомобиля, свадьба и образование."
   ]
  },
  {
   "cell_type": "code",
   "execution_count": 43,
   "metadata": {},
   "outputs": [
    {
     "data": {
      "text/html": [
       "<div>\n",
       "<style scoped>\n",
       "    .dataframe tbody tr th:only-of-type {\n",
       "        vertical-align: middle;\n",
       "    }\n",
       "\n",
       "    .dataframe tbody tr th {\n",
       "        vertical-align: top;\n",
       "    }\n",
       "\n",
       "    .dataframe thead th {\n",
       "        text-align: right;\n",
       "    }\n",
       "</style>\n",
       "<table border=\"1\" class=\"dataframe\">\n",
       "  <thead>\n",
       "    <tr style=\"text-align: right;\">\n",
       "      <th></th>\n",
       "      <th>children</th>\n",
       "      <th>days_employed</th>\n",
       "      <th>age</th>\n",
       "      <th>education</th>\n",
       "      <th>education_id</th>\n",
       "      <th>family_status</th>\n",
       "      <th>family_status_id</th>\n",
       "      <th>gender</th>\n",
       "      <th>income_type</th>\n",
       "      <th>debt</th>\n",
       "      <th>total_income</th>\n",
       "      <th>purpose</th>\n",
       "      <th>purpose_net</th>\n",
       "    </tr>\n",
       "  </thead>\n",
       "  <tbody>\n",
       "    <tr>\n",
       "      <th>0</th>\n",
       "      <td>1</td>\n",
       "      <td>8437.673028</td>\n",
       "      <td>42</td>\n",
       "      <td>высшее</td>\n",
       "      <td>0</td>\n",
       "      <td>женат / замужем</td>\n",
       "      <td>0</td>\n",
       "      <td>F</td>\n",
       "      <td>сотрудник</td>\n",
       "      <td>0</td>\n",
       "      <td>253875</td>\n",
       "      <td>покупка жилья</td>\n",
       "      <td>покупка недвижимости</td>\n",
       "    </tr>\n",
       "    <tr>\n",
       "      <th>1</th>\n",
       "      <td>1</td>\n",
       "      <td>4024.803754</td>\n",
       "      <td>36</td>\n",
       "      <td>среднее</td>\n",
       "      <td>1</td>\n",
       "      <td>женат / замужем</td>\n",
       "      <td>0</td>\n",
       "      <td>F</td>\n",
       "      <td>сотрудник</td>\n",
       "      <td>0</td>\n",
       "      <td>112080</td>\n",
       "      <td>приобретение автомобиля</td>\n",
       "      <td>покупка автомобиля</td>\n",
       "    </tr>\n",
       "    <tr>\n",
       "      <th>2</th>\n",
       "      <td>0</td>\n",
       "      <td>5623.422610</td>\n",
       "      <td>33</td>\n",
       "      <td>среднее</td>\n",
       "      <td>1</td>\n",
       "      <td>женат / замужем</td>\n",
       "      <td>0</td>\n",
       "      <td>M</td>\n",
       "      <td>сотрудник</td>\n",
       "      <td>0</td>\n",
       "      <td>145885</td>\n",
       "      <td>покупка жилья</td>\n",
       "      <td>покупка недвижимости</td>\n",
       "    </tr>\n",
       "    <tr>\n",
       "      <th>3</th>\n",
       "      <td>3</td>\n",
       "      <td>4124.747207</td>\n",
       "      <td>32</td>\n",
       "      <td>среднее</td>\n",
       "      <td>1</td>\n",
       "      <td>женат / замужем</td>\n",
       "      <td>0</td>\n",
       "      <td>M</td>\n",
       "      <td>сотрудник</td>\n",
       "      <td>0</td>\n",
       "      <td>267628</td>\n",
       "      <td>дополнительное образование</td>\n",
       "      <td>образование</td>\n",
       "    </tr>\n",
       "    <tr>\n",
       "      <th>4</th>\n",
       "      <td>0</td>\n",
       "      <td>340266.072047</td>\n",
       "      <td>53</td>\n",
       "      <td>среднее</td>\n",
       "      <td>1</td>\n",
       "      <td>гражданский брак</td>\n",
       "      <td>1</td>\n",
       "      <td>F</td>\n",
       "      <td>пенсионер</td>\n",
       "      <td>0</td>\n",
       "      <td>158616</td>\n",
       "      <td>сыграть свадьбу</td>\n",
       "      <td>свадьба</td>\n",
       "    </tr>\n",
       "    <tr>\n",
       "      <th>5</th>\n",
       "      <td>0</td>\n",
       "      <td>926.185831</td>\n",
       "      <td>27</td>\n",
       "      <td>высшее</td>\n",
       "      <td>0</td>\n",
       "      <td>гражданский брак</td>\n",
       "      <td>1</td>\n",
       "      <td>M</td>\n",
       "      <td>компаньон</td>\n",
       "      <td>0</td>\n",
       "      <td>255763</td>\n",
       "      <td>покупка жилья</td>\n",
       "      <td>покупка недвижимости</td>\n",
       "    </tr>\n",
       "    <tr>\n",
       "      <th>6</th>\n",
       "      <td>0</td>\n",
       "      <td>2879.202052</td>\n",
       "      <td>43</td>\n",
       "      <td>высшее</td>\n",
       "      <td>0</td>\n",
       "      <td>женат / замужем</td>\n",
       "      <td>0</td>\n",
       "      <td>F</td>\n",
       "      <td>компаньон</td>\n",
       "      <td>0</td>\n",
       "      <td>240525</td>\n",
       "      <td>операции с жильем</td>\n",
       "      <td>покупка недвижимости</td>\n",
       "    </tr>\n",
       "    <tr>\n",
       "      <th>7</th>\n",
       "      <td>0</td>\n",
       "      <td>152.779569</td>\n",
       "      <td>50</td>\n",
       "      <td>среднее</td>\n",
       "      <td>1</td>\n",
       "      <td>женат / замужем</td>\n",
       "      <td>0</td>\n",
       "      <td>M</td>\n",
       "      <td>сотрудник</td>\n",
       "      <td>0</td>\n",
       "      <td>135823</td>\n",
       "      <td>образование</td>\n",
       "      <td>образование</td>\n",
       "    </tr>\n",
       "    <tr>\n",
       "      <th>8</th>\n",
       "      <td>2</td>\n",
       "      <td>6929.865299</td>\n",
       "      <td>35</td>\n",
       "      <td>высшее</td>\n",
       "      <td>0</td>\n",
       "      <td>гражданский брак</td>\n",
       "      <td>1</td>\n",
       "      <td>F</td>\n",
       "      <td>сотрудник</td>\n",
       "      <td>0</td>\n",
       "      <td>95856</td>\n",
       "      <td>на проведение свадьбы</td>\n",
       "      <td>свадьба</td>\n",
       "    </tr>\n",
       "    <tr>\n",
       "      <th>9</th>\n",
       "      <td>0</td>\n",
       "      <td>2188.756445</td>\n",
       "      <td>41</td>\n",
       "      <td>среднее</td>\n",
       "      <td>1</td>\n",
       "      <td>женат / замужем</td>\n",
       "      <td>0</td>\n",
       "      <td>M</td>\n",
       "      <td>сотрудник</td>\n",
       "      <td>0</td>\n",
       "      <td>144425</td>\n",
       "      <td>покупка жилья для семьи</td>\n",
       "      <td>покупка недвижимости</td>\n",
       "    </tr>\n",
       "  </tbody>\n",
       "</table>\n",
       "</div>"
      ],
      "text/plain": [
       "   children  days_employed  age education  education_id     family_status  \\\n",
       "0         1    8437.673028   42    высшее             0   женат / замужем   \n",
       "1         1    4024.803754   36   среднее             1   женат / замужем   \n",
       "2         0    5623.422610   33   среднее             1   женат / замужем   \n",
       "3         3    4124.747207   32   среднее             1   женат / замужем   \n",
       "4         0  340266.072047   53   среднее             1  гражданский брак   \n",
       "5         0     926.185831   27    высшее             0  гражданский брак   \n",
       "6         0    2879.202052   43    высшее             0   женат / замужем   \n",
       "7         0     152.779569   50   среднее             1   женат / замужем   \n",
       "8         2    6929.865299   35    высшее             0  гражданский брак   \n",
       "9         0    2188.756445   41   среднее             1   женат / замужем   \n",
       "\n",
       "   family_status_id gender income_type  debt  total_income  \\\n",
       "0                 0      F   сотрудник     0        253875   \n",
       "1                 0      F   сотрудник     0        112080   \n",
       "2                 0      M   сотрудник     0        145885   \n",
       "3                 0      M   сотрудник     0        267628   \n",
       "4                 1      F   пенсионер     0        158616   \n",
       "5                 1      M   компаньон     0        255763   \n",
       "6                 0      F   компаньон     0        240525   \n",
       "7                 0      M   сотрудник     0        135823   \n",
       "8                 1      F   сотрудник     0         95856   \n",
       "9                 0      M   сотрудник     0        144425   \n",
       "\n",
       "                      purpose           purpose_net  \n",
       "0               покупка жилья  покупка недвижимости  \n",
       "1     приобретение автомобиля    покупка автомобиля  \n",
       "2               покупка жилья  покупка недвижимости  \n",
       "3  дополнительное образование           образование  \n",
       "4             сыграть свадьбу               свадьба  \n",
       "5               покупка жилья  покупка недвижимости  \n",
       "6           операции с жильем  покупка недвижимости  \n",
       "7                 образование           образование  \n",
       "8       на проведение свадьбы               свадьба  \n",
       "9     покупка жилья для семьи  покупка недвижимости  "
      ]
     },
     "metadata": {},
     "output_type": "display_data"
    }
   ],
   "source": [
    "def purpose_net(row):\n",
    "    #Функция purpose_net принимает на вход строку данных из DataFrame, лемматизирует значение\n",
    "    #по столбцу 'purpose'. \n",
    "    #Далее осуществляет циклический поиск по полученной коллекции слов до первого совпадения\n",
    "    #с наиболее вероятным вариантов и возвращает связанное с ним строковое значение.\n",
    "    #Если поиск не дал результата, возвращается строковое значение 'ошибка'.\n",
    "    \n",
    "    text = row['purpose']\n",
    "    lemmas = m.lemmatize(text)\n",
    "\n",
    "    for word in lemmas:\n",
    "\n",
    "        if 'автомобиль' in word:\n",
    "            return 'покупка автомобиля'\n",
    "        if 'образование' in word:\n",
    "            return 'образование'\n",
    "        if 'свадьба' in word:\n",
    "            return 'свадьба'\n",
    "        if 'ремонт' in word:\n",
    "            return 'ремонт'\n",
    "        if 'строительство' in word:\n",
    "            return 'строительство недвижимости'\n",
    "        if 'жилье' in word or 'недвижимость' in word:\n",
    "            return 'покупка недвижимости'\n",
    "    return 'ошибка'\n",
    "\n",
    "#для каждой строки в DF customer отрабатывается функция purpose_net\n",
    "#и возвращает значение в новый столбец purpose_net\n",
    "customer['purpose_net'] = customer.apply(purpose_net, axis=1)\n",
    "\n",
    "#проверка первых 10 строк DF customer\n",
    "display(customer.head(10))"
   ]
  },
  {
   "cell_type": "code",
   "execution_count": 44,
   "metadata": {
    "scrolled": false
   },
   "outputs": [
    {
     "name": "stdout",
     "output_type": "stream",
     "text": [
      "purpose_net\n",
      "образование                   3970\n",
      "покупка автомобиля            4258\n",
      "покупка недвижимости          8238\n",
      "ремонт                         602\n",
      "свадьба                       2299\n",
      "строительство недвижимости    1862\n",
      "Name: purpose, dtype: int64\n"
     ]
    }
   ],
   "source": [
    "#проверка уникальных значений в новом столбце 'purpose_net' и их количества\n",
    "print(customer.groupby('purpose_net')['purpose'].count())"
   ]
  },
  {
   "cell_type": "markdown",
   "metadata": {},
   "source": [
    "Уникальные значения в столбце `purpose_net` соответствуют выделенным 6 целям кредита. Значение \"ошибка\" отсутствует. Выделение основных целей кредита прошла успешно. "
   ]
  },
  {
   "cell_type": "markdown",
   "metadata": {},
   "source": [
    "Промежуточные результаты.\n",
    "Мы объединили все уникальные значения в столбце `purpose`, лемматизировали их и с помощью функции `Counter` посчитали, сколько повторений у каждого отдельного слова.\n",
    "Выделили 6 основных целей получения кредита. Написали функцию, которая для каждой строки данных по столбцу `purpose` присваивает одну из 6 выделенных целей кредита и добавляет ее в столбец `purpose_net`."
   ]
  },
  {
   "cell_type": "markdown",
   "metadata": {},
   "source": [
    "### Категоризация данных"
   ]
  },
  {
   "cell_type": "markdown",
   "metadata": {},
   "source": [
    "Для ответа на вопросы исследования нам необходим анализ следующих данных: наличие детей, семейное положение, уровень дохода, цель кредита и наличие задолженности по кредиту. \n",
    "Ранее мы уже обработали данные в столбце \"цель кредита\". Нам необходимо оценить, нужна ли дополнительная категоризация оставшихся данных.\n",
    "Для начала еще раз вывели общую информацию."
   ]
  },
  {
   "cell_type": "code",
   "execution_count": 45,
   "metadata": {
    "scrolled": false
   },
   "outputs": [
    {
     "name": "stdout",
     "output_type": "stream",
     "text": [
      "<class 'pandas.core.frame.DataFrame'>\n",
      "Int64Index: 21229 entries, 0 to 21524\n",
      "Data columns (total 13 columns):\n",
      " #   Column            Non-Null Count  Dtype   \n",
      "---  ------            --------------  -----   \n",
      " 0   children          21229 non-null  int8    \n",
      " 1   days_employed     21229 non-null  float64 \n",
      " 2   age               21229 non-null  int8    \n",
      " 3   education         21229 non-null  object  \n",
      " 4   education_id      21229 non-null  int8    \n",
      " 5   family_status     21229 non-null  object  \n",
      " 6   family_status_id  21229 non-null  int8    \n",
      " 7   gender            21229 non-null  category\n",
      " 8   income_type       21229 non-null  category\n",
      " 9   debt              21229 non-null  int8    \n",
      " 10  total_income      21229 non-null  int64   \n",
      " 11  purpose           21229 non-null  object  \n",
      " 12  purpose_net       21229 non-null  object  \n",
      "dtypes: category(2), float64(1), int64(1), int8(5), object(4)\n",
      "memory usage: 1.3+ MB\n"
     ]
    }
   ],
   "source": [
    "customer.info()"
   ]
  },
  {
   "cell_type": "markdown",
   "metadata": {},
   "source": [
    "Столбец `children` не требует каких-либо дополнительных действий и подходит для анализа.\n",
    "Что касается семейного положения, то в общих данных видим категорию и ее номер. Выделили словарь `family_dict` и удалили дубликаты методом `drop_duplicates`."
   ]
  },
  {
   "cell_type": "code",
   "execution_count": 46,
   "metadata": {},
   "outputs": [
    {
     "data": {
      "text/html": [
       "<div>\n",
       "<style scoped>\n",
       "    .dataframe tbody tr th:only-of-type {\n",
       "        vertical-align: middle;\n",
       "    }\n",
       "\n",
       "    .dataframe tbody tr th {\n",
       "        vertical-align: top;\n",
       "    }\n",
       "\n",
       "    .dataframe thead th {\n",
       "        text-align: right;\n",
       "    }\n",
       "</style>\n",
       "<table border=\"1\" class=\"dataframe\">\n",
       "  <thead>\n",
       "    <tr style=\"text-align: right;\">\n",
       "      <th></th>\n",
       "      <th>family_status_id</th>\n",
       "      <th>family_status</th>\n",
       "    </tr>\n",
       "  </thead>\n",
       "  <tbody>\n",
       "    <tr>\n",
       "      <th>0</th>\n",
       "      <td>0</td>\n",
       "      <td>женат / замужем</td>\n",
       "    </tr>\n",
       "    <tr>\n",
       "      <th>1</th>\n",
       "      <td>1</td>\n",
       "      <td>гражданский брак</td>\n",
       "    </tr>\n",
       "    <tr>\n",
       "      <th>2</th>\n",
       "      <td>2</td>\n",
       "      <td>вдовец / вдова</td>\n",
       "    </tr>\n",
       "    <tr>\n",
       "      <th>3</th>\n",
       "      <td>3</td>\n",
       "      <td>в разводе</td>\n",
       "    </tr>\n",
       "    <tr>\n",
       "      <th>4</th>\n",
       "      <td>4</td>\n",
       "      <td>не женат / не замужем</td>\n",
       "    </tr>\n",
       "  </tbody>\n",
       "</table>\n",
       "</div>"
      ],
      "text/plain": [
       "   family_status_id          family_status\n",
       "0                 0        женат / замужем\n",
       "1                 1       гражданский брак\n",
       "2                 2         вдовец / вдова\n",
       "3                 3              в разводе\n",
       "4                 4  не женат / не замужем"
      ]
     },
     "metadata": {},
     "output_type": "display_data"
    }
   ],
   "source": [
    "#создаем словарь family_dict и удаляем дубликаты\n",
    "family_dict = customer[['family_status_id','family_status']]\n",
    "family_dict = family_dict.drop_duplicates().reset_index(drop=True)\n",
    "\n",
    "display(family_dict)"
   ]
  },
  {
   "cell_type": "markdown",
   "metadata": {},
   "source": [
    "Ежемесячный доход требует категоризации. Для начала вывели минимальный, максимальный доход и медиану."
   ]
  },
  {
   "cell_type": "code",
   "execution_count": 47,
   "metadata": {
    "scrolled": true
   },
   "outputs": [
    {
     "name": "stdout",
     "output_type": "stream",
     "text": [
      "Минимальный ежемесяный доход:  20667\n",
      "Медиана ежемесяного дохода: 142594\n",
      "Максимальный ежемесяный доход:  2265604\n"
     ]
    }
   ],
   "source": [
    "#Минимальный ежемесяный доход total_income\n",
    "print('Минимальный ежемесяный доход: ', customer['total_income'].min())\n",
    "\n",
    "#Медиана ежемесяного дохода total_income\n",
    "income_median = customer['total_income'].median()\n",
    "print('Медиана ежемесяного дохода: {:.0f}'.format(income_median))\n",
    "\n",
    "#Максимальный ежемесяный доход total_income\n",
    "print('Максимальный ежемесяный доход: ', customer['total_income'].max())"
   ]
  },
  {
   "cell_type": "markdown",
   "metadata": {},
   "source": [
    "Разбег ежемесячного дохода составляет более 2,2 миллионов. Посмотрели данное распределение графически с помощью метода `distplot`."
   ]
  },
  {
   "cell_type": "code",
   "execution_count": 48,
   "metadata": {
    "scrolled": true
   },
   "outputs": [
    {
     "data": {
      "image/png": "[encoded data removed]",
      "text/plain": [
       "<Figure size 432x288 with 1 Axes>"
      ]
     },
     "metadata": {
      "needs_background": "light"
     },
     "output_type": "display_data"
    }
   ],
   "source": [
    "#выводит график\n",
    "sns.distplot(customer['total_income'], hist=True, kde=False, rug=False )\n",
    "\n",
    "#Добавляет название заголовка и осей\n",
    "plt.title('Распределение заемщиков по уровню дохода', fontsize=15)\n",
    "plt.xlabel('Ежемесячный доход, д.е.', fontsize=12)\n",
    "plt.ylabel('Количество клиентов, человек', fontsize=12)\n",
    "plt.show()"
   ]
  },
  {
   "cell_type": "markdown",
   "metadata": {},
   "source": [
    "Из графика видно, что основная масса значений находится в диапазоне до 500000. Вывели данные значения графически."
   ]
  },
  {
   "cell_type": "code",
   "execution_count": 49,
   "metadata": {
    "scrolled": true
   },
   "outputs": [
    {
     "data": {
      "image/png": "[encoded data removed]",
      "text/plain": [
       "<Figure size 432x288 with 1 Axes>"
      ]
     },
     "metadata": {
      "needs_background": "light"
     },
     "output_type": "display_data"
    }
   ],
   "source": [
    "#выводит график\n",
    "sns.distplot(customer[customer['total_income'] <500000]['total_income'], \n",
    "             hist=True, kde=False, rug=False )\n",
    "\n",
    "#Добавляет название заголовка и осей\n",
    "plt.title('Распределение заемщиков по уровню дохода', fontsize=15)\n",
    "plt.xlabel('Ежемесячный доход, д.е.', fontsize=12)\n",
    "plt.ylabel('Количество клиентов, человек', fontsize=12)\n",
    "plt.show()"
   ]
  },
  {
   "cell_type": "markdown",
   "metadata": {},
   "source": [
    "Исходя из распределения значений создали три категории ежемесячного дохода: \n",
    "\"низкий\" - до 100000 включительно, \"средний\" - от 100000 до 180000 включительно и \"высокий\" - свыше 180000."
   ]
  },
  {
   "cell_type": "code",
   "execution_count": 50,
   "metadata": {},
   "outputs": [
    {
     "data": {
      "text/html": [
       "<div>\n",
       "<style scoped>\n",
       "    .dataframe tbody tr th:only-of-type {\n",
       "        vertical-align: middle;\n",
       "    }\n",
       "\n",
       "    .dataframe tbody tr th {\n",
       "        vertical-align: top;\n",
       "    }\n",
       "\n",
       "    .dataframe thead th {\n",
       "        text-align: right;\n",
       "    }\n",
       "</style>\n",
       "<table border=\"1\" class=\"dataframe\">\n",
       "  <thead>\n",
       "    <tr style=\"text-align: right;\">\n",
       "      <th></th>\n",
       "      <th>total_income</th>\n",
       "      <th>total_income_group</th>\n",
       "    </tr>\n",
       "  </thead>\n",
       "  <tbody>\n",
       "    <tr>\n",
       "      <th>0</th>\n",
       "      <td>253875</td>\n",
       "      <td>высокий</td>\n",
       "    </tr>\n",
       "    <tr>\n",
       "      <th>1</th>\n",
       "      <td>112080</td>\n",
       "      <td>средний</td>\n",
       "    </tr>\n",
       "    <tr>\n",
       "      <th>2</th>\n",
       "      <td>145885</td>\n",
       "      <td>средний</td>\n",
       "    </tr>\n",
       "    <tr>\n",
       "      <th>3</th>\n",
       "      <td>267628</td>\n",
       "      <td>высокий</td>\n",
       "    </tr>\n",
       "    <tr>\n",
       "      <th>4</th>\n",
       "      <td>158616</td>\n",
       "      <td>средний</td>\n",
       "    </tr>\n",
       "    <tr>\n",
       "      <th>5</th>\n",
       "      <td>255763</td>\n",
       "      <td>высокий</td>\n",
       "    </tr>\n",
       "    <tr>\n",
       "      <th>6</th>\n",
       "      <td>240525</td>\n",
       "      <td>высокий</td>\n",
       "    </tr>\n",
       "    <tr>\n",
       "      <th>7</th>\n",
       "      <td>135823</td>\n",
       "      <td>средний</td>\n",
       "    </tr>\n",
       "    <tr>\n",
       "      <th>8</th>\n",
       "      <td>95856</td>\n",
       "      <td>низкий</td>\n",
       "    </tr>\n",
       "    <tr>\n",
       "      <th>9</th>\n",
       "      <td>144425</td>\n",
       "      <td>средний</td>\n",
       "    </tr>\n",
       "  </tbody>\n",
       "</table>\n",
       "</div>"
      ],
      "text/plain": [
       "   total_income total_income_group\n",
       "0        253875            высокий\n",
       "1        112080            средний\n",
       "2        145885            средний\n",
       "3        267628            высокий\n",
       "4        158616            средний\n",
       "5        255763            высокий\n",
       "6        240525            высокий\n",
       "7        135823            средний\n",
       "8         95856             низкий\n",
       "9        144425            средний"
      ]
     },
     "metadata": {},
     "output_type": "display_data"
    }
   ],
   "source": [
    "def total_income_group(row):\n",
    "    #Возвращает категорию по доходу, используя правила:\n",
    "    # -'низкий' при значении income менее 100000 включительно\n",
    "    # -'средний' при значениии income более 100000 и менее 180000, включая 180000\n",
    "    # -'высокий' во всех остальных случаях\n",
    "\n",
    "    income = row['total_income']\n",
    "    if income <= 100000:\n",
    "        return 'низкий'\n",
    "    elif income > 100000 and income <= 180000:\n",
    "        return 'средний'\n",
    "    else:\n",
    "        return 'высокий'\n",
    "\n",
    "#присваивает категорию по ежемесячному доходу\n",
    "#и возвращает значение в новый столбец 'total_income_group'\n",
    "customer['total_income_group'] = customer.apply(total_income_group, axis=1)\n",
    "\n",
    "#выводит на проверку первые 10 строк со значениями total_income, total_income_group\n",
    "display(customer[['total_income','total_income_group']].head(10))"
   ]
  },
  {
   "cell_type": "markdown",
   "metadata": {},
   "source": [
    "Промежуточные результаты.\n",
    "Для данных \"семейного положения\" создали словарь `family_dict`. \n",
    "Провели категоризацию \"ежемесячного дохода\" по следующим правилам: \"низкий\" - до 100000 включительно, \"средний\" - от 100000 до 180000 включительно и \"высокий\" - свыше 180000."
   ]
  },
  {
   "cell_type": "markdown",
   "metadata": {},
   "source": [
    "## Исследование "
   ]
  },
  {
   "cell_type": "markdown",
   "metadata": {},
   "source": [
    "Предобработка данных завершена, приступили непосредственно к исследованию. Перед нами стоит четыре задачи:\n",
    "- Есть ли зависимость между наличием детей и возвратом кредита в срок?\n",
    "- Есть ли зависимость между семейным положением и возвратом кредита в срок?\n",
    "- Есть ли зависимость между уровнем дохода и возвратом кредита в срок?\n",
    "- Как разные цели кредита влияют на его возврат в срок?\n",
    "\n",
    "В качестве метрики для оценки данных задач использовали `percentage_debt` - отношение количества клиентов с задолженность внутри категории к общему количеству количеству клиентов данной категории.\n",
    "\n",
    "Метод расчета следующих показателей одинаковый для всего анализа:\n",
    "- \"percentage_debt\" - отношение количества клиентов с задолженность внутри категории к общему количеству количеству клиентов данной категории, \n",
    "- \"percentage_cust\" - доля клиентов в категории относительного общего количества клиентов\n",
    "\n",
    "Сначала провели анализ зависимости между наличием детей и возвратом кредита в срок.\n",
    "С помощью метода `pivot_table` создали сводную таблицу `children_debt_pivot`."
   ]
  },
  {
   "cell_type": "code",
   "execution_count": 51,
   "metadata": {},
   "outputs": [
    {
     "data": {
      "text/html": [
       "<div>\n",
       "<style scoped>\n",
       "    .dataframe tbody tr th:only-of-type {\n",
       "        vertical-align: middle;\n",
       "    }\n",
       "\n",
       "    .dataframe tbody tr th {\n",
       "        vertical-align: top;\n",
       "    }\n",
       "\n",
       "    .dataframe thead tr th {\n",
       "        text-align: left;\n",
       "    }\n",
       "\n",
       "    .dataframe thead tr:last-of-type th {\n",
       "        text-align: right;\n",
       "    }\n",
       "</style>\n",
       "<table border=\"1\" class=\"dataframe\">\n",
       "  <thead>\n",
       "    <tr>\n",
       "      <th></th>\n",
       "      <th>count_with_debt</th>\n",
       "      <th>count_all</th>\n",
       "      <th>percentage_debt</th>\n",
       "      <th>percentage_cust</th>\n",
       "    </tr>\n",
       "    <tr>\n",
       "      <th></th>\n",
       "      <th>debt</th>\n",
       "      <th>debt</th>\n",
       "      <th></th>\n",
       "      <th></th>\n",
       "    </tr>\n",
       "    <tr>\n",
       "      <th>children</th>\n",
       "      <th></th>\n",
       "      <th></th>\n",
       "      <th></th>\n",
       "      <th></th>\n",
       "    </tr>\n",
       "  </thead>\n",
       "  <tbody>\n",
       "    <tr>\n",
       "      <th>0</th>\n",
       "      <td>1058.0</td>\n",
       "      <td>14020</td>\n",
       "      <td>7.546362</td>\n",
       "      <td>66.041735</td>\n",
       "    </tr>\n",
       "    <tr>\n",
       "      <th>1</th>\n",
       "      <td>441.0</td>\n",
       "      <td>4792</td>\n",
       "      <td>9.202838</td>\n",
       "      <td>22.572896</td>\n",
       "    </tr>\n",
       "    <tr>\n",
       "      <th>2</th>\n",
       "      <td>194.0</td>\n",
       "      <td>2039</td>\n",
       "      <td>9.514468</td>\n",
       "      <td>9.604786</td>\n",
       "    </tr>\n",
       "    <tr>\n",
       "      <th>3</th>\n",
       "      <td>27.0</td>\n",
       "      <td>328</td>\n",
       "      <td>8.231707</td>\n",
       "      <td>1.545056</td>\n",
       "    </tr>\n",
       "    <tr>\n",
       "      <th>4</th>\n",
       "      <td>4.0</td>\n",
       "      <td>41</td>\n",
       "      <td>9.756098</td>\n",
       "      <td>0.193132</td>\n",
       "    </tr>\n",
       "    <tr>\n",
       "      <th>5</th>\n",
       "      <td>0.0</td>\n",
       "      <td>9</td>\n",
       "      <td>0.000000</td>\n",
       "      <td>0.042395</td>\n",
       "    </tr>\n",
       "  </tbody>\n",
       "</table>\n",
       "</div>"
      ],
      "text/plain": [
       "         count_with_debt count_all percentage_debt percentage_cust\n",
       "                    debt      debt                                \n",
       "children                                                          \n",
       "0                 1058.0     14020        7.546362       66.041735\n",
       "1                  441.0      4792        9.202838       22.572896\n",
       "2                  194.0      2039        9.514468        9.604786\n",
       "3                   27.0       328        8.231707        1.545056\n",
       "4                    4.0        41        9.756098        0.193132\n",
       "5                    0.0         9        0.000000        0.042395"
      ]
     },
     "execution_count": 51,
     "metadata": {},
     "output_type": "execute_result"
    }
   ],
   "source": [
    "def pivot_index(index):\n",
    "    pivot = (\n",
    "            customer\n",
    "            #создает сводную таблицу\n",
    "            .pivot_table(index=index, values='debt', aggfunc=['sum','count'])\n",
    "            #переименовывает колонки\n",
    "            .rename(columns={'sum':'count_with_debt','count':'count_all'})\n",
    "            #добавляет дополнительные показатели\n",
    "            .assign(\n",
    "                  #добавляет метрику \"percentage_debt\"\n",
    "                  percentage_debt = lambda x: x['count_with_debt']/x['count_all']*100,\n",
    "                  #добавляет параметра \"percentage_cust\"\n",
    "                  percentage_cust = lambda x: (x['count_all']/x['count_all'].sum())*100\n",
    "            )\n",
    "        )\n",
    "    return pivot\n",
    "\n",
    "pivot_index('children')"
   ]
  },
  {
   "cell_type": "markdown",
   "metadata": {},
   "source": [
    "Больше половины (66%) клиентов не имеют детей, при это доля невозвратов по кредиту у них минимальная - 7,54%. 22% клиентов приходится на семьи с одним ребенком, доля невозврата кредита составляет - 9,20%. И почти 10% приходится на семьи с двумя детьми, их доля невозврата кредита составляет 9,51%. Наибольшая доля невозврата кредита у семей с 4 детьми - 9,76%, но их доля от общего числа клиентов составляет менее 0,2%. Семьи с 5 детьми почти не берут кредиты, но если берут - то возвращают.\n",
    "Можем сделать вывод, что одинокие люди и семьи без детей гораздо чаще берут кредиты и с большей вероятностью их возвращают. Семьи с 1 или 2 детьми берут кредиты гораздо реже и у них больше риск его не вернуть. Семьи с 3 и более детей почти не берут кредиты.\n",
    "На основании анализа можем сказать, что взаимосвязь между наличием детей и возвратом кредита прослеживается."
   ]
  },
  {
   "cell_type": "markdown",
   "metadata": {},
   "source": [
    "Далее перешли к анализу зависимости между семейным положением и возвратом кредита в срок. Ранее мы создали словарь `family_dict`, который содержит в себе `family_status_id` и`family_status`. Теперь с помощью метода `merge` добавили данные по количеству непогашенных кредитов по категориям `debt_sum` и общему количеству клиентов в категории `debt_count`. А так же расчитали показатели `percentage_debt` и `percentage_cust`."
   ]
  },
  {
   "cell_type": "code",
   "execution_count": 52,
   "metadata": {},
   "outputs": [
    {
     "data": {
      "text/html": [
       "<div>\n",
       "<style scoped>\n",
       "    .dataframe tbody tr th:only-of-type {\n",
       "        vertical-align: middle;\n",
       "    }\n",
       "\n",
       "    .dataframe tbody tr th {\n",
       "        vertical-align: top;\n",
       "    }\n",
       "\n",
       "    .dataframe thead th {\n",
       "        text-align: right;\n",
       "    }\n",
       "</style>\n",
       "<table border=\"1\" class=\"dataframe\">\n",
       "  <thead>\n",
       "    <tr style=\"text-align: right;\">\n",
       "      <th></th>\n",
       "      <th>family_status_id</th>\n",
       "      <th>family_status</th>\n",
       "      <th>count_with_debt</th>\n",
       "      <th>count_all</th>\n",
       "      <th>percentage_debt</th>\n",
       "      <th>percentage_cust</th>\n",
       "    </tr>\n",
       "  </thead>\n",
       "  <tbody>\n",
       "    <tr>\n",
       "      <th>4</th>\n",
       "      <td>4</td>\n",
       "      <td>не женат / не замужем</td>\n",
       "      <td>272.0</td>\n",
       "      <td>2780</td>\n",
       "      <td>9.784173</td>\n",
       "      <td>13.095294</td>\n",
       "    </tr>\n",
       "    <tr>\n",
       "      <th>1</th>\n",
       "      <td>1</td>\n",
       "      <td>гражданский брак</td>\n",
       "      <td>383.0</td>\n",
       "      <td>4112</td>\n",
       "      <td>9.314202</td>\n",
       "      <td>19.369730</td>\n",
       "    </tr>\n",
       "    <tr>\n",
       "      <th>0</th>\n",
       "      <td>0</td>\n",
       "      <td>женат / замужем</td>\n",
       "      <td>923.0</td>\n",
       "      <td>12212</td>\n",
       "      <td>7.558140</td>\n",
       "      <td>57.525084</td>\n",
       "    </tr>\n",
       "    <tr>\n",
       "      <th>3</th>\n",
       "      <td>3</td>\n",
       "      <td>в разводе</td>\n",
       "      <td>84.0</td>\n",
       "      <td>1179</td>\n",
       "      <td>7.124682</td>\n",
       "      <td>5.553724</td>\n",
       "    </tr>\n",
       "    <tr>\n",
       "      <th>2</th>\n",
       "      <td>2</td>\n",
       "      <td>вдовец / вдова</td>\n",
       "      <td>62.0</td>\n",
       "      <td>946</td>\n",
       "      <td>6.553911</td>\n",
       "      <td>4.456168</td>\n",
       "    </tr>\n",
       "  </tbody>\n",
       "</table>\n",
       "</div>"
      ],
      "text/plain": [
       "   family_status_id          family_status  count_with_debt  count_all  \\\n",
       "4                 4  не женат / не замужем            272.0       2780   \n",
       "1                 1       гражданский брак            383.0       4112   \n",
       "0                 0        женат / замужем            923.0      12212   \n",
       "3                 3              в разводе             84.0       1179   \n",
       "2                 2         вдовец / вдова             62.0        946   \n",
       "\n",
       "   percentage_debt  percentage_cust  \n",
       "4         9.784173        13.095294  \n",
       "1         9.314202        19.369730  \n",
       "0         7.558140        57.525084  \n",
       "3         7.124682         5.553724  \n",
       "2         6.553911         4.456168  "
      ]
     },
     "execution_count": 52,
     "metadata": {},
     "output_type": "execute_result"
    }
   ],
   "source": [
    "(\n",
    "    family_dict\n",
    "    .merge(customer.groupby('family_status_id').agg({'debt':['sum','count']}), \n",
    "           on='family_status_id', \n",
    "           how='left')\n",
    "    .rename(columns={('debt', 'sum'):'count_with_debt',('debt', 'count'):'count_all'})\n",
    "    .assign(\n",
    "          #добавляет метрику \"percentage_debt\"\n",
    "          percentage_debt = lambda x: x['count_with_debt']/x['count_all']*100,\n",
    "          #добавляет параметра \"percentage_cust\"\n",
    "          percentage_cust = lambda x: (x['count_all']/x['count_all'].sum())*100\n",
    "    )\n",
    "    .sort_values(by='percentage_debt', ascending=False)\n",
    "\n",
    ")\n"
   ]
  },
  {
   "cell_type": "markdown",
   "metadata": {},
   "source": [
    "Чаще всех (57,5%) берут кредиты пары в браке. Меньше всех берут кредиты вдовы/вдовцы или же люди в разводе. Доля невозврата кредитов у пар в браке, у людей в разводе и овдовевших низкая - 7,55%, 7,12% и 6,55% соответственно. У одиноких и пар, живущих гражданским браком, доля невозврата кредита выше - 9,78% и 9,31% соответственно.\n",
    "Можем сделать вывод, что люди, бывшие или находящиеся в браке, гораздо чаще возвращают кредиты, чем одинокие люди или пары в гражданском браке. Это может объясняться большей ответственностью и более серьезным подходом к получению кредита. \n",
    "На основании анализа можем сказать, что взаимосвязь между семейным положением и возвратом кредита прослеживается."
   ]
  },
  {
   "cell_type": "markdown",
   "metadata": {},
   "source": [
    "Далее провели анализ зависимости между уровнем ежемесячного дохода и возвратом кредита в срок. Создали сводную таблицу `income_debt_pivot` и добавили показатели `percentage_debt` и `percentage_cust`."
   ]
  },
  {
   "cell_type": "code",
   "execution_count": 53,
   "metadata": {},
   "outputs": [
    {
     "data": {
      "text/html": [
       "<div>\n",
       "<style scoped>\n",
       "    .dataframe tbody tr th:only-of-type {\n",
       "        vertical-align: middle;\n",
       "    }\n",
       "\n",
       "    .dataframe tbody tr th {\n",
       "        vertical-align: top;\n",
       "    }\n",
       "\n",
       "    .dataframe thead tr th {\n",
       "        text-align: left;\n",
       "    }\n",
       "\n",
       "    .dataframe thead tr:last-of-type th {\n",
       "        text-align: right;\n",
       "    }\n",
       "</style>\n",
       "<table border=\"1\" class=\"dataframe\">\n",
       "  <thead>\n",
       "    <tr>\n",
       "      <th></th>\n",
       "      <th>count_with_debt</th>\n",
       "      <th>count_all</th>\n",
       "      <th>percentage_debt</th>\n",
       "      <th>percentage_cust</th>\n",
       "    </tr>\n",
       "    <tr>\n",
       "      <th></th>\n",
       "      <th>debt</th>\n",
       "      <th>debt</th>\n",
       "      <th></th>\n",
       "      <th></th>\n",
       "    </tr>\n",
       "    <tr>\n",
       "      <th>total_income_group</th>\n",
       "      <th></th>\n",
       "      <th></th>\n",
       "      <th></th>\n",
       "      <th></th>\n",
       "    </tr>\n",
       "  </thead>\n",
       "  <tbody>\n",
       "    <tr>\n",
       "      <th>высокий</th>\n",
       "      <td>474.0</td>\n",
       "      <td>6355</td>\n",
       "      <td>7.458694</td>\n",
       "      <td>29.935466</td>\n",
       "    </tr>\n",
       "    <tr>\n",
       "      <th>низкий</th>\n",
       "      <td>353.0</td>\n",
       "      <td>4421</td>\n",
       "      <td>7.984619</td>\n",
       "      <td>20.825286</td>\n",
       "    </tr>\n",
       "    <tr>\n",
       "      <th>средний</th>\n",
       "      <td>897.0</td>\n",
       "      <td>10453</td>\n",
       "      <td>8.581269</td>\n",
       "      <td>49.239248</td>\n",
       "    </tr>\n",
       "  </tbody>\n",
       "</table>\n",
       "</div>"
      ],
      "text/plain": [
       "                   count_with_debt count_all percentage_debt percentage_cust\n",
       "                              debt      debt                                \n",
       "total_income_group                                                          \n",
       "высокий                      474.0      6355        7.458694       29.935466\n",
       "низкий                       353.0      4421        7.984619       20.825286\n",
       "средний                      897.0     10453        8.581269       49.239248"
      ]
     },
     "execution_count": 53,
     "metadata": {},
     "output_type": "execute_result"
    }
   ],
   "source": [
    "pivot_index('total_income_group')"
   ]
  },
  {
   "cell_type": "markdown",
   "metadata": {},
   "source": [
    "Чаще всех берут кредит люди со средним уровнем дохода (49%), у них есть больший риск невозврата кредита - 8,58%. Можем предположить, что люди с низким уровнем дохода осторожно относятся к приобритению кредита (20%), в связи с чем и риск невозврата кредита у них меньше, чем у людей со средним доходом - 7,98%. Чаще всех возвращают кредиты люди с высоким уровнем дохода - 7,46%.\n",
    "Взаимосвязь между уровнем дохода и возвратом кредита не явная. Можно предположить, что люди со средним уровнем дохода легче относятся к приобритению кредита, в связи с чем чаще возникают ситуации по его невозврату."
   ]
  },
  {
   "cell_type": "markdown",
   "metadata": {},
   "source": [
    "Осталось ответить на последний вопрос, есть ли взаимосвязь между целью получения кредита и его возвратом.  Создали сводную таблицу `purpose_debt_pivot` и добавили показатели `percentage_debt` и `percentage_cust`."
   ]
  },
  {
   "cell_type": "code",
   "execution_count": 54,
   "metadata": {},
   "outputs": [
    {
     "data": {
      "text/html": [
       "<div>\n",
       "<style scoped>\n",
       "    .dataframe tbody tr th:only-of-type {\n",
       "        vertical-align: middle;\n",
       "    }\n",
       "\n",
       "    .dataframe tbody tr th {\n",
       "        vertical-align: top;\n",
       "    }\n",
       "\n",
       "    .dataframe thead tr th {\n",
       "        text-align: left;\n",
       "    }\n",
       "\n",
       "    .dataframe thead tr:last-of-type th {\n",
       "        text-align: right;\n",
       "    }\n",
       "</style>\n",
       "<table border=\"1\" class=\"dataframe\">\n",
       "  <thead>\n",
       "    <tr>\n",
       "      <th></th>\n",
       "      <th>count_with_debt</th>\n",
       "      <th>count_all</th>\n",
       "      <th>percentage_debt</th>\n",
       "      <th>percentage_cust</th>\n",
       "    </tr>\n",
       "    <tr>\n",
       "      <th></th>\n",
       "      <th>debt</th>\n",
       "      <th>debt</th>\n",
       "      <th></th>\n",
       "      <th></th>\n",
       "    </tr>\n",
       "    <tr>\n",
       "      <th>purpose_net</th>\n",
       "      <th></th>\n",
       "      <th></th>\n",
       "      <th></th>\n",
       "      <th></th>\n",
       "    </tr>\n",
       "  </thead>\n",
       "  <tbody>\n",
       "    <tr>\n",
       "      <th>ремонт</th>\n",
       "      <td>35.0</td>\n",
       "      <td>602</td>\n",
       "      <td>5.813953</td>\n",
       "      <td>2.835744</td>\n",
       "    </tr>\n",
       "    <tr>\n",
       "      <th>покупка недвижимости</th>\n",
       "      <td>599.0</td>\n",
       "      <td>8238</td>\n",
       "      <td>7.271182</td>\n",
       "      <td>38.805408</td>\n",
       "    </tr>\n",
       "    <tr>\n",
       "      <th>строительство недвижимости</th>\n",
       "      <td>143.0</td>\n",
       "      <td>1862</td>\n",
       "      <td>7.679914</td>\n",
       "      <td>8.771021</td>\n",
       "    </tr>\n",
       "    <tr>\n",
       "      <th>свадьба</th>\n",
       "      <td>181.0</td>\n",
       "      <td>2299</td>\n",
       "      <td>7.872988</td>\n",
       "      <td>10.829526</td>\n",
       "    </tr>\n",
       "    <tr>\n",
       "      <th>образование</th>\n",
       "      <td>369.0</td>\n",
       "      <td>3970</td>\n",
       "      <td>9.294710</td>\n",
       "      <td>18.700834</td>\n",
       "    </tr>\n",
       "    <tr>\n",
       "      <th>покупка автомобиля</th>\n",
       "      <td>397.0</td>\n",
       "      <td>4258</td>\n",
       "      <td>9.323626</td>\n",
       "      <td>20.057469</td>\n",
       "    </tr>\n",
       "  </tbody>\n",
       "</table>\n",
       "</div>"
      ],
      "text/plain": [
       "                           count_with_debt count_all percentage_debt  \\\n",
       "                                      debt      debt                   \n",
       "purpose_net                                                            \n",
       "ремонт                                35.0       602        5.813953   \n",
       "покупка недвижимости                 599.0      8238        7.271182   \n",
       "строительство недвижимости           143.0      1862        7.679914   \n",
       "свадьба                              181.0      2299        7.872988   \n",
       "образование                          369.0      3970        9.294710   \n",
       "покупка автомобиля                   397.0      4258        9.323626   \n",
       "\n",
       "                           percentage_cust  \n",
       "                                            \n",
       "purpose_net                                 \n",
       "ремонт                            2.835744  \n",
       "покупка недвижимости             38.805408  \n",
       "строительство недвижимости        8.771021  \n",
       "свадьба                          10.829526  \n",
       "образование                      18.700834  \n",
       "покупка автомобиля               20.057469  "
      ]
     },
     "execution_count": 54,
     "metadata": {},
     "output_type": "execute_result"
    }
   ],
   "source": [
    "pivot_index('purpose_net').sort_values(by='percentage_debt')"
   ]
  },
  {
   "cell_type": "markdown",
   "metadata": {},
   "source": [
    "Реже всего (в 2,8% случаях) берут кредит на ремонт квартиры и чаще всего его возвращают - доля невозврата кредита 5,81%. Реже всего возвращают кредит, взятый на образование и приобритение автомобиля - 9,29% и 9,32% соответственно. Доля таких клиентов в общем числе составляет 38%. Почти половина клиентов (47%) берут креди на покупку или строительство жилья, доля невозврата кредита у них составляет 7,27% и 7,68% соответственно. Так же 10% кредитов приобретаются на проведение свадьбы, доля невозврата по ним составляет 7,87.\n",
    "\n",
    "Взаимосвязь между целью кредита и его возвратом есть. Чаще всего не возвращают кредиты, которые берут для получения образования и на обучение. На приобритение недвижимости приходится большая доля кредитов, их возврат более вероятен, чем в первом случае. Также, как правило, чаще возвращаются кредиты, взятые под проведение свадьбы."
   ]
  },
  {
   "cell_type": "markdown",
   "metadata": {},
   "source": [
    "## Выводы "
   ]
  },
  {
   "cell_type": "markdown",
   "metadata": {},
   "source": [
    "**Что было сделано:**\n",
    "- Были выявлены пропуски в двух столбцах: \"общий трудовой стаж в днях\" и \"ежемесячный доход\". Пропуски были заполнены средними показателями по типам занятости, для стажа использовали среднее аримитическое значение, а для ежемесячного дохода взяли медиану.\n",
    "- Изменили тип данных с float на int для значений в столбце \"ежемесячный доход\", с `object` на `category` для столбцов \"образование\", \"пол\" и \"тип занятости\". Для целей нашего анализа данные по \"трудовому стажу в днях\" не были обходимы, поэтому было принято решения оставить их без изменения. Общее потребление памяти снизили  почти вдвое: с 11,8 МВ до 6,5 МВ.\n",
    "- Привели к единому регистру, удалили некорректные данные и отработали дубликаты в данных со строковым типом: \"образование\", \"семейное положение\", \"пол\". \n",
    "- Проверили и обработали некорректные данные в столбцах: \"количество детей\", \"возраст клиента\" и \"имел ли клиент задолженность по возврату кредитов\".\n",
    "- Выделили 6 основных целей получения кредита.\n",
    "- Для анализа взаимосвязи \"семейного положения\" создали словарь family_dict. А так же провели категоризацию \"ежемесячного дохода\" по следующим правилам: \"низкий\" - до 100000 д.е. включительно, \"средний\" - от 100000 до 180000 д.е. включительно и \"высокий\" - свыше 180000 д.е..\n",
    "\n",
    "**Выводы:**\n",
    "- Можем сделать вывод, что взаимосвязь между наличием детей и возвратом кредита прослеживается. На основании анализа, одинокие люди и семьи без детей гораздо чаще берут кредиты и с большей вероятностью их возвращают. Семьи с 1 или 2 детьми берут кредиты гораздо реже и у них больше риск его невозврата. Семьи с 3 и более детей почти не берут кредиты.\n",
    "\n",
    "- Так же можем сделать вывод, что взаимосвязь между семейным положением и возвратом кредита прослеживается. На основании анализа выявили, что люди, бывшие или находящиеся в браке, гораздо чаще возвращают кредиты, чем одинокие люди или пары в гражданском браке. Это может объясняться большей ответственностью и более серьезным подходом к получению кредита. \n",
    "\n",
    "- Взаимосвязь между уровнем дохода и возвратом кредита не явная. Можем предположить, что люди со средним уровнем дохода легче относятся к приобритению кредита, в связи с чем чаще возникают ситуации по его невозврату.\n",
    "\n",
    "- Прослеживается взаимосвязь между целью кредита и его возвратом. Чаще всего не возвращают кредиты, которые берут для получения образования и на обучение. На приобритение недвижимости приходится большая доля кредитов, их возврат более вероятен, чем в первом случае. Также, как правило, чаще возвращаются кредиты, взятые под проведение свадьбы.\n",
    "\n",
    "**Рекомендации:**\n",
    "- Уделять особое внимание при заполнение полей с \"ежемесячным доходом\" и \"общим трудовым стажем в днях\", а также проверить корректность выгрузки по ним.\n",
    "\n",
    "- Категоризировать цели для получения кредита:\n",
    "    - приобритение недвидимости\n",
    "    - строительство недвижимости\n",
    "    - ремонт\n",
    "    - образование\n",
    "    - приобритение автомобиля\n",
    "    - проведение свадьбы\n",
    "    - другие цели\n",
    "\n",
    "- Для последующего анализа предлагаем так же исследовать комплексные взаимосвязи: \n",
    "    - семейного положения, наличия детей и возврата кредита в срок\n",
    "    - уровня дохода, суммы кредита и возврата кредита в срок\n",
    "    - возраст, уровень дохода и возврат кредита в срок\n",
    "    - уровень образования, уровень дохода и и возвратом кредита в срок"
   ]
  }
 ],
 "metadata": {
  "kernelspec": {
   "display_name": "Python 3",
   "language": "python",
   "name": "python3"
  },
  "language_info": {
   "codemirror_mode": {
    "name": "ipython",
    "version": 3
   },
   "file_extension": ".py",
   "mimetype": "text/x-python",
   "name": "python",
   "nbconvert_exporter": "python",
   "pygments_lexer": "ipython3",
   "version": "3.8.5"
  },
  "toc": {
   "base_numbering": 1,
   "nav_menu": {
    "height": "170px",
    "width": "299px"
   },
   "number_sections": true,
   "sideBar": true,
   "skip_h1_title": true,
   "title_cell": "Table of Contents",
   "title_sidebar": "Contents",
   "toc_cell": true,
   "toc_position": {
    "height": "calc(100% - 180px)",
    "left": "10px",
    "top": "150px",
    "width": "199px"
   },
   "toc_section_display": true,
   "toc_window_display": true
  }
 },
 "nbformat": 4,
 "nbformat_minor": 2
}
