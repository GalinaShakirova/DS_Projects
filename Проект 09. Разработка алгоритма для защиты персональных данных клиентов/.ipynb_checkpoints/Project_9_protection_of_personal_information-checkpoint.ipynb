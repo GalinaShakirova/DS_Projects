{
 "cells": [
  {
   "cell_type": "markdown",
   "metadata": {},
   "source": [
    "# Разработка алгоритма для защиты персональных данных клиентов"
   ]
  },
  {
   "cell_type": "markdown",
   "metadata": {},
   "source": [
    "**Заказчик** - страховая компания «Хоть потоп».\n",
    "\n",
    "**Задача** - защитить данные клиентов.\n",
    "\n",
    "Нужно защитить данные, чтобы при их преобразовании качество моделей машинного обучения не ухудшилось."
   ]
  },
  {
   "cell_type": "markdown",
   "metadata": {
    "toc": true
   },
   "source": [
    "<h1>Содержание<span class=\"tocSkip\"></span></h1>\n",
    "<div class=\"toc\"><ul class=\"toc-item\"><li><span><a href=\"#Обзор-данных\" data-toc-modified-id=\"Обзор-данных-1\"><span class=\"toc-item-num\">1&nbsp;&nbsp;</span>Обзор данных</a></span></li><li><span><a href=\"#Подготовка-данных\" data-toc-modified-id=\"Подготовка-данных-2\"><span class=\"toc-item-num\">2&nbsp;&nbsp;</span>Подготовка данных</a></span></li><li><span><a href=\"#Умножение-матриц\" data-toc-modified-id=\"Умножение-матриц-3\"><span class=\"toc-item-num\">3&nbsp;&nbsp;</span>Умножение матриц</a></span></li><li><span><a href=\"#Алгоритм-преобразования\" data-toc-modified-id=\"Алгоритм-преобразования-4\"><span class=\"toc-item-num\">4&nbsp;&nbsp;</span>Алгоритм преобразования</a></span></li><li><span><a href=\"#Проверка-алгоритма\" data-toc-modified-id=\"Проверка-алгоритма-5\"><span class=\"toc-item-num\">5&nbsp;&nbsp;</span>Проверка алгоритма</a></span></li><li><span><a href=\"#Вывод\" data-toc-modified-id=\"Вывод-6\"><span class=\"toc-item-num\">6&nbsp;&nbsp;</span>Вывод</a></span></li></ul></div>"
   ]
  },
  {
   "cell_type": "markdown",
   "metadata": {},
   "source": [
    "## Обзор данных"
   ]
  },
  {
   "cell_type": "markdown",
   "metadata": {},
   "source": [
    "Для начала импортируем необходимые в работе библиотеки."
   ]
  },
  {
   "cell_type": "code",
   "execution_count": 1,
   "metadata": {},
   "outputs": [],
   "source": [
    "import pandas as pd\n",
    "import numpy as np\n",
    "\n",
    "from IPython.display import display\n",
    "\n",
    "from sklearn.metrics import r2_score\n",
    "from sklearn.linear_model import LinearRegression\n"
   ]
  },
  {
   "cell_type": "markdown",
   "metadata": {},
   "source": [
    "Сохраним данные в таблицу."
   ]
  },
  {
   "cell_type": "code",
   "execution_count": 2,
   "metadata": {},
   "outputs": [],
   "source": [
    "df = pd.read_csv('/datasets/insurance.csv')\n",
    "\n",
    "#/datasets/insurance.csv"
   ]
  },
  {
   "cell_type": "markdown",
   "metadata": {},
   "source": [
    "Посмотрим общую информацию об исходных данных."
   ]
  },
  {
   "cell_type": "code",
   "execution_count": 3,
   "metadata": {},
   "outputs": [
    {
     "name": "stdout",
     "output_type": "stream",
     "text": [
      "Первые 5 строк таблицы:\n"
     ]
    },
    {
     "data": {
      "text/html": [
       "<div>\n",
       "<style scoped>\n",
       "    .dataframe tbody tr th:only-of-type {\n",
       "        vertical-align: middle;\n",
       "    }\n",
       "\n",
       "    .dataframe tbody tr th {\n",
       "        vertical-align: top;\n",
       "    }\n",
       "\n",
       "    .dataframe thead th {\n",
       "        text-align: right;\n",
       "    }\n",
       "</style>\n",
       "<table border=\"1\" class=\"dataframe\">\n",
       "  <thead>\n",
       "    <tr style=\"text-align: right;\">\n",
       "      <th></th>\n",
       "      <th>Пол</th>\n",
       "      <th>Возраст</th>\n",
       "      <th>Зарплата</th>\n",
       "      <th>Члены семьи</th>\n",
       "      <th>Страховые выплаты</th>\n",
       "    </tr>\n",
       "  </thead>\n",
       "  <tbody>\n",
       "    <tr>\n",
       "      <td>0</td>\n",
       "      <td>1</td>\n",
       "      <td>41.0</td>\n",
       "      <td>49600.0</td>\n",
       "      <td>1</td>\n",
       "      <td>0</td>\n",
       "    </tr>\n",
       "    <tr>\n",
       "      <td>1</td>\n",
       "      <td>0</td>\n",
       "      <td>46.0</td>\n",
       "      <td>38000.0</td>\n",
       "      <td>1</td>\n",
       "      <td>1</td>\n",
       "    </tr>\n",
       "    <tr>\n",
       "      <td>2</td>\n",
       "      <td>0</td>\n",
       "      <td>29.0</td>\n",
       "      <td>21000.0</td>\n",
       "      <td>0</td>\n",
       "      <td>0</td>\n",
       "    </tr>\n",
       "    <tr>\n",
       "      <td>3</td>\n",
       "      <td>0</td>\n",
       "      <td>21.0</td>\n",
       "      <td>41700.0</td>\n",
       "      <td>2</td>\n",
       "      <td>0</td>\n",
       "    </tr>\n",
       "    <tr>\n",
       "      <td>4</td>\n",
       "      <td>1</td>\n",
       "      <td>28.0</td>\n",
       "      <td>26100.0</td>\n",
       "      <td>0</td>\n",
       "      <td>0</td>\n",
       "    </tr>\n",
       "  </tbody>\n",
       "</table>\n",
       "</div>"
      ],
      "text/plain": [
       "   Пол  Возраст  Зарплата  Члены семьи  Страховые выплаты\n",
       "0    1     41.0   49600.0            1                  0\n",
       "1    0     46.0   38000.0            1                  1\n",
       "2    0     29.0   21000.0            0                  0\n",
       "3    0     21.0   41700.0            2                  0\n",
       "4    1     28.0   26100.0            0                  0"
      ]
     },
     "metadata": {},
     "output_type": "display_data"
    },
    {
     "name": "stdout",
     "output_type": "stream",
     "text": [
      "Минимальные и максимальные значения параметров:\n"
     ]
    },
    {
     "data": {
      "text/html": [
       "<div>\n",
       "<style scoped>\n",
       "    .dataframe tbody tr th:only-of-type {\n",
       "        vertical-align: middle;\n",
       "    }\n",
       "\n",
       "    .dataframe tbody tr th {\n",
       "        vertical-align: top;\n",
       "    }\n",
       "\n",
       "    .dataframe thead th {\n",
       "        text-align: right;\n",
       "    }\n",
       "</style>\n",
       "<table border=\"1\" class=\"dataframe\">\n",
       "  <thead>\n",
       "    <tr style=\"text-align: right;\">\n",
       "      <th></th>\n",
       "      <th>Пол</th>\n",
       "      <th>Возраст</th>\n",
       "      <th>Зарплата</th>\n",
       "      <th>Члены семьи</th>\n",
       "      <th>Страховые выплаты</th>\n",
       "    </tr>\n",
       "  </thead>\n",
       "  <tbody>\n",
       "    <tr>\n",
       "      <td>min</td>\n",
       "      <td>0</td>\n",
       "      <td>18.0</td>\n",
       "      <td>5300.0</td>\n",
       "      <td>0</td>\n",
       "      <td>0</td>\n",
       "    </tr>\n",
       "    <tr>\n",
       "      <td>max</td>\n",
       "      <td>1</td>\n",
       "      <td>65.0</td>\n",
       "      <td>79000.0</td>\n",
       "      <td>6</td>\n",
       "      <td>5</td>\n",
       "    </tr>\n",
       "  </tbody>\n",
       "</table>\n",
       "</div>"
      ],
      "text/plain": [
       "     Пол  Возраст  Зарплата  Члены семьи  Страховые выплаты\n",
       "min    0     18.0    5300.0            0                  0\n",
       "max    1     65.0   79000.0            6                  5"
      ]
     },
     "metadata": {},
     "output_type": "display_data"
    },
    {
     "name": "stdout",
     "output_type": "stream",
     "text": [
      "Общая информация:\n",
      "<class 'pandas.core.frame.DataFrame'>\n",
      "RangeIndex: 5000 entries, 0 to 4999\n",
      "Data columns (total 5 columns):\n",
      "Пол                  5000 non-null int64\n",
      "Возраст              5000 non-null float64\n",
      "Зарплата             5000 non-null float64\n",
      "Члены семьи          5000 non-null int64\n",
      "Страховые выплаты    5000 non-null int64\n",
      "dtypes: float64(2), int64(3)\n",
      "memory usage: 195.4 KB\n"
     ]
    },
    {
     "data": {
      "text/plain": [
       "None"
      ]
     },
     "metadata": {},
     "output_type": "display_data"
    }
   ],
   "source": [
    "print('Первые 5 строк таблицы:')\n",
    "display(df.head())\n",
    "print('Минимальные и максимальные значения параметров:')\n",
    "display(df.agg(['min','max']))\n",
    "print('Общая информация:')\n",
    "display(df.info(memory_usage='deep'))"
   ]
  },
  {
   "cell_type": "markdown",
   "metadata": {},
   "source": [
    "Таблица с исходными данными **df** содержит 5000 строк и 5 столбцов: 2 столбца типа `float` и 3 типа `int`, пропуски в данных отсутствуют. По минимальным и максимальным значениям данные выглядят корректными.\n",
    "\n",
    "Всего таблица занимает 195.4 KB памяти.\n"
   ]
  },
  {
   "cell_type": "markdown",
   "metadata": {},
   "source": [
    "## Подготовка данных"
   ]
  },
  {
   "cell_type": "markdown",
   "metadata": {},
   "source": [
    "Для начала изменим названия столбцов."
   ]
  },
  {
   "cell_type": "code",
   "execution_count": 4,
   "metadata": {},
   "outputs": [
    {
     "data": {
      "text/plain": [
       "Index(['gender', 'age', 'salary', 'family', 'insurance_claim'], dtype='object')"
      ]
     },
     "execution_count": 4,
     "metadata": {},
     "output_type": "execute_result"
    }
   ],
   "source": [
    "df.columns = ['gender', 'age', 'salary', 'family', 'insurance_claim']\n",
    "df.columns"
   ]
  },
  {
   "cell_type": "raw",
   "metadata": {},
   "source": [
    "Проверим данные на наличие дубликатов."
   ]
  },
  {
   "cell_type": "code",
   "execution_count": 5,
   "metadata": {},
   "outputs": [
    {
     "name": "stdout",
     "output_type": "stream",
     "text": [
      "Количество дубликатов в таблице 153\n"
     ]
    }
   ],
   "source": [
    "print('Количество дубликатов в таблице', df.duplicated().sum())"
   ]
  },
  {
   "cell_type": "code",
   "execution_count": 6,
   "metadata": {},
   "outputs": [
    {
     "data": {
      "text/html": [
       "<div>\n",
       "<style scoped>\n",
       "    .dataframe tbody tr th:only-of-type {\n",
       "        vertical-align: middle;\n",
       "    }\n",
       "\n",
       "    .dataframe tbody tr th {\n",
       "        vertical-align: top;\n",
       "    }\n",
       "\n",
       "    .dataframe thead th {\n",
       "        text-align: right;\n",
       "    }\n",
       "</style>\n",
       "<table border=\"1\" class=\"dataframe\">\n",
       "  <thead>\n",
       "    <tr style=\"text-align: right;\">\n",
       "      <th></th>\n",
       "      <th>gender</th>\n",
       "      <th>age</th>\n",
       "      <th>salary</th>\n",
       "      <th>family</th>\n",
       "      <th>insurance_claim</th>\n",
       "    </tr>\n",
       "  </thead>\n",
       "  <tbody>\n",
       "    <tr>\n",
       "      <td>2988</td>\n",
       "      <td>1</td>\n",
       "      <td>32.0</td>\n",
       "      <td>21600.0</td>\n",
       "      <td>0</td>\n",
       "      <td>0</td>\n",
       "    </tr>\n",
       "    <tr>\n",
       "      <td>2869</td>\n",
       "      <td>0</td>\n",
       "      <td>50.0</td>\n",
       "      <td>24700.0</td>\n",
       "      <td>1</td>\n",
       "      <td>2</td>\n",
       "    </tr>\n",
       "    <tr>\n",
       "      <td>4230</td>\n",
       "      <td>0</td>\n",
       "      <td>32.0</td>\n",
       "      <td>25600.0</td>\n",
       "      <td>1</td>\n",
       "      <td>0</td>\n",
       "    </tr>\n",
       "    <tr>\n",
       "      <td>2723</td>\n",
       "      <td>0</td>\n",
       "      <td>36.0</td>\n",
       "      <td>26400.0</td>\n",
       "      <td>0</td>\n",
       "      <td>0</td>\n",
       "    </tr>\n",
       "    <tr>\n",
       "      <td>1140</td>\n",
       "      <td>1</td>\n",
       "      <td>34.0</td>\n",
       "      <td>26900.0</td>\n",
       "      <td>0</td>\n",
       "      <td>0</td>\n",
       "    </tr>\n",
       "    <tr>\n",
       "      <td>2565</td>\n",
       "      <td>1</td>\n",
       "      <td>31.0</td>\n",
       "      <td>27900.0</td>\n",
       "      <td>1</td>\n",
       "      <td>0</td>\n",
       "    </tr>\n",
       "    <tr>\n",
       "      <td>3315</td>\n",
       "      <td>1</td>\n",
       "      <td>30.0</td>\n",
       "      <td>28200.0</td>\n",
       "      <td>0</td>\n",
       "      <td>0</td>\n",
       "    </tr>\n",
       "    <tr>\n",
       "      <td>2501</td>\n",
       "      <td>0</td>\n",
       "      <td>25.0</td>\n",
       "      <td>28300.0</td>\n",
       "      <td>0</td>\n",
       "      <td>0</td>\n",
       "    </tr>\n",
       "    <tr>\n",
       "      <td>4189</td>\n",
       "      <td>1</td>\n",
       "      <td>31.0</td>\n",
       "      <td>28400.0</td>\n",
       "      <td>1</td>\n",
       "      <td>0</td>\n",
       "    </tr>\n",
       "    <tr>\n",
       "      <td>3333</td>\n",
       "      <td>0</td>\n",
       "      <td>36.0</td>\n",
       "      <td>29700.0</td>\n",
       "      <td>2</td>\n",
       "      <td>0</td>\n",
       "    </tr>\n",
       "  </tbody>\n",
       "</table>\n",
       "</div>"
      ],
      "text/plain": [
       "      gender   age   salary  family  insurance_claim\n",
       "2988       1  32.0  21600.0       0                0\n",
       "2869       0  50.0  24700.0       1                2\n",
       "4230       0  32.0  25600.0       1                0\n",
       "2723       0  36.0  26400.0       0                0\n",
       "1140       1  34.0  26900.0       0                0\n",
       "2565       1  31.0  27900.0       1                0\n",
       "3315       1  30.0  28200.0       0                0\n",
       "2501       0  25.0  28300.0       0                0\n",
       "4189       1  31.0  28400.0       1                0\n",
       "3333       0  36.0  29700.0       2                0"
      ]
     },
     "execution_count": 6,
     "metadata": {},
     "output_type": "execute_result"
    }
   ],
   "source": [
    "df[df.duplicated()==True].sort_values(by='salary').head(10)"
   ]
  },
  {
   "cell_type": "markdown",
   "metadata": {},
   "source": [
    "С точки зрения персональных данных, представленные параметры могут быть идентичными для двух и более клиентов и это нормальная ситуация, а не дубли. Но в данной работе требуется обучить модели для защиты информации, поэтому такие совпадения удалим."
   ]
  },
  {
   "cell_type": "code",
   "execution_count": 7,
   "metadata": {},
   "outputs": [
    {
     "name": "stdout",
     "output_type": "stream",
     "text": [
      "Количество дубликатов в таблице 0\n",
      "Количество строк в таблице: 4847\n"
     ]
    }
   ],
   "source": [
    "df = df.drop_duplicates().reset_index(drop=True)\n",
    "print('Количество дубликатов в таблице', df.duplicated().sum())\n",
    "print('Количество строк в таблице:',len(df))"
   ]
  },
  {
   "cell_type": "markdown",
   "metadata": {},
   "source": [
    "## Умножение матриц"
   ]
  },
  {
   "cell_type": "markdown",
   "metadata": {},
   "source": [
    "Перед нами стоит вопрос: \"Что будет, если признаки умножить на обратимую матрицу. Изменится ли качество линейной регрессии?\". \n",
    "\n",
    "Для начала запишем формулы для линейной регрессии."
   ]
  },
  {
   "cell_type": "markdown",
   "metadata": {},
   "source": [
    "Обозначения:\n",
    "\n",
    "- $X$ — матрица признаков (нулевой столбец состоит из единиц)\n",
    "\n",
    "- $y$ — вектор целевого признака\n",
    "\n",
    "- $w$ — вектор весов линейной регрессии (нулевой элемент равен сдвигу) \n",
    "\n",
    "- $P$ — обратимая матрица, на которую умножаются признаки"
   ]
  },
  {
   "cell_type": "markdown",
   "metadata": {},
   "source": [
    "Предсказания:\n",
    "\n",
    "$$\n",
    "a = Xw\n",
    "$$\n",
    "\n",
    "Задача обучения:\n",
    "\n",
    "$$\n",
    "w = \\arg\\min_w MSE(Xw, y)\n",
    "$$\n",
    "\n",
    "Формула обучения:\n",
    "\n",
    "$$\n",
    "w = (X^T X)^{-1} X^T y\n",
    "$$"
   ]
  },
  {
   "cell_type": "markdown",
   "metadata": {},
   "source": [
    "Предположим, что у нас есть некая случайная обратимая матрица P, на которую умножается исходная матрица признаков. Тогда формула для предсказания линейной регрессии будет выглядеть следующим образом. \n",
    "\n",
    "$$\n",
    "a_p = XPw_p\n",
    "$$\n",
    "\n",
    "$$\n",
    "w_p = ((XP)^T (XP))^{-1} (XP)^T y\n",
    "$$\n",
    "\n",
    "Для начала рассмотрим отдельно формулу для определения весов $w_p$.\n",
    "\n",
    "Согласно свойству транспонированных матриц - **\"Транспонированное произведение матриц равно произведению транспонированных матриц, взятых в обратном порядке.\"**: $ (AB)^T = B^T A^T $, преобразуем формулу:\n",
    "\n",
    "$$\n",
    "w_p = (P^T X^T (XP))^{-1}  P^T X^T y\n",
    "$$\n",
    "\n",
    "Согласно ассоциативному свойству: $ (AB)C = A(BC) $, также преобразуем нашу формулу:\n",
    "\n",
    "$$\n",
    "w_p = ( P^T (X^T X) P)^{-1} P^T X^T y\n",
    "$$\n",
    "\n",
    "Далее произведем преобразование формулы, основываясь на свойстве $ (АВ)^{-1} = В^{-1} А^{-1} $:\n",
    "\n",
    "$$\n",
    "w_p =  P^{-1}  (X^TX)^{-1} (P^T)^{-1} P^T X^T y\n",
    "$$\n",
    "\n",
    "Получили единичную матрицу: $ (P^T)^{-1} P^T $, а зная, что при умножении матрицы на единичную матрицу, получим ту же матрицу, то уберем ее из формулы и получившееся выражение подставим в формулу для предсказания.\n",
    "\n",
    "$$\n",
    "w_p =  P^{-1} (X^TX)^{-1} X^T  y = P^{-1}  w\n",
    "$$\n",
    "\n",
    "$$\n",
    "a_p =  XP P^{-1} w\n",
    "$$\n",
    "\n",
    "Снова получили обратимую матрицу: $ P^{-1} P $. Итоговая формала для предсказания при умножении признаком на случайную обратимую матрицу выглядит:\n",
    "\n",
    "$$\n",
    "a_p =  X w\n",
    "$$\n",
    "\n",
    "Таким образом получили, что умножение матрицы признаков на случайную обратимую матрицу не изменит качество линейной регрессии."
   ]
  },
  {
   "cell_type": "markdown",
   "metadata": {},
   "source": [
    "## Алгоритм преобразования"
   ]
  },
  {
   "cell_type": "markdown",
   "metadata": {},
   "source": [
    "Напишем алгоритм преобразования исходных данных в зашифрованный вид."
   ]
  },
  {
   "cell_type": "markdown",
   "metadata": {},
   "source": [
    "**Алгоритм**:\n",
    "1. Создаем квадратную случайную матрицу, ее размер равен ширине матрицы исходных признаков.\n",
    "2. Проверяем случайную матрицу на обратимость.\n",
    "3. Получаем новые закодированные признаки, умножив случайную матрицу на исходные признаки.\n",
    "4. Обучаем модель линейной регрессии на исхродных и преобразованных данных, после чего определяем метрику R2 и сравниваем.\n",
    "\n"
   ]
  },
  {
   "cell_type": "markdown",
   "metadata": {},
   "source": [
    "Выделим признаки и целевой признак."
   ]
  },
  {
   "cell_type": "code",
   "execution_count": 8,
   "metadata": {
    "scrolled": true
   },
   "outputs": [
    {
     "data": {
      "text/plain": [
       "(4847, 4)"
      ]
     },
     "metadata": {},
     "output_type": "display_data"
    },
    {
     "data": {
      "text/plain": [
       "(4847,)"
      ]
     },
     "metadata": {},
     "output_type": "display_data"
    }
   ],
   "source": [
    "features = df.drop('insurance_claim', axis=1)\n",
    "target = df['insurance_claim']\n",
    "\n",
    "#проверка\n",
    "display(features.shape)\n",
    "display(target.shape)"
   ]
  },
  {
   "cell_type": "markdown",
   "metadata": {},
   "source": [
    "Напишем функцию для создания случайной квадратной матрицы, которая так же проверяет матрицу на обратимость."
   ]
  },
  {
   "cell_type": "code",
   "execution_count": 9,
   "metadata": {},
   "outputs": [],
   "source": [
    "def random_matrix(array):\n",
    "    '''Возвращает случайную квадратную матрицу, размер которой соответствует ширине входящего массива'''\n",
    "    np.random.seed(13)\n",
    "    m = array.shape[1]\n",
    " \n",
    "    matrix = np.random.normal(size = (m,m))\n",
    "    \n",
    "    print('Размер матрицы:', matrix.shape,\n",
    "          '\\n',\n",
    "         '\\n Матрица:', \n",
    "          '\\n', matrix,\n",
    "          '\\n',\n",
    "         '\\n Обратная матрица:', \n",
    "          '\\n', np.linalg.inv(matrix))\n",
    "    \n",
    "    return matrix"
   ]
  },
  {
   "cell_type": "markdown",
   "metadata": {},
   "source": [
    "Сохраним случайную матрицу для исходных признаков."
   ]
  },
  {
   "cell_type": "code",
   "execution_count": 10,
   "metadata": {
    "scrolled": true
   },
   "outputs": [
    {
     "name": "stdout",
     "output_type": "stream",
     "text": [
      "Размер матрицы: (4, 4) \n",
      " \n",
      " Матрица: \n",
      " [[-0.71239066  0.75376638 -0.04450308  0.45181234]\n",
      " [ 1.34510171  0.53233789  1.3501879   0.86121137]\n",
      " [ 1.47868574 -1.04537713 -0.78898902 -1.26160595]\n",
      " [ 0.56284679 -0.24332625  0.9137407   0.31735092]] \n",
      " \n",
      " Обратная матрица: \n",
      " [[ -4.13171828   1.55404149  -1.33761592  -3.65255313]\n",
      " [ 13.59530389  -2.57028117   5.41159321   9.13287874]\n",
      " [ 15.02284232  -3.85029879   5.93026449  12.63608275]\n",
      " [-25.50288423   6.35911368 -10.55320246 -19.75102566]]\n"
     ]
    }
   ],
   "source": [
    "matrix = random_matrix(features)\n"
   ]
  },
  {
   "cell_type": "markdown",
   "metadata": {},
   "source": [
    "Мы получили случайную матрицу размером (4,4). Полученная матрица обратима. Получим новые зашифрованные признаки."
   ]
  },
  {
   "cell_type": "code",
   "execution_count": 11,
   "metadata": {},
   "outputs": [
    {
     "name": "stdout",
     "output_type": "stream",
     "text": [
      "Размер матрицы новых признаков: (4847, 4) \n",
      " \n",
      " Зашифрованные признаки: \n",
      "                  0             1             2             3\n",
      "0     73397.812203 -51828.369381 -39077.628696 -62539.576058\n",
      "1     56252.495548 -39700.086744 -29918.560564 -47901.092848\n",
      "2     31091.408436 -21937.481943 -16529.614075 -26468.749722\n",
      "3     61690.568081 -43581.533900 -32870.660913 -52590.247779\n",
      "4     38630.648204 -27268.683880 -20554.852793 -32903.349442\n",
      "...            ...           ...           ...           ...\n",
      "4842  52827.869368 -37305.544752 -28127.275448 -45014.583628\n",
      "4843  77529.428947 -54759.905478 -41296.204778 -66078.552997\n",
      "4844  50155.474227 -35428.124620 -26717.896706 -42750.582617\n",
      "4845  48383.592001 -34172.096947 -25767.540263 -41234.163897\n",
      "4846  60072.154244 -42426.895599 -31994.279914 -51196.318298\n",
      "\n",
      "[4847 rows x 4 columns]\n"
     ]
    }
   ],
   "source": [
    "encrypted_features = features @ matrix\n",
    "\n",
    "print('Размер матрицы новых признаков:', encrypted_features.shape,\n",
    "      '\\n',\n",
    "      '\\n Зашифрованные признаки:',\n",
    "      '\\n', encrypted_features)"
   ]
  },
  {
   "cell_type": "markdown",
   "metadata": {},
   "source": [
    "Как выше уже доказали, данный алгоритм не изменит качество линейной регрессии, так как предсказания модели не изменятся:\n",
    "\n",
    "$$\n",
    "a_p =  XP P^{-1} w =   X w = a\n",
    "$$\n"
   ]
  },
  {
   "cell_type": "markdown",
   "metadata": {},
   "source": [
    "## Проверка алгоритма"
   ]
  },
  {
   "cell_type": "markdown",
   "metadata": {},
   "source": [
    "Создадим модель линейной регрессии, обучим ее на исходных данных и посмотрим на метрику R2."
   ]
  },
  {
   "cell_type": "code",
   "execution_count": 12,
   "metadata": {},
   "outputs": [
    {
     "name": "stdout",
     "output_type": "stream",
     "text": [
      "R2 для исходных признаков: 0.430\n"
     ]
    }
   ],
   "source": [
    "model = LinearRegression()\n",
    "model.fit(features, target)\n",
    "predictions = model.predict(features)\n",
    "r2 = r2_score(target, predictions)\n",
    "print('R2 для исходных признаков: {:.3f}'.format(r2))"
   ]
  },
  {
   "cell_type": "markdown",
   "metadata": {},
   "source": [
    "Теперь проверим наш алгоритм."
   ]
  },
  {
   "cell_type": "code",
   "execution_count": 13,
   "metadata": {},
   "outputs": [
    {
     "name": "stdout",
     "output_type": "stream",
     "text": [
      "R2 для признаков, умноженных на обратимую матрицу: 0.430\n"
     ]
    }
   ],
   "source": [
    "model_encrypt= LinearRegression()\n",
    "model_encrypt.fit(encrypted_features, target)\n",
    "predictions = model_encrypt.predict(encrypted_features)\n",
    "r2_encrypt = r2_score(target, predictions)\n",
    "print('R2 для признаков, умноженных на обратимую матрицу: {:.3f}'.format(r2_encrypt))"
   ]
  },
  {
   "cell_type": "markdown",
   "metadata": {},
   "source": [
    "Как и ожидали, качество модели не изменилось. В обоих случаях метрика R2 равна **0.430**."
   ]
  },
  {
   "cell_type": "markdown",
   "metadata": {},
   "source": [
    "## Вывод"
   ]
  },
  {
   "cell_type": "markdown",
   "metadata": {},
   "source": [
    "1. Теоритически доказали, что при умножении исходных признаков на случайную обратную матрицу, качество предсказаний модели линейной регрессии не изменится.\n",
    "\n",
    "\n",
    "2. Сформировали алгоритм шифровки персональных данных, основанный на доказанной выше теории.\n",
    "\n",
    "\n",
    "3. Проверили алгоритм на практике, сравнив метрики R2 на исходных и зашифрованных данных. Полученные метрики идентичны.\n",
    "\n",
    "Таким образом, мы получили алгоритм для защиты персональных данных."
   ]
  }
 ],
 "metadata": {
  "ExecuteTimeLog": [
   {
    "duration": 1316,
    "start_time": "2021-06-24T20:40:43.750Z"
   },
   {
    "duration": 19,
    "start_time": "2021-06-24T20:40:45.068Z"
   },
   {
    "duration": 44,
    "start_time": "2021-06-24T20:40:45.090Z"
   },
   {
    "duration": 6,
    "start_time": "2021-06-24T20:40:45.136Z"
   },
   {
    "duration": 39,
    "start_time": "2021-06-24T20:40:45.144Z"
   },
   {
    "duration": 18,
    "start_time": "2021-06-24T20:40:45.185Z"
   },
   {
    "duration": 12,
    "start_time": "2021-06-24T20:40:45.205Z"
   },
   {
    "duration": 8,
    "start_time": "2021-06-24T20:40:45.219Z"
   },
   {
    "duration": 5,
    "start_time": "2021-06-24T20:40:45.230Z"
   },
   {
    "duration": 52,
    "start_time": "2021-06-24T20:40:45.238Z"
   },
   {
    "duration": 90,
    "start_time": "2021-06-24T20:40:45.293Z"
   },
   {
    "duration": 196,
    "start_time": "2021-06-24T20:40:45.386Z"
   },
   {
    "duration": 12,
    "start_time": "2021-06-24T20:40:45.585Z"
   },
   {
    "duration": 9,
    "start_time": "2021-06-25T12:03:46.791Z"
   },
   {
    "duration": 379,
    "start_time": "2021-06-25T12:03:50.047Z"
   },
   {
    "duration": 1478,
    "start_time": "2021-06-25T12:04:01.558Z"
   },
   {
    "duration": 23,
    "start_time": "2021-06-25T12:04:03.038Z"
   },
   {
    "duration": 59,
    "start_time": "2021-06-25T12:04:03.065Z"
   },
   {
    "duration": 6,
    "start_time": "2021-06-25T12:04:03.126Z"
   },
   {
    "duration": 12,
    "start_time": "2021-06-25T12:04:03.134Z"
   },
   {
    "duration": 64,
    "start_time": "2021-06-25T12:04:03.148Z"
   },
   {
    "duration": 12,
    "start_time": "2021-06-25T12:04:03.215Z"
   },
   {
    "duration": 28,
    "start_time": "2021-06-25T12:04:03.230Z"
   },
   {
    "duration": 33,
    "start_time": "2021-06-25T12:04:03.261Z"
   },
   {
    "duration": 30,
    "start_time": "2021-06-25T12:04:03.298Z"
   },
   {
    "duration": 75,
    "start_time": "2021-06-25T12:04:03.332Z"
   },
   {
    "duration": 179,
    "start_time": "2021-06-25T12:04:03.410Z"
   },
   {
    "duration": 98,
    "start_time": "2021-06-25T12:04:03.598Z"
   },
   {
    "duration": 8,
    "start_time": "2021-06-25T12:04:13.573Z"
   },
   {
    "duration": 8,
    "start_time": "2021-06-25T12:04:14.302Z"
   },
   {
    "duration": 10,
    "start_time": "2021-06-25T12:04:14.995Z"
   },
   {
    "duration": 10,
    "start_time": "2021-06-25T12:04:15.589Z"
   },
   {
    "duration": 20,
    "start_time": "2021-06-25T12:04:16.188Z"
   },
   {
    "duration": 8,
    "start_time": "2021-06-25T12:04:16.816Z"
   },
   {
    "duration": 1435,
    "start_time": "2021-06-25T12:17:01.982Z"
   },
   {
    "duration": 23,
    "start_time": "2021-06-25T12:17:03.419Z"
   },
   {
    "duration": 68,
    "start_time": "2021-06-25T12:17:03.445Z"
   },
   {
    "duration": 7,
    "start_time": "2021-06-25T12:17:03.516Z"
   },
   {
    "duration": 26,
    "start_time": "2021-06-25T12:17:03.525Z"
   },
   {
    "duration": 43,
    "start_time": "2021-06-25T12:17:03.553Z"
   },
   {
    "duration": 18,
    "start_time": "2021-06-25T12:17:03.599Z"
   },
   {
    "duration": 11,
    "start_time": "2021-06-25T12:17:03.622Z"
   },
   {
    "duration": 10,
    "start_time": "2021-06-25T12:17:03.637Z"
   },
   {
    "duration": 59,
    "start_time": "2021-06-25T12:17:03.649Z"
   },
   {
    "duration": 86,
    "start_time": "2021-06-25T12:17:03.713Z"
   },
   {
    "duration": 101,
    "start_time": "2021-06-25T12:17:03.806Z"
   },
   {
    "duration": 92,
    "start_time": "2021-06-25T12:17:03.911Z"
   },
   {
    "duration": 1427,
    "start_time": "2021-06-25T12:17:20.242Z"
   },
   {
    "duration": 26,
    "start_time": "2021-06-25T12:17:21.672Z"
   },
   {
    "duration": 49,
    "start_time": "2021-06-25T12:17:21.702Z"
   },
   {
    "duration": 34,
    "start_time": "2021-06-25T12:17:21.754Z"
   },
   {
    "duration": 16,
    "start_time": "2021-06-25T12:17:21.791Z"
   },
   {
    "duration": 20,
    "start_time": "2021-06-25T12:17:21.810Z"
   },
   {
    "duration": 58,
    "start_time": "2021-06-25T12:17:21.833Z"
   },
   {
    "duration": 11,
    "start_time": "2021-06-25T12:17:21.895Z"
   },
   {
    "duration": 6,
    "start_time": "2021-06-25T12:17:21.910Z"
   },
   {
    "duration": 12,
    "start_time": "2021-06-25T12:17:21.919Z"
   },
   {
    "duration": 92,
    "start_time": "2021-06-25T12:17:21.995Z"
   },
   {
    "duration": 101,
    "start_time": "2021-06-25T12:17:22.090Z"
   },
   {
    "duration": 111,
    "start_time": "2021-06-25T12:17:22.195Z"
   },
   {
    "duration": 5,
    "start_time": "2021-06-25T12:19:27.767Z"
   },
   {
    "duration": 8,
    "start_time": "2021-06-25T12:19:30.345Z"
   },
   {
    "duration": 8,
    "start_time": "2021-06-25T12:19:32.583Z"
   },
   {
    "duration": 10,
    "start_time": "2021-06-25T12:19:35.375Z"
   },
   {
    "duration": 9,
    "start_time": "2021-06-25T12:19:36.747Z"
   },
   {
    "duration": 6,
    "start_time": "2021-06-25T12:19:44.162Z"
   },
   {
    "duration": 8,
    "start_time": "2021-06-25T12:19:46.213Z"
   },
   {
    "duration": 6,
    "start_time": "2021-06-25T12:19:50.847Z"
   },
   {
    "duration": 9,
    "start_time": "2021-06-25T12:19:53.542Z"
   },
   {
    "duration": 12,
    "start_time": "2021-06-25T12:19:54.417Z"
   },
   {
    "duration": 10,
    "start_time": "2021-06-25T12:19:55.101Z"
   },
   {
    "duration": 9,
    "start_time": "2021-06-25T12:19:56.948Z"
   },
   {
    "duration": 12,
    "start_time": "2021-06-25T12:20:00.404Z"
   },
   {
    "duration": 11,
    "start_time": "2021-06-25T12:20:01.734Z"
   },
   {
    "duration": 1354,
    "start_time": "2021-06-25T12:27:57.702Z"
   },
   {
    "duration": 24,
    "start_time": "2021-06-25T12:27:59.059Z"
   },
   {
    "duration": 50,
    "start_time": "2021-06-25T12:27:59.088Z"
   },
   {
    "duration": 6,
    "start_time": "2021-06-25T12:27:59.141Z"
   },
   {
    "duration": 44,
    "start_time": "2021-06-25T12:27:59.149Z"
   },
   {
    "duration": 20,
    "start_time": "2021-06-25T12:27:59.196Z"
   },
   {
    "duration": 12,
    "start_time": "2021-06-25T12:27:59.219Z"
   },
   {
    "duration": 52,
    "start_time": "2021-06-25T12:27:59.234Z"
   },
   {
    "duration": 8,
    "start_time": "2021-06-25T12:27:59.290Z"
   },
   {
    "duration": 18,
    "start_time": "2021-06-25T12:27:59.302Z"
   },
   {
    "duration": 77,
    "start_time": "2021-06-25T12:27:59.323Z"
   },
   {
    "duration": 100,
    "start_time": "2021-06-25T12:27:59.404Z"
   },
   {
    "duration": 89,
    "start_time": "2021-06-25T12:27:59.507Z"
   },
   {
    "duration": 1321,
    "start_time": "2021-06-25T12:59:13.982Z"
   },
   {
    "duration": 22,
    "start_time": "2021-06-25T12:59:15.306Z"
   },
   {
    "duration": 63,
    "start_time": "2021-06-25T12:59:15.332Z"
   },
   {
    "duration": 6,
    "start_time": "2021-06-25T12:59:15.398Z"
   },
   {
    "duration": 9,
    "start_time": "2021-06-25T12:59:15.407Z"
   },
   {
    "duration": 19,
    "start_time": "2021-06-25T12:59:15.418Z"
   },
   {
    "duration": 54,
    "start_time": "2021-06-25T12:59:15.440Z"
   },
   {
    "duration": 9,
    "start_time": "2021-06-25T12:59:15.497Z"
   },
   {
    "duration": 6,
    "start_time": "2021-06-25T12:59:15.509Z"
   },
   {
    "duration": 22,
    "start_time": "2021-06-25T12:59:15.518Z"
   },
   {
    "duration": 17,
    "start_time": "2021-06-25T12:59:15.588Z"
   },
   {
    "duration": 102,
    "start_time": "2021-06-25T12:59:15.686Z"
   },
   {
    "duration": 102,
    "start_time": "2021-06-25T12:59:15.793Z"
   }
  ],
  "kernelspec": {
   "display_name": "Python 3",
   "language": "python",
   "name": "python3"
  },
  "language_info": {
   "codemirror_mode": {
    "name": "ipython",
    "version": 3
   },
   "file_extension": ".py",
   "mimetype": "text/x-python",
   "name": "python",
   "nbconvert_exporter": "python",
   "pygments_lexer": "ipython3",
   "version": "3.8.5"
  },
  "toc": {
   "base_numbering": 1,
   "nav_menu": {},
   "number_sections": true,
   "sideBar": true,
   "skip_h1_title": true,
   "title_cell": "Содержание",
   "title_sidebar": "Contents",
   "toc_cell": true,
   "toc_position": {
    "height": "calc(100% - 180px)",
    "left": "10px",
    "top": "150px",
    "width": "284.796875px"
   },
   "toc_section_display": true,
   "toc_window_display": true
  }
 },
 "nbformat": 4,
 "nbformat_minor": 2
}
