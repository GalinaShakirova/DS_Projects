{
 "cells": [
  {
   "cell_type": "markdown",
   "metadata": {},
   "source": [
    "# Прогноз оттока клиентов банка «Бета-Банка»"
   ]
  },
  {
   "cell_type": "markdown",
   "metadata": {},
   "source": [
    "**Заказчик** - «Бета-Банк».\n",
    "Из «Бета-Банка» стали уходить клиенты каждый месяц. Немного, но заметно. Банковские маркетологи посчитали: сохранять текущих клиентов дешевле, чем привлекать новых.\n",
    "\n",
    "\n",
    "**Входные данные** - исторические данные о поведении клиентов и расторжении договоров с банком.\n",
    "\n",
    "\n",
    "**Задача** - построить модель для прогноза оттока клиентов.\n"
   ]
  },
  {
   "cell_type": "markdown",
   "metadata": {
    "toc": true
   },
   "source": [
    "<h1>Table of Contents<span class=\"tocSkip\"></span></h1>\n",
    "<div class=\"toc\"><ul class=\"toc-item\"><li><span><a href=\"#Обзор-данных\" data-toc-modified-id=\"Обзор-данных-1\"><span class=\"toc-item-num\">1&nbsp;&nbsp;</span>Обзор данных</a></span></li><li><span><a href=\"#Предобработка-данных\" data-toc-modified-id=\"Предобработка-данных-2\"><span class=\"toc-item-num\">2&nbsp;&nbsp;</span>Предобработка данных</a></span><ul class=\"toc-item\"><li><span><a href=\"#Работа-с-пропущенными-значениями\" data-toc-modified-id=\"Работа-с-пропущенными-значениями-2.1\"><span class=\"toc-item-num\">2.1&nbsp;&nbsp;</span>Работа с пропущенными значениями</a></span></li><li><span><a href=\"#Изменение-типа-данных\" data-toc-modified-id=\"Изменение-типа-данных-2.2\"><span class=\"toc-item-num\">2.2&nbsp;&nbsp;</span>Изменение типа данных</a></span></li><li><span><a href=\"#Подготовка-данных\" data-toc-modified-id=\"Подготовка-данных-2.3\"><span class=\"toc-item-num\">2.3&nbsp;&nbsp;</span>Подготовка данных</a></span></li></ul></li><li><span><a href=\"#Создание-моделей-без-учета-дисбаланса-классов\" data-toc-modified-id=\"Создание-моделей-без-учета-дисбаланса-классов-3\"><span class=\"toc-item-num\">3&nbsp;&nbsp;</span>Создание моделей без учета дисбаланса классов</a></span></li><li><span><a href=\"#Создание-моделей-с-учетом-дисбаланса-классов\" data-toc-modified-id=\"Создание-моделей-с-учетом-дисбаланса-классов-4\"><span class=\"toc-item-num\">4&nbsp;&nbsp;</span>Создание моделей с учетом дисбаланса классов</a></span><ul class=\"toc-item\"><li><span><a href=\"#Взвешивание-классов\" data-toc-modified-id=\"Взвешивание-классов-4.1\"><span class=\"toc-item-num\">4.1&nbsp;&nbsp;</span>Взвешивание классов</a></span></li><li><span><a href=\"#Техника-upsampling\" data-toc-modified-id=\"Техника-upsampling-4.2\"><span class=\"toc-item-num\">4.2&nbsp;&nbsp;</span>Техника upsampling</a></span></li></ul></li><li><span><a href=\"#Проверка-моделей-на-тестовой-выборке\" data-toc-modified-id=\"Проверка-моделей-на-тестовой-выборке-5\"><span class=\"toc-item-num\">5&nbsp;&nbsp;</span>Проверка моделей на тестовой выборке</a></span></li><li><span><a href=\"#Проверка-модели-на-адекватность\" data-toc-modified-id=\"Проверка-модели-на-адекватность-6\"><span class=\"toc-item-num\">6&nbsp;&nbsp;</span>Проверка модели на адекватность</a></span></li><li><span><a href=\"#Вывод\" data-toc-modified-id=\"Вывод-7\"><span class=\"toc-item-num\">7&nbsp;&nbsp;</span>Вывод</a></span></li></ul></div>"
   ]
  },
  {
   "cell_type": "markdown",
   "metadata": {},
   "source": [
    "## Обзор данных"
   ]
  },
  {
   "cell_type": "markdown",
   "metadata": {},
   "source": [
    "Для начала импортируем необходимые в работе библиотеки."
   ]
  },
  {
   "cell_type": "code",
   "execution_count": 1,
   "metadata": {},
   "outputs": [
    {
     "name": "stdout",
     "output_type": "stream",
     "text": [
      "Requirement already satisfied: catboost in ./opt/anaconda3/lib/python3.8/site-packages (0.25.1)\n",
      "Requirement already satisfied: six in ./opt/anaconda3/lib/python3.8/site-packages (from catboost) (1.15.0)\n",
      "Requirement already satisfied: graphviz in ./opt/anaconda3/lib/python3.8/site-packages (from catboost) (0.16)\n",
      "Requirement already satisfied: plotly in ./opt/anaconda3/lib/python3.8/site-packages (from catboost) (4.14.3)\n",
      "Requirement already satisfied: scipy in ./opt/anaconda3/lib/python3.8/site-packages (from catboost) (1.5.2)\n",
      "Requirement already satisfied: matplotlib in ./opt/anaconda3/lib/python3.8/site-packages (from catboost) (3.3.2)\n",
      "Requirement already satisfied: pandas>=0.24.0 in ./opt/anaconda3/lib/python3.8/site-packages (from catboost) (1.1.3)\n",
      "Requirement already satisfied: numpy>=1.16.0 in ./opt/anaconda3/lib/python3.8/site-packages (from catboost) (1.19.2)\n",
      "Requirement already satisfied: retrying>=1.3.3 in ./opt/anaconda3/lib/python3.8/site-packages (from plotly->catboost) (1.3.3)\n",
      "Requirement already satisfied: certifi>=2020.06.20 in ./opt/anaconda3/lib/python3.8/site-packages (from matplotlib->catboost) (2020.6.20)\n",
      "Requirement already satisfied: python-dateutil>=2.1 in ./opt/anaconda3/lib/python3.8/site-packages (from matplotlib->catboost) (2.8.1)\n",
      "Requirement already satisfied: cycler>=0.10 in ./opt/anaconda3/lib/python3.8/site-packages (from matplotlib->catboost) (0.10.0)\n",
      "Requirement already satisfied: kiwisolver>=1.0.1 in ./opt/anaconda3/lib/python3.8/site-packages (from matplotlib->catboost) (1.3.0)\n",
      "Requirement already satisfied: pyparsing!=2.0.4,!=2.1.2,!=2.1.6,>=2.0.3 in ./opt/anaconda3/lib/python3.8/site-packages (from matplotlib->catboost) (2.4.7)\n",
      "Requirement already satisfied: pillow>=6.2.0 in ./opt/anaconda3/lib/python3.8/site-packages (from matplotlib->catboost) (8.0.1)\n",
      "Requirement already satisfied: pytz>=2017.2 in ./opt/anaconda3/lib/python3.8/site-packages (from pandas>=0.24.0->catboost) (2020.1)\n"
     ]
    }
   ],
   "source": [
    "! pip install catboost"
   ]
  },
  {
   "cell_type": "code",
   "execution_count": 1,
   "metadata": {},
   "outputs": [],
   "source": [
    "import pandas as pd\n",
    "import numpy as np\n",
    "pd.options.mode.chained_assignment = None\n",
    "\n",
    "from IPython.display import display\n",
    "\n",
    "from sklearn.model_selection import train_test_split\n",
    "from sklearn.tree import DecisionTreeClassifier \n",
    "from sklearn.ensemble import RandomForestClassifier \n",
    "from sklearn.linear_model import LogisticRegression \n",
    "from sklearn.preprocessing import StandardScaler \n",
    "from sklearn.model_selection import GridSearchCV\n",
    "from sklearn.metrics import recall_score\n",
    "from sklearn.metrics import precision_score\n",
    "from sklearn.metrics import f1_score\n",
    "from sklearn.metrics import roc_curve \n",
    "from sklearn.metrics import roc_auc_score\n",
    "from sklearn.utils import shuffle\n",
    "\n",
    "\n",
    "from catboost import CatBoostClassifier\n",
    "\n",
    "from sklearn.dummy import DummyClassifier\n",
    "\n",
    "import matplotlib.pyplot as plt\n",
    "\n",
    "\n",
    "import warnings\n",
    "warnings.filterwarnings('ignore')\n",
    "\n",
    "import time"
   ]
  },
  {
   "cell_type": "markdown",
   "metadata": {},
   "source": [
    "Сохраним данные в таблицу."
   ]
  },
  {
   "cell_type": "code",
   "execution_count": 2,
   "metadata": {},
   "outputs": [],
   "source": [
    "customers = pd.read_csv('Churn.csv', index_col='RowNumber')\n"
   ]
  },
  {
   "cell_type": "markdown",
   "metadata": {},
   "source": [
    "C помощью функции `info()` посмотрим общую информацию об исходных данных."
   ]
  },
  {
   "cell_type": "code",
   "execution_count": 3,
   "metadata": {},
   "outputs": [
    {
     "data": {
      "text/html": [
       "<div>\n",
       "<style scoped>\n",
       "    .dataframe tbody tr th:only-of-type {\n",
       "        vertical-align: middle;\n",
       "    }\n",
       "\n",
       "    .dataframe tbody tr th {\n",
       "        vertical-align: top;\n",
       "    }\n",
       "\n",
       "    .dataframe thead th {\n",
       "        text-align: right;\n",
       "    }\n",
       "</style>\n",
       "<table border=\"1\" class=\"dataframe\">\n",
       "  <thead>\n",
       "    <tr style=\"text-align: right;\">\n",
       "      <th></th>\n",
       "      <th>CustomerId</th>\n",
       "      <th>Surname</th>\n",
       "      <th>CreditScore</th>\n",
       "      <th>Geography</th>\n",
       "      <th>Gender</th>\n",
       "      <th>Age</th>\n",
       "      <th>Tenure</th>\n",
       "      <th>Balance</th>\n",
       "      <th>NumOfProducts</th>\n",
       "      <th>HasCrCard</th>\n",
       "      <th>IsActiveMember</th>\n",
       "      <th>EstimatedSalary</th>\n",
       "      <th>Exited</th>\n",
       "    </tr>\n",
       "    <tr>\n",
       "      <th>RowNumber</th>\n",
       "      <th></th>\n",
       "      <th></th>\n",
       "      <th></th>\n",
       "      <th></th>\n",
       "      <th></th>\n",
       "      <th></th>\n",
       "      <th></th>\n",
       "      <th></th>\n",
       "      <th></th>\n",
       "      <th></th>\n",
       "      <th></th>\n",
       "      <th></th>\n",
       "      <th></th>\n",
       "    </tr>\n",
       "  </thead>\n",
       "  <tbody>\n",
       "    <tr>\n",
       "      <td>1</td>\n",
       "      <td>15634602</td>\n",
       "      <td>Hargrave</td>\n",
       "      <td>619</td>\n",
       "      <td>France</td>\n",
       "      <td>Female</td>\n",
       "      <td>42</td>\n",
       "      <td>2.0</td>\n",
       "      <td>0.00</td>\n",
       "      <td>1</td>\n",
       "      <td>1</td>\n",
       "      <td>1</td>\n",
       "      <td>101348.88</td>\n",
       "      <td>1</td>\n",
       "    </tr>\n",
       "    <tr>\n",
       "      <td>2</td>\n",
       "      <td>15647311</td>\n",
       "      <td>Hill</td>\n",
       "      <td>608</td>\n",
       "      <td>Spain</td>\n",
       "      <td>Female</td>\n",
       "      <td>41</td>\n",
       "      <td>1.0</td>\n",
       "      <td>83807.86</td>\n",
       "      <td>1</td>\n",
       "      <td>0</td>\n",
       "      <td>1</td>\n",
       "      <td>112542.58</td>\n",
       "      <td>0</td>\n",
       "    </tr>\n",
       "    <tr>\n",
       "      <td>3</td>\n",
       "      <td>15619304</td>\n",
       "      <td>Onio</td>\n",
       "      <td>502</td>\n",
       "      <td>France</td>\n",
       "      <td>Female</td>\n",
       "      <td>42</td>\n",
       "      <td>8.0</td>\n",
       "      <td>159660.80</td>\n",
       "      <td>3</td>\n",
       "      <td>1</td>\n",
       "      <td>0</td>\n",
       "      <td>113931.57</td>\n",
       "      <td>1</td>\n",
       "    </tr>\n",
       "    <tr>\n",
       "      <td>4</td>\n",
       "      <td>15701354</td>\n",
       "      <td>Boni</td>\n",
       "      <td>699</td>\n",
       "      <td>France</td>\n",
       "      <td>Female</td>\n",
       "      <td>39</td>\n",
       "      <td>1.0</td>\n",
       "      <td>0.00</td>\n",
       "      <td>2</td>\n",
       "      <td>0</td>\n",
       "      <td>0</td>\n",
       "      <td>93826.63</td>\n",
       "      <td>0</td>\n",
       "    </tr>\n",
       "    <tr>\n",
       "      <td>5</td>\n",
       "      <td>15737888</td>\n",
       "      <td>Mitchell</td>\n",
       "      <td>850</td>\n",
       "      <td>Spain</td>\n",
       "      <td>Female</td>\n",
       "      <td>43</td>\n",
       "      <td>2.0</td>\n",
       "      <td>125510.82</td>\n",
       "      <td>1</td>\n",
       "      <td>1</td>\n",
       "      <td>1</td>\n",
       "      <td>79084.10</td>\n",
       "      <td>0</td>\n",
       "    </tr>\n",
       "  </tbody>\n",
       "</table>\n",
       "</div>"
      ],
      "text/plain": [
       "           CustomerId   Surname  CreditScore Geography  Gender  Age  Tenure  \\\n",
       "RowNumber                                                                     \n",
       "1            15634602  Hargrave          619    France  Female   42     2.0   \n",
       "2            15647311      Hill          608     Spain  Female   41     1.0   \n",
       "3            15619304      Onio          502    France  Female   42     8.0   \n",
       "4            15701354      Boni          699    France  Female   39     1.0   \n",
       "5            15737888  Mitchell          850     Spain  Female   43     2.0   \n",
       "\n",
       "             Balance  NumOfProducts  HasCrCard  IsActiveMember  \\\n",
       "RowNumber                                                        \n",
       "1               0.00              1          1               1   \n",
       "2           83807.86              1          0               1   \n",
       "3          159660.80              3          1               0   \n",
       "4               0.00              2          0               0   \n",
       "5          125510.82              1          1               1   \n",
       "\n",
       "           EstimatedSalary  Exited  \n",
       "RowNumber                           \n",
       "1                101348.88       1  \n",
       "2                112542.58       0  \n",
       "3                113931.57       1  \n",
       "4                 93826.63       0  \n",
       "5                 79084.10       0  "
      ]
     },
     "metadata": {},
     "output_type": "display_data"
    },
    {
     "name": "stdout",
     "output_type": "stream",
     "text": [
      "<class 'pandas.core.frame.DataFrame'>\n",
      "Int64Index: 10000 entries, 1 to 10000\n",
      "Data columns (total 13 columns):\n",
      "CustomerId         10000 non-null int64\n",
      "Surname            10000 non-null object\n",
      "CreditScore        10000 non-null int64\n",
      "Geography          10000 non-null object\n",
      "Gender             10000 non-null object\n",
      "Age                10000 non-null int64\n",
      "Tenure             9091 non-null float64\n",
      "Balance            10000 non-null float64\n",
      "NumOfProducts      10000 non-null int64\n",
      "HasCrCard          10000 non-null int64\n",
      "IsActiveMember     10000 non-null int64\n",
      "EstimatedSalary    10000 non-null float64\n",
      "Exited             10000 non-null int64\n",
      "dtypes: float64(3), int64(7), object(3)\n",
      "memory usage: 2.6 MB\n"
     ]
    },
    {
     "data": {
      "text/plain": [
       "None"
      ]
     },
     "metadata": {},
     "output_type": "display_data"
    }
   ],
   "source": [
    "display(customers.head())\n",
    "display(customers.info(memory_usage='deep'))"
   ]
  },
  {
   "cell_type": "markdown",
   "metadata": {},
   "source": [
    "Таблица **customers** содержит 13 столбцов и 10000 строк, есть пропущенные значения в параметре **Tenure** - сколько лет человек является клиентом банка. В таблице присутствуют 3 параметра типа `float`, 7 параметров типа `int` и три параметра типа `object`. Всего таблица занимает 2.6 МВ памяти. \n",
    "\n",
    "**Значение параметров таблицы customers:**\n",
    "- RowNumber — индекс строки в данных\n",
    "- CustomerId — уникальный идентификатор клиента\n",
    "- Surname — фамилия\n",
    "- CreditScore — кредитный рейтинг\n",
    "- Geography — страна проживания\n",
    "- Gender — пол\n",
    "- Age — возраст\n",
    "- Tenure — сколько лет человек является клиентом банка\n",
    "- Balance — баланс на счёте\n",
    "- NumOfProducts — количество продуктов банка, используемых клиентом\n",
    "- HasCrCard — наличие кредитной карты\n",
    "- IsActiveMember — активность клиента\n",
    "- EstimatedSalary — предполагаемая зарплата\n",
    "- Exited — факт ухода клиента\n"
   ]
  },
  {
   "cell_type": "markdown",
   "metadata": {},
   "source": [
    "Приведем названия параметров к нижнему регистру и переименуем столбцы."
   ]
  },
  {
   "cell_type": "code",
   "execution_count": 4,
   "metadata": {
    "scrolled": true
   },
   "outputs": [
    {
     "data": {
      "text/plain": [
       "Index(['customer_id', 'surname', 'credit_score', 'geography', 'gender', 'age',\n",
       "       'tenure', 'balance', 'num_of_products', 'has_cr_card',\n",
       "       'is_active_member', 'estimated_salary', 'exited'],\n",
       "      dtype='object')"
      ]
     },
     "execution_count": 4,
     "metadata": {},
     "output_type": "execute_result"
    }
   ],
   "source": [
    "customers.columns = customers.columns.str.lower()\n",
    "customers = customers.rename(columns={'customerid': 'customer_id', \n",
    "                                      'creditscore':'credit_score',\n",
    "                                      'numofproducts':'num_of_products',\n",
    "                                      'hascrcard':'has_cr_card',\n",
    "                                      'isactivemember':'is_active_member',\n",
    "                                      'estimatedsalary':'estimated_salary',\n",
    "                                     })\n",
    "customers.columns"
   ]
  },
  {
   "cell_type": "markdown",
   "metadata": {},
   "source": [
    "Проверим наши столбцы на мультиколлинеарность, для этого построим матрицу диаграмм рассеивания и выведем матрицу корреляции. \n",
    "\n",
    "Доля пропусков в параметре **Tenure** почти 10%, посмотрим на мультиколлинеарность только по полным данным. \n",
    "\n",
    "Столбцы **CustomerId** (уникальный идентификатор клиента) и **Surname** (фамилия) - индентификаторы клиента и не являются параметрами, которые могут определить, уйдет ли клиент из банка или останется, поэтому они в модели для прогноза оттока клиентов участвовать не будут. Исключим их также из проверки на мультиколлинеарность."
   ]
  },
  {
   "cell_type": "code",
   "execution_count": 5,
   "metadata": {
    "scrolled": false
   },
   "outputs": [
    {
     "data": {
      "text/html": [
       "<div>\n",
       "<style scoped>\n",
       "    .dataframe tbody tr th:only-of-type {\n",
       "        vertical-align: middle;\n",
       "    }\n",
       "\n",
       "    .dataframe tbody tr th {\n",
       "        vertical-align: top;\n",
       "    }\n",
       "\n",
       "    .dataframe thead th {\n",
       "        text-align: right;\n",
       "    }\n",
       "</style>\n",
       "<table border=\"1\" class=\"dataframe\">\n",
       "  <thead>\n",
       "    <tr style=\"text-align: right;\">\n",
       "      <th></th>\n",
       "      <th>credit_score</th>\n",
       "      <th>age</th>\n",
       "      <th>tenure</th>\n",
       "      <th>balance</th>\n",
       "      <th>num_of_products</th>\n",
       "      <th>has_cr_card</th>\n",
       "      <th>is_active_member</th>\n",
       "      <th>estimated_salary</th>\n",
       "      <th>exited</th>\n",
       "    </tr>\n",
       "  </thead>\n",
       "  <tbody>\n",
       "    <tr>\n",
       "      <td>credit_score</td>\n",
       "      <td>1.000000</td>\n",
       "      <td>-0.004504</td>\n",
       "      <td>-0.000062</td>\n",
       "      <td>0.002804</td>\n",
       "      <td>0.011090</td>\n",
       "      <td>-0.003937</td>\n",
       "      <td>0.030947</td>\n",
       "      <td>0.005182</td>\n",
       "      <td>-0.023950</td>\n",
       "    </tr>\n",
       "    <tr>\n",
       "      <td>age</td>\n",
       "      <td>-0.004504</td>\n",
       "      <td>1.000000</td>\n",
       "      <td>-0.013134</td>\n",
       "      <td>0.031481</td>\n",
       "      <td>-0.031877</td>\n",
       "      <td>-0.014129</td>\n",
       "      <td>0.082269</td>\n",
       "      <td>-0.007037</td>\n",
       "      <td>0.283017</td>\n",
       "    </tr>\n",
       "    <tr>\n",
       "      <td>tenure</td>\n",
       "      <td>-0.000062</td>\n",
       "      <td>-0.013134</td>\n",
       "      <td>1.000000</td>\n",
       "      <td>-0.007911</td>\n",
       "      <td>0.011979</td>\n",
       "      <td>0.027232</td>\n",
       "      <td>-0.032178</td>\n",
       "      <td>0.010520</td>\n",
       "      <td>-0.016761</td>\n",
       "    </tr>\n",
       "    <tr>\n",
       "      <td>balance</td>\n",
       "      <td>0.002804</td>\n",
       "      <td>0.031481</td>\n",
       "      <td>-0.007911</td>\n",
       "      <td>1.000000</td>\n",
       "      <td>-0.301858</td>\n",
       "      <td>-0.019055</td>\n",
       "      <td>-0.003285</td>\n",
       "      <td>0.014351</td>\n",
       "      <td>0.117218</td>\n",
       "    </tr>\n",
       "    <tr>\n",
       "      <td>num_of_products</td>\n",
       "      <td>0.011090</td>\n",
       "      <td>-0.031877</td>\n",
       "      <td>0.011979</td>\n",
       "      <td>-0.301858</td>\n",
       "      <td>1.000000</td>\n",
       "      <td>0.005805</td>\n",
       "      <td>0.009084</td>\n",
       "      <td>0.013990</td>\n",
       "      <td>-0.050271</td>\n",
       "    </tr>\n",
       "    <tr>\n",
       "      <td>has_cr_card</td>\n",
       "      <td>-0.003937</td>\n",
       "      <td>-0.014129</td>\n",
       "      <td>0.027232</td>\n",
       "      <td>-0.019055</td>\n",
       "      <td>0.005805</td>\n",
       "      <td>1.000000</td>\n",
       "      <td>-0.008810</td>\n",
       "      <td>-0.006136</td>\n",
       "      <td>-0.005411</td>\n",
       "    </tr>\n",
       "    <tr>\n",
       "      <td>is_active_member</td>\n",
       "      <td>0.030947</td>\n",
       "      <td>0.082269</td>\n",
       "      <td>-0.032178</td>\n",
       "      <td>-0.003285</td>\n",
       "      <td>0.009084</td>\n",
       "      <td>-0.008810</td>\n",
       "      <td>1.000000</td>\n",
       "      <td>-0.020049</td>\n",
       "      <td>-0.155062</td>\n",
       "    </tr>\n",
       "    <tr>\n",
       "      <td>estimated_salary</td>\n",
       "      <td>0.005182</td>\n",
       "      <td>-0.007037</td>\n",
       "      <td>0.010520</td>\n",
       "      <td>0.014351</td>\n",
       "      <td>0.013990</td>\n",
       "      <td>-0.006136</td>\n",
       "      <td>-0.020049</td>\n",
       "      <td>1.000000</td>\n",
       "      <td>0.016029</td>\n",
       "    </tr>\n",
       "    <tr>\n",
       "      <td>exited</td>\n",
       "      <td>-0.023950</td>\n",
       "      <td>0.283017</td>\n",
       "      <td>-0.016761</td>\n",
       "      <td>0.117218</td>\n",
       "      <td>-0.050271</td>\n",
       "      <td>-0.005411</td>\n",
       "      <td>-0.155062</td>\n",
       "      <td>0.016029</td>\n",
       "      <td>1.000000</td>\n",
       "    </tr>\n",
       "  </tbody>\n",
       "</table>\n",
       "</div>"
      ],
      "text/plain": [
       "                  credit_score       age    tenure   balance  num_of_products  \\\n",
       "credit_score          1.000000 -0.004504 -0.000062  0.002804         0.011090   \n",
       "age                  -0.004504  1.000000 -0.013134  0.031481        -0.031877   \n",
       "tenure               -0.000062 -0.013134  1.000000 -0.007911         0.011979   \n",
       "balance               0.002804  0.031481 -0.007911  1.000000        -0.301858   \n",
       "num_of_products       0.011090 -0.031877  0.011979 -0.301858         1.000000   \n",
       "has_cr_card          -0.003937 -0.014129  0.027232 -0.019055         0.005805   \n",
       "is_active_member      0.030947  0.082269 -0.032178 -0.003285         0.009084   \n",
       "estimated_salary      0.005182 -0.007037  0.010520  0.014351         0.013990   \n",
       "exited               -0.023950  0.283017 -0.016761  0.117218        -0.050271   \n",
       "\n",
       "                  has_cr_card  is_active_member  estimated_salary    exited  \n",
       "credit_score        -0.003937          0.030947          0.005182 -0.023950  \n",
       "age                 -0.014129          0.082269         -0.007037  0.283017  \n",
       "tenure               0.027232         -0.032178          0.010520 -0.016761  \n",
       "balance             -0.019055         -0.003285          0.014351  0.117218  \n",
       "num_of_products      0.005805          0.009084          0.013990 -0.050271  \n",
       "has_cr_card          1.000000         -0.008810         -0.006136 -0.005411  \n",
       "is_active_member    -0.008810          1.000000         -0.020049 -0.155062  \n",
       "estimated_salary    -0.006136         -0.020049          1.000000  0.016029  \n",
       "exited              -0.005411         -0.155062          0.016029  1.000000  "
      ]
     },
     "execution_count": 5,
     "metadata": {},
     "output_type": "execute_result"
    },
    {
     "data": {
      "image/png": "[encoded data removed]",
      "text/plain": [
       "<Figure size 864x864 with 81 Axes>"
      ]
     },
     "metadata": {
      "needs_background": "light"
     },
     "output_type": "display_data"
    }
   ],
   "source": [
    "pd.plotting.scatter_matrix(customers.loc[(~customers['tenure'].isnull()),'credit_score':'exited'], figsize=(12,12))\n",
    "customers.loc[(~customers['tenure'].isnull()),'credit_score':'exited'].corr()"
   ]
  },
  {
   "cell_type": "markdown",
   "metadata": {},
   "source": [
    "Сильной корреляции между параметрами не выявлено, при построение моделей будем использовать все параметры. "
   ]
  },
  {
   "cell_type": "markdown",
   "metadata": {},
   "source": [
    "## Предобработка данных"
   ]
  },
  {
   "cell_type": "markdown",
   "metadata": {},
   "source": [
    "### Работа с пропущенными значениями"
   ]
  },
  {
   "cell_type": "markdown",
   "metadata": {},
   "source": [
    "Посмотрим на количество пользователей в разрезе количества лет, в течении которых человек является клиентом банка."
   ]
  },
  {
   "cell_type": "code",
   "execution_count": 6,
   "metadata": {},
   "outputs": [
    {
     "data": {
      "text/plain": [
       "1.0     952\n",
       "2.0     950\n",
       "8.0     933\n",
       "3.0     928\n",
       "5.0     927\n",
       "7.0     925\n",
       "NaN     909\n",
       "4.0     885\n",
       "9.0     882\n",
       "6.0     881\n",
       "10.0    446\n",
       "0.0     382\n",
       "Name: tenure, dtype: int64"
      ]
     },
     "execution_count": 6,
     "metadata": {},
     "output_type": "execute_result"
    }
   ],
   "source": [
    "customers['tenure'].value_counts(dropna=False)"
   ]
  },
  {
   "cell_type": "markdown",
   "metadata": {},
   "source": [
    "Можно сказать, что количество пользователей по количеству лет использования продуктов банка распределены равномерно. Доля пропусков составляет почти 10%, удалив их, мы потеряем большую часть данных. Исходя из матрицы корреляции мы не нашли какой-либо взаимосвязи между параметром **Tenure** и другими, поэтому будем считать, что пропуски в параметре - это клиенты, которые пользовались услугами меньше года. Заменим все пропуски на 0."
   ]
  },
  {
   "cell_type": "code",
   "execution_count": 7,
   "metadata": {},
   "outputs": [
    {
     "data": {
      "text/plain": [
       "0.0     1291\n",
       "1.0      952\n",
       "2.0      950\n",
       "8.0      933\n",
       "3.0      928\n",
       "5.0      927\n",
       "7.0      925\n",
       "4.0      885\n",
       "9.0      882\n",
       "6.0      881\n",
       "10.0     446\n",
       "Name: tenure, dtype: int64"
      ]
     },
     "execution_count": 7,
     "metadata": {},
     "output_type": "execute_result"
    }
   ],
   "source": [
    "customers['tenure']=customers['tenure'].fillna(0)\n",
    "customers['tenure'].value_counts(dropna=False)"
   ]
  },
  {
   "cell_type": "markdown",
   "metadata": {},
   "source": [
    "Пропуски заменили, перейдем к типам данных."
   ]
  },
  {
   "cell_type": "markdown",
   "metadata": {},
   "source": [
    "### Изменение типа данных"
   ]
  },
  {
   "cell_type": "markdown",
   "metadata": {},
   "source": [
    "Посмотрим снова общую информацию о таблице."
   ]
  },
  {
   "cell_type": "code",
   "execution_count": 8,
   "metadata": {},
   "outputs": [
    {
     "name": "stdout",
     "output_type": "stream",
     "text": [
      "<class 'pandas.core.frame.DataFrame'>\n",
      "Int64Index: 10000 entries, 1 to 10000\n",
      "Data columns (total 13 columns):\n",
      "customer_id         10000 non-null int64\n",
      "surname             10000 non-null object\n",
      "credit_score        10000 non-null int64\n",
      "geography           10000 non-null object\n",
      "gender              10000 non-null object\n",
      "age                 10000 non-null int64\n",
      "tenure              10000 non-null float64\n",
      "balance             10000 non-null float64\n",
      "num_of_products     10000 non-null int64\n",
      "has_cr_card         10000 non-null int64\n",
      "is_active_member    10000 non-null int64\n",
      "estimated_salary    10000 non-null float64\n",
      "exited              10000 non-null int64\n",
      "dtypes: float64(3), int64(7), object(3)\n",
      "memory usage: 2.6 MB\n"
     ]
    }
   ],
   "source": [
    "customers.info(memory_usage='deep')"
   ]
  },
  {
   "cell_type": "markdown",
   "metadata": {},
   "source": [
    "Посмотрим на минимальное и максимальное значения для типов данных `float64` и `int64`."
   ]
  },
  {
   "cell_type": "code",
   "execution_count": 9,
   "metadata": {},
   "outputs": [
    {
     "data": {
      "text/html": [
       "<div>\n",
       "<style scoped>\n",
       "    .dataframe tbody tr th:only-of-type {\n",
       "        vertical-align: middle;\n",
       "    }\n",
       "\n",
       "    .dataframe tbody tr th {\n",
       "        vertical-align: top;\n",
       "    }\n",
       "\n",
       "    .dataframe thead th {\n",
       "        text-align: right;\n",
       "    }\n",
       "</style>\n",
       "<table border=\"1\" class=\"dataframe\">\n",
       "  <thead>\n",
       "    <tr style=\"text-align: right;\">\n",
       "      <th></th>\n",
       "      <th>customer_id</th>\n",
       "      <th>credit_score</th>\n",
       "      <th>age</th>\n",
       "      <th>tenure</th>\n",
       "      <th>balance</th>\n",
       "      <th>num_of_products</th>\n",
       "      <th>has_cr_card</th>\n",
       "      <th>is_active_member</th>\n",
       "      <th>estimated_salary</th>\n",
       "      <th>exited</th>\n",
       "    </tr>\n",
       "  </thead>\n",
       "  <tbody>\n",
       "    <tr>\n",
       "      <td>min</td>\n",
       "      <td>15565701</td>\n",
       "      <td>350</td>\n",
       "      <td>18</td>\n",
       "      <td>0.0</td>\n",
       "      <td>0.00</td>\n",
       "      <td>1</td>\n",
       "      <td>0</td>\n",
       "      <td>0</td>\n",
       "      <td>11.58</td>\n",
       "      <td>0</td>\n",
       "    </tr>\n",
       "    <tr>\n",
       "      <td>max</td>\n",
       "      <td>15815690</td>\n",
       "      <td>850</td>\n",
       "      <td>92</td>\n",
       "      <td>10.0</td>\n",
       "      <td>250898.09</td>\n",
       "      <td>4</td>\n",
       "      <td>1</td>\n",
       "      <td>1</td>\n",
       "      <td>199992.48</td>\n",
       "      <td>1</td>\n",
       "    </tr>\n",
       "  </tbody>\n",
       "</table>\n",
       "</div>"
      ],
      "text/plain": [
       "     customer_id  credit_score  age  tenure    balance  num_of_products  \\\n",
       "min     15565701           350   18     0.0       0.00                1   \n",
       "max     15815690           850   92    10.0  250898.09                4   \n",
       "\n",
       "     has_cr_card  is_active_member  estimated_salary  exited  \n",
       "min            0                 0             11.58       0  \n",
       "max            1                 1         199992.48       1  "
      ]
     },
     "execution_count": 9,
     "metadata": {},
     "output_type": "execute_result"
    }
   ],
   "source": [
    "customers.select_dtypes(include=['float64','int64']).agg(['min','max'])"
   ]
  },
  {
   "cell_type": "markdown",
   "metadata": {},
   "source": [
    "Изменим тип данных для параметров **age, tenure, num_of_products, has_cr_card, is_active_member и exited** на `int8`, а параметр **credit_score** на `int16`. Для параметров **balance и estimated_salary** изменим тип на `float32`. Параметр **customer_id** оставим без изменения."
   ]
  },
  {
   "cell_type": "code",
   "execution_count": 10,
   "metadata": {},
   "outputs": [
    {
     "name": "stdout",
     "output_type": "stream",
     "text": [
      "<class 'pandas.core.frame.DataFrame'>\n",
      "Int64Index: 10000 entries, 1 to 10000\n",
      "Data columns (total 13 columns):\n",
      "customer_id         10000 non-null int64\n",
      "surname             10000 non-null object\n",
      "credit_score        10000 non-null int16\n",
      "geography           10000 non-null object\n",
      "gender              10000 non-null object\n",
      "age                 10000 non-null int8\n",
      "tenure              10000 non-null int8\n",
      "balance             10000 non-null float32\n",
      "num_of_products     10000 non-null int8\n",
      "has_cr_card         10000 non-null int8\n",
      "is_active_member    10000 non-null int8\n",
      "estimated_salary    10000 non-null float32\n",
      "exited              10000 non-null int8\n",
      "dtypes: float32(2), int16(1), int64(1), int8(6), object(3)\n",
      "memory usage: 2.1 MB\n"
     ]
    }
   ],
   "source": [
    "#изменяет тип данных на `int8`\n",
    "for column in ['age', 'tenure', 'num_of_products', 'has_cr_card', 'is_active_member', 'exited']:\n",
    "    customers[column] = customers[column].astype('int8')\n",
    "    \n",
    "#изменяет тип данных на `int16`   \n",
    "customers['credit_score'] = customers['credit_score'].astype('int16')\n",
    "\n",
    "#изменяет тип данных на `float32`\n",
    "for column in ['balance','estimated_salary']:\n",
    "    customers[column] = customers[column].astype('float32')\n",
    "    \n",
    "customers.info(memory_usage='deep')"
   ]
  },
  {
   "cell_type": "markdown",
   "metadata": {},
   "source": [
    "Таким образом, изменив типы данных мы снизили потребление памяти с 2.6 до 2.1 МВ.\n",
    "\n",
    "Теперь подготовим данные к моделированию."
   ]
  },
  {
   "cell_type": "markdown",
   "metadata": {},
   "source": [
    "### Подготовка данных "
   ]
  },
  {
   "cell_type": "markdown",
   "metadata": {},
   "source": [
    "Используем технику прямого кодирования и преобразуем категориальные параметры."
   ]
  },
  {
   "cell_type": "code",
   "execution_count": 11,
   "metadata": {},
   "outputs": [
    {
     "data": {
      "text/html": [
       "<div>\n",
       "<style scoped>\n",
       "    .dataframe tbody tr th:only-of-type {\n",
       "        vertical-align: middle;\n",
       "    }\n",
       "\n",
       "    .dataframe tbody tr th {\n",
       "        vertical-align: top;\n",
       "    }\n",
       "\n",
       "    .dataframe thead th {\n",
       "        text-align: right;\n",
       "    }\n",
       "</style>\n",
       "<table border=\"1\" class=\"dataframe\">\n",
       "  <thead>\n",
       "    <tr style=\"text-align: right;\">\n",
       "      <th></th>\n",
       "      <th>credit_score</th>\n",
       "      <th>age</th>\n",
       "      <th>tenure</th>\n",
       "      <th>balance</th>\n",
       "      <th>num_of_products</th>\n",
       "      <th>has_cr_card</th>\n",
       "      <th>is_active_member</th>\n",
       "      <th>estimated_salary</th>\n",
       "      <th>exited</th>\n",
       "      <th>geography_Germany</th>\n",
       "      <th>geography_Spain</th>\n",
       "      <th>gender_Male</th>\n",
       "    </tr>\n",
       "    <tr>\n",
       "      <th>RowNumber</th>\n",
       "      <th></th>\n",
       "      <th></th>\n",
       "      <th></th>\n",
       "      <th></th>\n",
       "      <th></th>\n",
       "      <th></th>\n",
       "      <th></th>\n",
       "      <th></th>\n",
       "      <th></th>\n",
       "      <th></th>\n",
       "      <th></th>\n",
       "      <th></th>\n",
       "    </tr>\n",
       "  </thead>\n",
       "  <tbody>\n",
       "    <tr>\n",
       "      <td>1</td>\n",
       "      <td>619</td>\n",
       "      <td>42</td>\n",
       "      <td>2</td>\n",
       "      <td>0.000000</td>\n",
       "      <td>1</td>\n",
       "      <td>1</td>\n",
       "      <td>1</td>\n",
       "      <td>101348.882812</td>\n",
       "      <td>1</td>\n",
       "      <td>0</td>\n",
       "      <td>0</td>\n",
       "      <td>0</td>\n",
       "    </tr>\n",
       "    <tr>\n",
       "      <td>2</td>\n",
       "      <td>608</td>\n",
       "      <td>41</td>\n",
       "      <td>1</td>\n",
       "      <td>83807.859375</td>\n",
       "      <td>1</td>\n",
       "      <td>0</td>\n",
       "      <td>1</td>\n",
       "      <td>112542.578125</td>\n",
       "      <td>0</td>\n",
       "      <td>0</td>\n",
       "      <td>1</td>\n",
       "      <td>0</td>\n",
       "    </tr>\n",
       "    <tr>\n",
       "      <td>3</td>\n",
       "      <td>502</td>\n",
       "      <td>42</td>\n",
       "      <td>8</td>\n",
       "      <td>159660.796875</td>\n",
       "      <td>3</td>\n",
       "      <td>1</td>\n",
       "      <td>0</td>\n",
       "      <td>113931.570312</td>\n",
       "      <td>1</td>\n",
       "      <td>0</td>\n",
       "      <td>0</td>\n",
       "      <td>0</td>\n",
       "    </tr>\n",
       "    <tr>\n",
       "      <td>4</td>\n",
       "      <td>699</td>\n",
       "      <td>39</td>\n",
       "      <td>1</td>\n",
       "      <td>0.000000</td>\n",
       "      <td>2</td>\n",
       "      <td>0</td>\n",
       "      <td>0</td>\n",
       "      <td>93826.632812</td>\n",
       "      <td>0</td>\n",
       "      <td>0</td>\n",
       "      <td>0</td>\n",
       "      <td>0</td>\n",
       "    </tr>\n",
       "    <tr>\n",
       "      <td>5</td>\n",
       "      <td>850</td>\n",
       "      <td>43</td>\n",
       "      <td>2</td>\n",
       "      <td>125510.820312</td>\n",
       "      <td>1</td>\n",
       "      <td>1</td>\n",
       "      <td>1</td>\n",
       "      <td>79084.101562</td>\n",
       "      <td>0</td>\n",
       "      <td>0</td>\n",
       "      <td>1</td>\n",
       "      <td>0</td>\n",
       "    </tr>\n",
       "  </tbody>\n",
       "</table>\n",
       "</div>"
      ],
      "text/plain": [
       "           credit_score  age  tenure        balance  num_of_products  \\\n",
       "RowNumber                                                              \n",
       "1                   619   42       2       0.000000                1   \n",
       "2                   608   41       1   83807.859375                1   \n",
       "3                   502   42       8  159660.796875                3   \n",
       "4                   699   39       1       0.000000                2   \n",
       "5                   850   43       2  125510.820312                1   \n",
       "\n",
       "           has_cr_card  is_active_member  estimated_salary  exited  \\\n",
       "RowNumber                                                            \n",
       "1                    1                 1     101348.882812       1   \n",
       "2                    0                 1     112542.578125       0   \n",
       "3                    1                 0     113931.570312       1   \n",
       "4                    0                 0      93826.632812       0   \n",
       "5                    1                 1      79084.101562       0   \n",
       "\n",
       "           geography_Germany  geography_Spain  gender_Male  \n",
       "RowNumber                                                   \n",
       "1                          0                0            0  \n",
       "2                          0                1            0  \n",
       "3                          0                0            0  \n",
       "4                          0                0            0  \n",
       "5                          0                1            0  "
      ]
     },
     "execution_count": 11,
     "metadata": {},
     "output_type": "execute_result"
    }
   ],
   "source": [
    "df = pd.get_dummies(customers.loc[:,'credit_score':'exited'], drop_first=True)\n",
    "df.head()"
   ]
  },
  {
   "cell_type": "markdown",
   "metadata": {},
   "source": [
    "Разделим наши данные на три выборки: обучающую, валидационную и тестовую. Для начала посмотрим на соотношение целевого признака."
   ]
  },
  {
   "cell_type": "code",
   "execution_count": 12,
   "metadata": {},
   "outputs": [
    {
     "data": {
      "text/html": [
       "<div>\n",
       "<style scoped>\n",
       "    .dataframe tbody tr th:only-of-type {\n",
       "        vertical-align: middle;\n",
       "    }\n",
       "\n",
       "    .dataframe tbody tr th {\n",
       "        vertical-align: top;\n",
       "    }\n",
       "\n",
       "    .dataframe thead th {\n",
       "        text-align: right;\n",
       "    }\n",
       "</style>\n",
       "<table border=\"1\" class=\"dataframe\">\n",
       "  <thead>\n",
       "    <tr style=\"text-align: right;\">\n",
       "      <th></th>\n",
       "      <th></th>\n",
       "      <th>exited</th>\n",
       "    </tr>\n",
       "    <tr>\n",
       "      <th>exited</th>\n",
       "      <th>exited</th>\n",
       "      <th></th>\n",
       "    </tr>\n",
       "  </thead>\n",
       "  <tbody>\n",
       "    <tr>\n",
       "      <td>0</td>\n",
       "      <td>0</td>\n",
       "      <td>7963</td>\n",
       "    </tr>\n",
       "    <tr>\n",
       "      <td>1</td>\n",
       "      <td>1</td>\n",
       "      <td>2037</td>\n",
       "    </tr>\n",
       "  </tbody>\n",
       "</table>\n",
       "</div>"
      ],
      "text/plain": [
       "               exited\n",
       "exited exited        \n",
       "0      0         7963\n",
       "1      1         2037"
      ]
     },
     "execution_count": 12,
     "metadata": {},
     "output_type": "execute_result"
    }
   ],
   "source": [
    "df.groupby('exited')['exited'].value_counts().to_frame()"
   ]
  },
  {
   "cell_type": "markdown",
   "metadata": {},
   "source": [
    "Ушедших клиентов 20% от общего числа клиентов банка. Чтобы выборки были репрезентативные, используем стратификацию."
   ]
  },
  {
   "cell_type": "code",
   "execution_count": 13,
   "metadata": {},
   "outputs": [],
   "source": [
    "df_train, test = train_test_split(df, test_size=0.2, random_state=13, \n",
    "                                  stratify=df['exited'])\n",
    "\n"
   ]
  },
  {
   "cell_type": "markdown",
   "metadata": {},
   "source": [
    "Проверим корректность разбивки."
   ]
  },
  {
   "cell_type": "code",
   "execution_count": 14,
   "metadata": {},
   "outputs": [
    {
     "name": "stdout",
     "output_type": "stream",
     "text": [
      "Количество строк в исходных данных: 10000, доля ушедших клиентов: 20.4%\n",
      "Количество строк в обучающей выборке: 8000, доля ушедших клиентов: 20.4%\n",
      "Количество строк в тестовой выборке: 2000, доля ушедших клиентов: 20.3%\n"
     ]
    }
   ],
   "source": [
    "def perc_customer_out(df, train, test, parametr):\n",
    "    print('Количество строк в исходных данных: {}, доля ушедших клиентов: {:.1%}'.format(\n",
    "        len(df), len(df[(df['exited'] == 1)])/len(df)))\n",
    "\n",
    "    print('Количество строк в обучающей выборке: {}, доля ушедших клиентов: {:.1%}'.format(\n",
    "        len(train), len(train[(train['exited'] == 1)])/len(train)))\n",
    "\n",
    "    if parametr == 'test':\n",
    "        print('Количество строк в тестовой выборке: {}, доля ушедших клиентов: {:.1%}'.format(\n",
    "            len(test), len(test[(test['exited'] == 1)])/len(test)))\n",
    "    else: \n",
    "        print('Количество строк в валидационной выборке: {}, доля ушедших клиентов: {:.1%}'.format(\n",
    "            len(test), len(test[(test['exited'] == 1)])/len(test)))\n",
    "\n",
    "\n",
    "\n",
    "perc_customer_out(df, df_train, test, 'test')"
   ]
  },
  {
   "cell_type": "markdown",
   "metadata": {},
   "source": [
    "Теперь по тому же принципу разделим таблицу *df_train* на обучающую и валидационную выборки. Так как тестовую выборку мы уже отобрали и \"спрятали\" до проверки моделей, то валидационную выборку будем выбирать как 25% от оставшихся данных - таким образом ее размер будет 20% от исходных данных."
   ]
  },
  {
   "cell_type": "code",
   "execution_count": 15,
   "metadata": {},
   "outputs": [
    {
     "name": "stdout",
     "output_type": "stream",
     "text": [
      "Количество строк в исходных данных: 8000, доля ушедших клиентов: 20.4%\n",
      "Количество строк в обучающей выборке: 6000, доля ушедших клиентов: 20.4%\n",
      "Количество строк в валидационной выборке: 2000, доля ушедших клиентов: 20.3%\n"
     ]
    }
   ],
   "source": [
    "train, valid = train_test_split(df_train, test_size=0.25, random_state=13, \n",
    "                                  stratify=df_train['exited'])\n",
    "\n",
    "perc_customer_out(df_train, train, valid, 'valid')\n"
   ]
  },
  {
   "cell_type": "markdown",
   "metadata": {},
   "source": [
    "Все корректно. Теперь для каждой выборки определим признаки и целевой признак. Параметр **exited** - это целевой признак, а все остальное - признаки."
   ]
  },
  {
   "cell_type": "code",
   "execution_count": 16,
   "metadata": {},
   "outputs": [],
   "source": [
    "#выделение признаков и целевого признака для test\n",
    "test_features = test.drop('exited', axis=1)\n",
    "test_target = test['exited']\n",
    "\n",
    "#выделение признаков и целевого признака для train\n",
    "train_features = train.drop('exited', axis=1)\n",
    "train_target = train['exited']\n",
    "\n",
    "#выделение признаков и целевого признака для valid\n",
    "valid_features = valid.drop('exited', axis=1)\n",
    "valid_target = valid['exited']"
   ]
  },
  {
   "cell_type": "markdown",
   "metadata": {},
   "source": [
    "Далее маштабируем количественные признаки с помощью метода стандартизаци данных."
   ]
  },
  {
   "cell_type": "code",
   "execution_count": 17,
   "metadata": {},
   "outputs": [
    {
     "data": {
      "text/plain": [
       "StandardScaler(copy=True, with_mean=True, with_std=True)"
      ]
     },
     "execution_count": 17,
     "metadata": {},
     "output_type": "execute_result"
    }
   ],
   "source": [
    "#выделение всех столбцов для маштабирования\n",
    "numeric = train_features.columns\n",
    "\n",
    "#cоздание объекта и настройка его на обучающих данных\n",
    "scaler = StandardScaler()\n",
    "scaler.fit(train_features[numeric]) \n"
   ]
  },
  {
   "cell_type": "markdown",
   "metadata": {},
   "source": [
    "Преобразуем обучающую, валидационную и тестовую выборки функцией `transform`."
   ]
  },
  {
   "cell_type": "code",
   "execution_count": 18,
   "metadata": {},
   "outputs": [
    {
     "data": {
      "text/html": [
       "<div>\n",
       "<style scoped>\n",
       "    .dataframe tbody tr th:only-of-type {\n",
       "        vertical-align: middle;\n",
       "    }\n",
       "\n",
       "    .dataframe tbody tr th {\n",
       "        vertical-align: top;\n",
       "    }\n",
       "\n",
       "    .dataframe thead th {\n",
       "        text-align: right;\n",
       "    }\n",
       "</style>\n",
       "<table border=\"1\" class=\"dataframe\">\n",
       "  <thead>\n",
       "    <tr style=\"text-align: right;\">\n",
       "      <th></th>\n",
       "      <th>credit_score</th>\n",
       "      <th>age</th>\n",
       "      <th>tenure</th>\n",
       "      <th>balance</th>\n",
       "      <th>num_of_products</th>\n",
       "      <th>has_cr_card</th>\n",
       "      <th>is_active_member</th>\n",
       "      <th>estimated_salary</th>\n",
       "      <th>geography_Germany</th>\n",
       "      <th>geography_Spain</th>\n",
       "      <th>gender_Male</th>\n",
       "    </tr>\n",
       "    <tr>\n",
       "      <th>RowNumber</th>\n",
       "      <th></th>\n",
       "      <th></th>\n",
       "      <th></th>\n",
       "      <th></th>\n",
       "      <th></th>\n",
       "      <th></th>\n",
       "      <th></th>\n",
       "      <th></th>\n",
       "      <th></th>\n",
       "      <th></th>\n",
       "      <th></th>\n",
       "    </tr>\n",
       "  </thead>\n",
       "  <tbody>\n",
       "    <tr>\n",
       "      <td>303</td>\n",
       "      <td>0.370997</td>\n",
       "      <td>-0.364130</td>\n",
       "      <td>1.137035</td>\n",
       "      <td>-1.215102</td>\n",
       "      <td>0.830175</td>\n",
       "      <td>0.649721</td>\n",
       "      <td>-1.030464</td>\n",
       "      <td>-1.542298</td>\n",
       "      <td>-0.573245</td>\n",
       "      <td>-0.574271</td>\n",
       "      <td>0.907584</td>\n",
       "    </tr>\n",
       "    <tr>\n",
       "      <td>5515</td>\n",
       "      <td>-0.105072</td>\n",
       "      <td>2.533328</td>\n",
       "      <td>-1.445424</td>\n",
       "      <td>-0.601767</td>\n",
       "      <td>-0.912060</td>\n",
       "      <td>0.649721</td>\n",
       "      <td>-1.030464</td>\n",
       "      <td>-1.158095</td>\n",
       "      <td>-0.573245</td>\n",
       "      <td>-0.574271</td>\n",
       "      <td>0.907584</td>\n",
       "    </tr>\n",
       "    <tr>\n",
       "      <td>4532</td>\n",
       "      <td>-0.436250</td>\n",
       "      <td>-0.170966</td>\n",
       "      <td>0.491421</td>\n",
       "      <td>-1.215102</td>\n",
       "      <td>0.830175</td>\n",
       "      <td>-1.539121</td>\n",
       "      <td>0.970437</td>\n",
       "      <td>-1.340540</td>\n",
       "      <td>-0.573245</td>\n",
       "      <td>-0.574271</td>\n",
       "      <td>0.907584</td>\n",
       "    </tr>\n",
       "    <tr>\n",
       "      <td>8396</td>\n",
       "      <td>-0.943367</td>\n",
       "      <td>-0.847040</td>\n",
       "      <td>-1.445424</td>\n",
       "      <td>0.526731</td>\n",
       "      <td>-0.912060</td>\n",
       "      <td>0.649721</td>\n",
       "      <td>-1.030464</td>\n",
       "      <td>-1.239042</td>\n",
       "      <td>-0.573245</td>\n",
       "      <td>-0.574271</td>\n",
       "      <td>-1.101827</td>\n",
       "    </tr>\n",
       "    <tr>\n",
       "      <td>627</td>\n",
       "      <td>-2.319827</td>\n",
       "      <td>-0.943621</td>\n",
       "      <td>-1.122617</td>\n",
       "      <td>1.045718</td>\n",
       "      <td>-0.912060</td>\n",
       "      <td>0.649721</td>\n",
       "      <td>0.970437</td>\n",
       "      <td>-0.101903</td>\n",
       "      <td>-0.573245</td>\n",
       "      <td>-0.574271</td>\n",
       "      <td>0.907584</td>\n",
       "    </tr>\n",
       "  </tbody>\n",
       "</table>\n",
       "</div>"
      ],
      "text/plain": [
       "           credit_score       age    tenure   balance  num_of_products  \\\n",
       "RowNumber                                                                \n",
       "303            0.370997 -0.364130  1.137035 -1.215102         0.830175   \n",
       "5515          -0.105072  2.533328 -1.445424 -0.601767        -0.912060   \n",
       "4532          -0.436250 -0.170966  0.491421 -1.215102         0.830175   \n",
       "8396          -0.943367 -0.847040 -1.445424  0.526731        -0.912060   \n",
       "627           -2.319827 -0.943621 -1.122617  1.045718        -0.912060   \n",
       "\n",
       "           has_cr_card  is_active_member  estimated_salary  geography_Germany  \\\n",
       "RowNumber                                                                       \n",
       "303           0.649721         -1.030464         -1.542298          -0.573245   \n",
       "5515          0.649721         -1.030464         -1.158095          -0.573245   \n",
       "4532         -1.539121          0.970437         -1.340540          -0.573245   \n",
       "8396          0.649721         -1.030464         -1.239042          -0.573245   \n",
       "627           0.649721          0.970437         -0.101903          -0.573245   \n",
       "\n",
       "           geography_Spain  gender_Male  \n",
       "RowNumber                                \n",
       "303              -0.574271     0.907584  \n",
       "5515             -0.574271     0.907584  \n",
       "4532             -0.574271     0.907584  \n",
       "8396             -0.574271    -1.101827  \n",
       "627              -0.574271     0.907584  "
      ]
     },
     "execution_count": 18,
     "metadata": {},
     "output_type": "execute_result"
    }
   ],
   "source": [
    "train_features[numeric] = scaler.transform(train_features[numeric])\n",
    "valid_features[numeric] = scaler.transform(valid_features[numeric])\n",
    "test_features[numeric] = scaler.transform(test_features[numeric])\n",
    "\n",
    "train_features.head()"
   ]
  },
  {
   "cell_type": "markdown",
   "metadata": {},
   "source": [
    "Перейдем к созданию модели для прогноза оттока клиентов."
   ]
  },
  {
   "cell_type": "markdown",
   "metadata": {},
   "source": [
    "Промежуточные результаты:\n",
    "\n",
    "- Заменили пропуски в параметре **Tenure** - сколько лет человек является клиентом банка - на 0, приняв что данные клиенты пользовались услугами меньше года.\n",
    "\n",
    "\n",
    "- Снизили потребление памяти с 2.6 до 2.1 МВ, изменив тип данных для параметров:\n",
    "    - **age, tenure, num_of_products, has_cr_card, is_active_member и exited** на `int8`,\n",
    "    - **credit_score** на `int16`,\n",
    "    - **balance и estimated_salary** на `float32`.\n",
    "    \n",
    "\n",
    "- Сильной корреляции между параметрами нет, поэтому для моделирования будем использовать их все, за исключением параметров, используемых для идентификации клиентов - **CustomerId** (уникальный идентификатор клиента) и **Surname** (фамилия).\n",
    "\n",
    "\n",
    "- Применили технику прямого кодирования **One-Hot Encoding** на категориальные параметры: geography и gender.\n",
    "    \n",
    "    \n",
    "- Разделили исходные данные на три выборки с использованием стратификации - обучающую, валидационную и тестовую в соотношении 60%, 20% и 20% соответственно.\n",
    "\n",
    "\n",
    "- Маштабировали количественные признаки с помощью метода стандартизаци данных."
   ]
  },
  {
   "cell_type": "markdown",
   "metadata": {},
   "source": [
    "## Создание моделей без учета дисбаланса классов"
   ]
  },
  {
   "cell_type": "markdown",
   "metadata": {},
   "source": [
    "Для начала подберем оптимальную модель без учета дисбаланса классов и посмотрим на ключевые метрики F1-меру и AUC_ROC."
   ]
  },
  {
   "cell_type": "markdown",
   "metadata": {},
   "source": [
    "Так как целевой признак является категориальным и у нас всего две категории: \"клиент банка\" и \"бывший клиент\", то речь идет о задаче бинарной классификации. Построим четыре модели: **\"Решающее дерево\", \"Случайный лес\", \"Логистическая регрессия\" и CatBoost**. Оценим их качество и выберем лучшую.\n",
    "\n",
    "Начнем с модели **\"Решающее дерево\"**. Подберем наиболее оптимальные гиперпараметры для модели и сохраним ее."
   ]
  },
  {
   "cell_type": "code",
   "execution_count": 19,
   "metadata": {},
   "outputs": [],
   "source": [
    "model_tree = DecisionTreeClassifier(random_state=13)\n",
    "\n",
    "#формирует гиперпараметры и их значения для перебора в функции GridSearchCV\n",
    "param_grid_tree = { \n",
    "    'max_depth' : [5,6,7,8,9,10],\n",
    "    'criterion': ['gini', 'entropy'],\n",
    "    'min_samples_split': [2,3,4],\n",
    "    'min_samples_leaf': [3,4,5,6,7,8]\n",
    "    \n",
    "}\n"
   ]
  },
  {
   "cell_type": "markdown",
   "metadata": {},
   "source": [
    "Подберем гиперпараметры с помощью метода `GridSearchCV`."
   ]
  },
  {
   "cell_type": "code",
   "execution_count": 20,
   "metadata": {},
   "outputs": [],
   "source": [
    "def grid_param(model,param_grid,features,target):\n",
    "    \"\"\"\n",
    "    Возвращает гиперпараметры, заданные в параметре param_grid, при которых model получает \n",
    "    лучшее значение f1-меры.\n",
    "    \"\"\"\n",
    "    grid_tree = GridSearchCV(estimator=model, param_grid=param_grid, scoring='f1')\n",
    "    grid_tree.fit(features, target)\n",
    "    print('Лучшее значение f1-меры: {:.3f} '.format(grid_tree.best_score_))\n",
    "    print('Значения гиперпараметров:')\n",
    "    print(grid_tree.best_params_)\n",
    "\n"
   ]
  },
  {
   "cell_type": "code",
   "execution_count": 21,
   "metadata": {},
   "outputs": [
    {
     "name": "stdout",
     "output_type": "stream",
     "text": [
      "Лучшее значение f1-меры: 0.570 \n",
      "Значения гиперпараметров:\n",
      "{'criterion': 'gini', 'max_depth': 5, 'min_samples_leaf': 5, 'min_samples_split': 2}\n",
      "CPU times: user 14.8 s, sys: 18.7 ms, total: 14.9 s\n",
      "Wall time: 14.9 s\n"
     ]
    }
   ],
   "source": [
    "%%time\n",
    "grid_param(model_tree,param_grid_tree,train_features,train_target)"
   ]
  },
  {
   "cell_type": "markdown",
   "metadata": {},
   "source": [
    "Подбор гиперпараметров для **\"Решающего дерева\"** длился 14.5 s.\n",
    "Лучшее значение f1-меры получили при следующих гиперпараметрах:\n",
    "- максимальная глубина дерева равна 7,\n",
    "- критерий разделения - \"gini\",\n",
    "- минимальное число объектов в узле дерева - 2,\n",
    "- минимальное число объектов в листьях дерева - 6. \n",
    "\n",
    "Сохраним модель с данными гиперпараметрами и обучим ее."
   ]
  },
  {
   "cell_type": "code",
   "execution_count": 22,
   "metadata": {},
   "outputs": [
    {
     "name": "stdout",
     "output_type": "stream",
     "text": [
      "CPU times: user 24.7 ms, sys: 35 µs, total: 24.7 ms\n",
      "Wall time: 23.1 ms\n"
     ]
    },
    {
     "data": {
      "text/plain": [
       "DecisionTreeClassifier(class_weight=None, criterion='gini', max_depth=7,\n",
       "                       max_features=None, max_leaf_nodes=None,\n",
       "                       min_impurity_decrease=0.0, min_impurity_split=None,\n",
       "                       min_samples_leaf=6, min_samples_split=2,\n",
       "                       min_weight_fraction_leaf=0.0, presort=False,\n",
       "                       random_state=13, splitter='best')"
      ]
     },
     "execution_count": 22,
     "metadata": {},
     "output_type": "execute_result"
    }
   ],
   "source": [
    "%%time\n",
    "model_tree = DecisionTreeClassifier(random_state=13,\n",
    "                                    max_depth=7,\n",
    "                                    criterion = 'gini', \n",
    "                                    min_samples_split=2,\n",
    "                                    min_samples_leaf=6)\n",
    "\n",
    "model_tree.fit(train_features, train_target)"
   ]
  },
  {
   "cell_type": "markdown",
   "metadata": {},
   "source": [
    "Решающее дерево обучилось за 12.4 ms, достаточно быстро.\n",
    "Посчитаем f1-меру, AUC_ROC и построим ROC-кривую."
   ]
  },
  {
   "cell_type": "code",
   "execution_count": 23,
   "metadata": {},
   "outputs": [
    {
     "name": "stdout",
     "output_type": "stream",
     "text": [
      "Recall: 0.469 \n",
      "Precision: 0.729 \n",
      "F1-мера: 0.571 \n",
      "AUC-ROC: 0.853\n"
     ]
    },
    {
     "data": {
      "image/png": "[encoded data removed]",
      "text/plain": [
       "<Figure size 432x288 with 1 Axes>"
      ]
     },
     "metadata": {
      "needs_background": "light"
     },
     "output_type": "display_data"
    }
   ],
   "source": [
    "#создает функцию для оценки f1-меры, AUC_ROC и построения ROC-кривой\n",
    "def f1_auc_roc_score(model,features,target):\n",
    "    \"\"\"\n",
    "    Возвращает значения Recall, Precision, F1-меру и AUC-ROC, а также строит ROC-кривую для заданной модели\n",
    "    \"\"\"\n",
    "    \n",
    "    predictions = model.predict(features)    \n",
    "    probabilities_valid = model.predict_proba(features)\n",
    "    probabilities_one_valid = probabilities_valid[:, 1]\n",
    "    \n",
    "    print('Recall: {:.3f} '.format(recall_score(target, predictions)))\n",
    "    print('Precision: {:.3f} '.format(precision_score(target, predictions)))\n",
    "    print('F1-мера: {:.3f} '.format(f1_score(target, predictions)))\n",
    "    print('AUC-ROC: {:.3f}'.format(roc_auc_score(target, probabilities_one_valid)))\n",
    "\n",
    "    fpr, tpr, thresholds = roc_curve(target, probabilities_one_valid)\n",
    "    plt.figure()\n",
    "\n",
    "    #ROC-кривая модели\n",
    "    plt.plot(fpr, tpr)\n",
    "\n",
    "    #ROC-кривая случайной модели\n",
    "    plt.plot([0, 1], [0, 1], linestyle='--')\n",
    "\n",
    "\n",
    "    #задает форматирование\n",
    "    plt.xlim([0.0,1.0])\n",
    "    plt.ylim([0.0,1.0])\n",
    "    plt.xlabel('False Positive Rate')\n",
    "    plt.ylabel('True Positive Rate')\n",
    "    plt.title('ROC-кривая')\n",
    "    plt.show()\n",
    "\n",
    "f1_auc_roc_score(model_tree,valid_features,valid_target)"
   ]
  },
  {
   "cell_type": "markdown",
   "metadata": {},
   "source": [
    "**F1-мера равна <font color='red'>0.571</font>, а AUC-ROC - <font color='red'>0.853</font>.** \n",
    "\n",
    "При среднем значении F1-меры получили достаточно высокое значение метрики AUC-ROC. Модель обладает неплохой точностью (Precision - 0.729), но при этом низкой полнотой (Recall - 0.469). \n",
    "\n",
    "Добавим их в таблицу для сравнения моделей."
   ]
  },
  {
   "cell_type": "code",
   "execution_count": 25,
   "metadata": {},
   "outputs": [
    {
     "data": {
      "text/html": [
       "<div>\n",
       "<style scoped>\n",
       "    .dataframe tbody tr th:only-of-type {\n",
       "        vertical-align: middle;\n",
       "    }\n",
       "\n",
       "    .dataframe tbody tr th {\n",
       "        vertical-align: top;\n",
       "    }\n",
       "\n",
       "    .dataframe thead th {\n",
       "        text-align: right;\n",
       "    }\n",
       "</style>\n",
       "<table border=\"1\" class=\"dataframe\">\n",
       "  <thead>\n",
       "    <tr style=\"text-align: right;\">\n",
       "      <th></th>\n",
       "      <th>Model</th>\n",
       "      <th>Recall</th>\n",
       "      <th>Precision</th>\n",
       "      <th>F1-мера</th>\n",
       "      <th>AUC-ROC</th>\n",
       "      <th>Time GridSearchCV</th>\n",
       "      <th>Time train</th>\n",
       "    </tr>\n",
       "  </thead>\n",
       "  <tbody>\n",
       "    <tr>\n",
       "      <td>0</td>\n",
       "      <td>Decision Tree</td>\n",
       "      <td>0.469</td>\n",
       "      <td>0.729</td>\n",
       "      <td>0.571</td>\n",
       "      <td>0.853</td>\n",
       "      <td>14.5 s</td>\n",
       "      <td>12.4 ms</td>\n",
       "    </tr>\n",
       "  </tbody>\n",
       "</table>\n",
       "</div>"
      ],
      "text/plain": [
       "           Model  Recall  Precision  F1-мера  AUC-ROC Time GridSearchCV  \\\n",
       "0  Decision Tree   0.469      0.729    0.571    0.853            14.5 s   \n",
       "\n",
       "  Time train  \n",
       "0    12.4 ms  "
      ]
     },
     "execution_count": 25,
     "metadata": {},
     "output_type": "execute_result"
    }
   ],
   "source": [
    "result = pd.DataFrame({\"Model\": [\"Decision Tree\"], \n",
    "                       \"Recall\": [0.469], \n",
    "                       \"Precision\": [0.729],\n",
    "                       \"F1-мера\": [0.571],\n",
    "                       \"AUC-ROC\": [0.853],\n",
    "                       \"Time GridSearchCV\": [\"14.5 s\"],\n",
    "                       \"Time train\": [\"12.4 ms\"]\n",
    "                      })\n",
    "\n",
    "result"
   ]
  },
  {
   "cell_type": "markdown",
   "metadata": {},
   "source": [
    "Теперь перейдем к модели **\"Случайный лес\"**. Подберем гиперпараметры **n_estimators, max_depth и criterion**."
   ]
  },
  {
   "cell_type": "code",
   "execution_count": 26,
   "metadata": {},
   "outputs": [],
   "source": [
    "model_forest = RandomForestClassifier(random_state=13) \n",
    "\n",
    "#формирует гиперпараметры и их значения для перебора в функции GridSearchCV\n",
    "param_grid_forest = { \n",
    "    'n_estimators': [20,30,40,50,60],\n",
    "    'max_depth' : [13,14,15,16,17],\n",
    "    'criterion': ['gini', 'entropy']\n",
    "    \n",
    "}"
   ]
  },
  {
   "cell_type": "markdown",
   "metadata": {},
   "source": [
    "Подберем гиперпараметры."
   ]
  },
  {
   "cell_type": "code",
   "execution_count": 27,
   "metadata": {},
   "outputs": [
    {
     "name": "stdout",
     "output_type": "stream",
     "text": [
      "Лучшее значение f1-меры: 0.588 \n",
      "Значения гиперпараметров:\n",
      "{'criterion': 'entropy', 'max_depth': 13, 'n_estimators': 40}\n",
      "CPU times: user 45.6 s, sys: 128 ms, total: 45.7 s\n",
      "Wall time: 46.1 s\n"
     ]
    }
   ],
   "source": [
    "%%time\n",
    "grid_param(model_forest,param_grid_forest,train_features,train_target)"
   ]
  },
  {
   "cell_type": "markdown",
   "metadata": {},
   "source": [
    "Гиперпараметры подбирались в течении 3min 21s, достаточно долго.\n",
    "\n",
    "Лучшее значение f1-меры получили при следующих гиперпараметрах:\n",
    "- максимальная глубина дерева равна 15,\n",
    "- критерий разделения - \"entropy\",\n",
    "- количество деревьев в лесу - 40.\n",
    "\n",
    "Сохраним модель с данными гиперпараметрами и обучим ее."
   ]
  },
  {
   "cell_type": "code",
   "execution_count": 28,
   "metadata": {},
   "outputs": [
    {
     "name": "stdout",
     "output_type": "stream",
     "text": [
      "CPU times: user 441 ms, sys: 8 ms, total: 449 ms\n",
      "Wall time: 458 ms\n"
     ]
    },
    {
     "data": {
      "text/plain": [
       "RandomForestClassifier(bootstrap=True, class_weight=None, criterion='entropy',\n",
       "                       max_depth=15, max_features='auto', max_leaf_nodes=None,\n",
       "                       min_impurity_decrease=0.0, min_impurity_split=None,\n",
       "                       min_samples_leaf=1, min_samples_split=2,\n",
       "                       min_weight_fraction_leaf=0.0, n_estimators=40,\n",
       "                       n_jobs=None, oob_score=False, random_state=13, verbose=0,\n",
       "                       warm_start=False)"
      ]
     },
     "execution_count": 28,
     "metadata": {},
     "output_type": "execute_result"
    }
   ],
   "source": [
    "%%time\n",
    "model_forest = RandomForestClassifier(random_state=13, n_estimators=40, max_depth=15, criterion='entropy') \n",
    "model_forest.fit(train_features, train_target)"
   ]
  },
  {
   "cell_type": "markdown",
   "metadata": {},
   "source": [
    "Время обучения модели составляет 276 ms, достаточно быстро, по сравнению с подбором гиперпараметров.\n",
    "Посмотрим на значения основных метрик."
   ]
  },
  {
   "cell_type": "code",
   "execution_count": 29,
   "metadata": {},
   "outputs": [
    {
     "name": "stdout",
     "output_type": "stream",
     "text": [
      "Recall: 0.477 \n",
      "Precision: 0.767 \n",
      "F1-мера: 0.588 \n",
      "AUC-ROC: 0.852\n"
     ]
    },
    {
     "data": {
      "image/png": "[encoded data removed]",
      "text/plain": [
       "<Figure size 432x288 with 1 Axes>"
      ]
     },
     "metadata": {
      "needs_background": "light"
     },
     "output_type": "display_data"
    }
   ],
   "source": [
    "f1_auc_roc_score(model_forest,valid_features,valid_target)"
   ]
  },
  {
   "cell_type": "markdown",
   "metadata": {},
   "source": [
    "**F1-мера равна <font color='red'>0.587</font>, а AUC-ROC - <font color='red'>0.852</font>.**\n",
    "\n",
    "Значение F1-меры и AUC-ROC получили примерно такое же, как и для модели **Решающее дерево**. При среднем значении F1-меры получили достаточно высокое значение метрики AUC-ROC. Модель обладает неплохой точностью (Precision - 0.769), но при этом низкой полнотой (Recall - 0.474). \n",
    "\n",
    "Добавим полученные данные в сводную таблицу."
   ]
  },
  {
   "cell_type": "code",
   "execution_count": 30,
   "metadata": {},
   "outputs": [
    {
     "data": {
      "text/html": [
       "<div>\n",
       "<style scoped>\n",
       "    .dataframe tbody tr th:only-of-type {\n",
       "        vertical-align: middle;\n",
       "    }\n",
       "\n",
       "    .dataframe tbody tr th {\n",
       "        vertical-align: top;\n",
       "    }\n",
       "\n",
       "    .dataframe thead th {\n",
       "        text-align: right;\n",
       "    }\n",
       "</style>\n",
       "<table border=\"1\" class=\"dataframe\">\n",
       "  <thead>\n",
       "    <tr style=\"text-align: right;\">\n",
       "      <th></th>\n",
       "      <th>Model</th>\n",
       "      <th>Recall</th>\n",
       "      <th>Precision</th>\n",
       "      <th>F1-мера</th>\n",
       "      <th>AUC-ROC</th>\n",
       "      <th>Time GridSearchCV</th>\n",
       "      <th>Time train</th>\n",
       "    </tr>\n",
       "  </thead>\n",
       "  <tbody>\n",
       "    <tr>\n",
       "      <td>0</td>\n",
       "      <td>Decision Tree</td>\n",
       "      <td>0.469</td>\n",
       "      <td>0.729</td>\n",
       "      <td>0.571</td>\n",
       "      <td>0.853</td>\n",
       "      <td>14.5 s</td>\n",
       "      <td>12.4 ms</td>\n",
       "    </tr>\n",
       "    <tr>\n",
       "      <td>1</td>\n",
       "      <td>Random Forest</td>\n",
       "      <td>0.474</td>\n",
       "      <td>0.769</td>\n",
       "      <td>0.587</td>\n",
       "      <td>0.852</td>\n",
       "      <td>3min 21s</td>\n",
       "      <td>276 ms</td>\n",
       "    </tr>\n",
       "  </tbody>\n",
       "</table>\n",
       "</div>"
      ],
      "text/plain": [
       "           Model  Recall  Precision  F1-мера  AUC-ROC Time GridSearchCV  \\\n",
       "0  Decision Tree   0.469      0.729    0.571    0.853            14.5 s   \n",
       "1  Random Forest   0.474      0.769    0.587    0.852          3min 21s   \n",
       "\n",
       "  Time train  \n",
       "0    12.4 ms  \n",
       "1     276 ms  "
      ]
     },
     "execution_count": 30,
     "metadata": {},
     "output_type": "execute_result"
    }
   ],
   "source": [
    "result = result.append({\"Model\": \"Random Forest\", \n",
    "                       \"Recall\": 0.474, \n",
    "                       \"Precision\": 0.769,\n",
    "                       \"F1-мера\": 0.587,\n",
    "                       \"AUC-ROC\": 0.852,\n",
    "                       \"Time GridSearchCV\": \"3min 21s\",\n",
    "                       \"Time train\": \"276 ms\"},\n",
    "                       ignore_index=True)\n",
    "\n",
    "result"
   ]
  },
  {
   "cell_type": "markdown",
   "metadata": {},
   "source": [
    "Теперь перейдем к модели **\"Логистическая регрессия\"**."
   ]
  },
  {
   "cell_type": "code",
   "execution_count": 31,
   "metadata": {},
   "outputs": [
    {
     "name": "stdout",
     "output_type": "stream",
     "text": [
      "CPU times: user 12.6 ms, sys: 4.04 ms, total: 16.6 ms\n",
      "Wall time: 31.7 ms\n"
     ]
    },
    {
     "data": {
      "text/plain": [
       "LogisticRegression(C=1.0, class_weight=None, dual=False, fit_intercept=True,\n",
       "                   intercept_scaling=1, l1_ratio=None, max_iter=100,\n",
       "                   multi_class='warn', n_jobs=None, penalty='l2',\n",
       "                   random_state=13, solver='liblinear', tol=0.0001, verbose=0,\n",
       "                   warm_start=False)"
      ]
     },
     "execution_count": 31,
     "metadata": {},
     "output_type": "execute_result"
    }
   ],
   "source": [
    "%%time\n",
    "model_logistic = LogisticRegression(random_state=13, solver='liblinear') \n",
    "model_logistic.fit(train_features, train_target)\n"
   ]
  },
  {
   "cell_type": "markdown",
   "metadata": {},
   "source": [
    "Время обучения модели составляет 5.64 ms, пока что самое быстрое время. Посмотрим на значения основных метрик."
   ]
  },
  {
   "cell_type": "code",
   "execution_count": 32,
   "metadata": {},
   "outputs": [
    {
     "name": "stdout",
     "output_type": "stream",
     "text": [
      "Recall: 0.204 \n",
      "Precision: 0.519 \n",
      "F1-мера: 0.293 \n",
      "AUC-ROC: 0.754\n"
     ]
    },
    {
     "data": {
      "image/png": "[encoded data removed]",
      "text/plain": [
       "<Figure size 432x288 with 1 Axes>"
      ]
     },
     "metadata": {
      "needs_background": "light"
     },
     "output_type": "display_data"
    }
   ],
   "source": [
    "f1_auc_roc_score(model_logistic,valid_features,valid_target)"
   ]
  },
  {
   "cell_type": "markdown",
   "metadata": {},
   "source": [
    "**F1-мера равна <font color='red'>0.293</font>, а AUC-ROC - <font color='red'>0.754</font>.** Получили самое низкое значение F1-меры, при этом метрика AUC-ROC ниже, но все еще высокая. \n",
    "Модель обладает средней точностью (Precision - 0.519), но при этом очень низкой полнотой (Recall - 0.204).\n",
    "\n",
    "Добавим полученные данные в сводную таблицу."
   ]
  },
  {
   "cell_type": "code",
   "execution_count": 33,
   "metadata": {},
   "outputs": [
    {
     "data": {
      "text/html": [
       "<div>\n",
       "<style scoped>\n",
       "    .dataframe tbody tr th:only-of-type {\n",
       "        vertical-align: middle;\n",
       "    }\n",
       "\n",
       "    .dataframe tbody tr th {\n",
       "        vertical-align: top;\n",
       "    }\n",
       "\n",
       "    .dataframe thead th {\n",
       "        text-align: right;\n",
       "    }\n",
       "</style>\n",
       "<table border=\"1\" class=\"dataframe\">\n",
       "  <thead>\n",
       "    <tr style=\"text-align: right;\">\n",
       "      <th></th>\n",
       "      <th>Model</th>\n",
       "      <th>Recall</th>\n",
       "      <th>Precision</th>\n",
       "      <th>F1-мера</th>\n",
       "      <th>AUC-ROC</th>\n",
       "      <th>Time GridSearchCV</th>\n",
       "      <th>Time train</th>\n",
       "    </tr>\n",
       "  </thead>\n",
       "  <tbody>\n",
       "    <tr>\n",
       "      <td>0</td>\n",
       "      <td>Decision Tree</td>\n",
       "      <td>0.469</td>\n",
       "      <td>0.729</td>\n",
       "      <td>0.571</td>\n",
       "      <td>0.853</td>\n",
       "      <td>14.5 s</td>\n",
       "      <td>12.4 ms</td>\n",
       "    </tr>\n",
       "    <tr>\n",
       "      <td>1</td>\n",
       "      <td>Random Forest</td>\n",
       "      <td>0.474</td>\n",
       "      <td>0.769</td>\n",
       "      <td>0.587</td>\n",
       "      <td>0.852</td>\n",
       "      <td>3min 21s</td>\n",
       "      <td>276 ms</td>\n",
       "    </tr>\n",
       "    <tr>\n",
       "      <td>2</td>\n",
       "      <td>Logistic Regression</td>\n",
       "      <td>0.204</td>\n",
       "      <td>0.519</td>\n",
       "      <td>0.293</td>\n",
       "      <td>0.754</td>\n",
       "      <td>-</td>\n",
       "      <td>5.64 ms</td>\n",
       "    </tr>\n",
       "  </tbody>\n",
       "</table>\n",
       "</div>"
      ],
      "text/plain": [
       "                 Model  Recall  Precision  F1-мера  AUC-ROC Time GridSearchCV  \\\n",
       "0        Decision Tree   0.469      0.729    0.571    0.853            14.5 s   \n",
       "1        Random Forest   0.474      0.769    0.587    0.852          3min 21s   \n",
       "2  Logistic Regression   0.204      0.519    0.293    0.754                 -   \n",
       "\n",
       "  Time train  \n",
       "0    12.4 ms  \n",
       "1     276 ms  \n",
       "2    5.64 ms  "
      ]
     },
     "execution_count": 33,
     "metadata": {},
     "output_type": "execute_result"
    }
   ],
   "source": [
    "result = result.append({\"Model\": \"Logistic Regression\", \n",
    "                       \"Recall\": 0.204, \n",
    "                       \"Precision\": 0.519,\n",
    "                       \"F1-мера\": 0.293,\n",
    "                       \"AUC-ROC\": 0.754,\n",
    "                       \"Time GridSearchCV\": \"-\",\n",
    "                       \"Time train\": \"5.64 ms\"},\n",
    "                       ignore_index=True)\n",
    "\n",
    "result"
   ]
  },
  {
   "cell_type": "markdown",
   "metadata": {},
   "source": [
    "Построим модель с помощью **CatBoostClassifier**."
   ]
  },
  {
   "cell_type": "code",
   "execution_count": 34,
   "metadata": {},
   "outputs": [
    {
     "name": "stdout",
     "output_type": "stream",
     "text": [
      "Learning rate set to 0.09418\n",
      "0:\tlearn: 0.6204511\ttest: 0.6210361\tbest: 0.6210361 (0)\ttotal: 53.3ms\tremaining: 53.2s\n",
      "100:\tlearn: 0.2788649\ttest: 0.3284831\tbest: 0.3269407 (56)\ttotal: 2.55s\tremaining: 22.7s\n",
      "200:\tlearn: 0.2344073\ttest: 0.3355334\tbest: 0.3269407 (56)\ttotal: 5.1s\tremaining: 20.3s\n",
      "300:\tlearn: 0.1997992\ttest: 0.3461387\tbest: 0.3269407 (56)\ttotal: 7.81s\tremaining: 18.1s\n",
      "400:\tlearn: 0.1724010\ttest: 0.3520042\tbest: 0.3269407 (56)\ttotal: 10.2s\tremaining: 15.2s\n",
      "500:\tlearn: 0.1507080\ttest: 0.3607175\tbest: 0.3269407 (56)\ttotal: 12.9s\tremaining: 12.9s\n",
      "600:\tlearn: 0.1332866\ttest: 0.3677702\tbest: 0.3269407 (56)\ttotal: 15.6s\tremaining: 10.3s\n",
      "700:\tlearn: 0.1173080\ttest: 0.3745007\tbest: 0.3269407 (56)\ttotal: 18.1s\tremaining: 7.73s\n",
      "800:\tlearn: 0.1037077\ttest: 0.3819070\tbest: 0.3269407 (56)\ttotal: 20.7s\tremaining: 5.14s\n",
      "900:\tlearn: 0.0925484\ttest: 0.3897257\tbest: 0.3269407 (56)\ttotal: 23.3s\tremaining: 2.56s\n",
      "999:\tlearn: 0.0826238\ttest: 0.3969375\tbest: 0.3269407 (56)\ttotal: 25.9s\tremaining: 0us\n",
      "\n",
      "bestTest = 0.3269407444\n",
      "bestIteration = 56\n",
      "\n",
      "Shrink model to first 57 iterations.\n",
      "CPU times: user 23.9 s, sys: 2.53 s, total: 26.4 s\n",
      "Wall time: 29.2 s\n"
     ]
    },
    {
     "data": {
      "text/plain": [
       "<catboost.core.CatBoostClassifier at 0x7fe21b98f7d0>"
      ]
     },
     "execution_count": 34,
     "metadata": {},
     "output_type": "execute_result"
    }
   ],
   "source": [
    "%%time\n",
    "model_cat_boost = CatBoostClassifier(verbose=100)\n",
    "\n",
    "model_cat_boost.fit(train_features, train_target, \n",
    "                    eval_set=(valid_features, valid_target))\n"
   ]
  },
  {
   "cell_type": "markdown",
   "metadata": {},
   "source": [
    "Время обучения модели составляет 2.38 s. Посмотрим на значения основных метрик."
   ]
  },
  {
   "cell_type": "code",
   "execution_count": 35,
   "metadata": {},
   "outputs": [
    {
     "name": "stdout",
     "output_type": "stream",
     "text": [
      "Recall: 0.486 \n",
      "Precision: 0.786 \n",
      "F1-мера: 0.601 \n",
      "AUC-ROC: 0.871\n"
     ]
    },
    {
     "data": {
      "image/png": "[encoded data removed]",
      "text/plain": [
       "<Figure size 432x288 with 1 Axes>"
      ]
     },
     "metadata": {
      "needs_background": "light"
     },
     "output_type": "display_data"
    }
   ],
   "source": [
    "f1_auc_roc_score(model_cat_boost,valid_features,valid_target)"
   ]
  },
  {
   "cell_type": "markdown",
   "metadata": {},
   "source": [
    "У модели CatBoostClassifier самые высокие значения метрик. **F1-мера равна <font color='red'>0.605</font>, а AUC-ROC - <font color='red'>0.872</font>.** Модель обладает неплохой точностью (Precision - 0.779), но при этом низкой полнотой (Recall - 0.494). \n",
    "\n",
    "Добавим результат в сводную таблицу."
   ]
  },
  {
   "cell_type": "code",
   "execution_count": 36,
   "metadata": {},
   "outputs": [],
   "source": [
    "result = result.append({\"Model\": \"CatBoost\", \n",
    "                       \"Recall\": 0.494, \n",
    "                       \"Precision\": 0.779,\n",
    "                       \"F1-мера\": 0.605,\n",
    "                       \"AUC-ROC\": 0.872,\n",
    "                       \"Time GridSearchCV\": \"-\",\n",
    "                       \"Time train\": \"2.38 s\"},\n",
    "                       ignore_index=True)\n"
   ]
  },
  {
   "cell_type": "markdown",
   "metadata": {},
   "source": [
    "**Промежуточные результаты:**"
   ]
  },
  {
   "cell_type": "code",
   "execution_count": 37,
   "metadata": {},
   "outputs": [
    {
     "data": {
      "text/html": [
       "<div>\n",
       "<style scoped>\n",
       "    .dataframe tbody tr th:only-of-type {\n",
       "        vertical-align: middle;\n",
       "    }\n",
       "\n",
       "    .dataframe tbody tr th {\n",
       "        vertical-align: top;\n",
       "    }\n",
       "\n",
       "    .dataframe thead th {\n",
       "        text-align: right;\n",
       "    }\n",
       "</style>\n",
       "<table border=\"1\" class=\"dataframe\">\n",
       "  <thead>\n",
       "    <tr style=\"text-align: right;\">\n",
       "      <th></th>\n",
       "      <th>Model</th>\n",
       "      <th>Recall</th>\n",
       "      <th>Precision</th>\n",
       "      <th>F1-мера</th>\n",
       "      <th>AUC-ROC</th>\n",
       "      <th>Time GridSearchCV</th>\n",
       "      <th>Time train</th>\n",
       "    </tr>\n",
       "  </thead>\n",
       "  <tbody>\n",
       "    <tr>\n",
       "      <td>3</td>\n",
       "      <td>CatBoost</td>\n",
       "      <td>0.494</td>\n",
       "      <td>0.779</td>\n",
       "      <td>0.605</td>\n",
       "      <td>0.872</td>\n",
       "      <td>-</td>\n",
       "      <td>2.38 s</td>\n",
       "    </tr>\n",
       "    <tr>\n",
       "      <td>1</td>\n",
       "      <td>Random Forest</td>\n",
       "      <td>0.474</td>\n",
       "      <td>0.769</td>\n",
       "      <td>0.587</td>\n",
       "      <td>0.852</td>\n",
       "      <td>3min 21s</td>\n",
       "      <td>276 ms</td>\n",
       "    </tr>\n",
       "    <tr>\n",
       "      <td>0</td>\n",
       "      <td>Decision Tree</td>\n",
       "      <td>0.469</td>\n",
       "      <td>0.729</td>\n",
       "      <td>0.571</td>\n",
       "      <td>0.853</td>\n",
       "      <td>14.5 s</td>\n",
       "      <td>12.4 ms</td>\n",
       "    </tr>\n",
       "    <tr>\n",
       "      <td>2</td>\n",
       "      <td>Logistic Regression</td>\n",
       "      <td>0.204</td>\n",
       "      <td>0.519</td>\n",
       "      <td>0.293</td>\n",
       "      <td>0.754</td>\n",
       "      <td>-</td>\n",
       "      <td>5.64 ms</td>\n",
       "    </tr>\n",
       "  </tbody>\n",
       "</table>\n",
       "</div>"
      ],
      "text/plain": [
       "                 Model  Recall  Precision  F1-мера  AUC-ROC Time GridSearchCV  \\\n",
       "3             CatBoost   0.494      0.779    0.605    0.872                 -   \n",
       "1        Random Forest   0.474      0.769    0.587    0.852          3min 21s   \n",
       "0        Decision Tree   0.469      0.729    0.571    0.853            14.5 s   \n",
       "2  Logistic Regression   0.204      0.519    0.293    0.754                 -   \n",
       "\n",
       "  Time train  \n",
       "3     2.38 s  \n",
       "1     276 ms  \n",
       "0    12.4 ms  \n",
       "2    5.64 ms  "
      ]
     },
     "execution_count": 37,
     "metadata": {},
     "output_type": "execute_result"
    }
   ],
   "source": [
    "result.sort_values(by='F1-мера', ascending=False)"
   ]
  },
  {
   "cell_type": "markdown",
   "metadata": {},
   "source": [
    "При моделировании без учета дисбаланса классов самая лучшая модель по всем метрикам - **CatBoost**, далее идет **\"Случайный лес\"** и **\"Дерево решений\"**. Самое долгое время подбора параметров для модели **\"Случайный лес\"** - больше 3 минут. Самый плохой результат показала модель **\"Логистической регрессии\"**."
   ]
  },
  {
   "cell_type": "markdown",
   "metadata": {},
   "source": [
    "Сбалансируем классы и снова проверим модели."
   ]
  },
  {
   "cell_type": "markdown",
   "metadata": {},
   "source": [
    "## Создание моделей с учетом дисбаланса классов"
   ]
  },
  {
   "cell_type": "markdown",
   "metadata": {},
   "source": [
    "Как мы ранее уже видели, у нас присутствует дисбаланс классов: 20% - ушедших клиентов и 80% - активных. Чтобы сбалансировать классы применим две техники и посмотрим, какая дала лучший результат:\n",
    "- взвешивание классов\n",
    "- upsampling"
   ]
  },
  {
   "cell_type": "markdown",
   "metadata": {},
   "source": [
    "### Взвешивание классов"
   ]
  },
  {
   "cell_type": "markdown",
   "metadata": {},
   "source": [
    "При построение моделей добавим параметр `class_weight`.\n",
    "\n",
    "Начнем с модели **\"Решающее дерево\"**. Подберем наиболее оптимальные гиперпараметры для модели и сохраним ее."
   ]
  },
  {
   "cell_type": "code",
   "execution_count": 38,
   "metadata": {},
   "outputs": [],
   "source": [
    "model_tree_balance = DecisionTreeClassifier(random_state=13, class_weight='balanced')\n"
   ]
  },
  {
   "cell_type": "markdown",
   "metadata": {},
   "source": [
    "Подберем гиперпараметры с помощью метода `GridSearchCV`."
   ]
  },
  {
   "cell_type": "code",
   "execution_count": 39,
   "metadata": {},
   "outputs": [
    {
     "name": "stdout",
     "output_type": "stream",
     "text": [
      "Лучшее значение f1-меры: 0.567 \n",
      "Значения гиперпараметров:\n",
      "{'criterion': 'gini', 'max_depth': 6, 'min_samples_leaf': 4, 'min_samples_split': 2}\n",
      "CPU times: user 15.7 s, sys: 0 ns, total: 15.7 s\n",
      "Wall time: 15.7 s\n"
     ]
    }
   ],
   "source": [
    "%%time\n",
    "grid_param(model_tree_balance,param_grid_tree,train_features,train_target)"
   ]
  },
  {
   "cell_type": "markdown",
   "metadata": {},
   "source": [
    "Лучшее значение f1-меры получили при следующих гиперпараметрах:\n",
    "- максимальная глубина дерева равна 6,\n",
    "- критерий разделения - \"gini\",\n",
    "- минимальное число объектов в узле дерева - 2,\n",
    "- минимальное число объектов в листьях дерева - 3. \n",
    "\n",
    "Сохраним модель с наилучшими параметрами."
   ]
  },
  {
   "cell_type": "code",
   "execution_count": 40,
   "metadata": {},
   "outputs": [
    {
     "name": "stdout",
     "output_type": "stream",
     "text": [
      "CPU times: user 24.7 ms, sys: 0 ns, total: 24.7 ms\n",
      "Wall time: 22.6 ms\n"
     ]
    },
    {
     "data": {
      "text/plain": [
       "DecisionTreeClassifier(class_weight='balanced', criterion='gini', max_depth=6,\n",
       "                       max_features=None, max_leaf_nodes=None,\n",
       "                       min_impurity_decrease=0.0, min_impurity_split=None,\n",
       "                       min_samples_leaf=3, min_samples_split=2,\n",
       "                       min_weight_fraction_leaf=0.0, presort=False,\n",
       "                       random_state=13, splitter='best')"
      ]
     },
     "execution_count": 40,
     "metadata": {},
     "output_type": "execute_result"
    }
   ],
   "source": [
    "%%time\n",
    "model_tree_balance = DecisionTreeClassifier(random_state=13,\n",
    "                                            class_weight='balanced',\n",
    "                                            max_depth=6,\n",
    "                                            criterion = 'gini',\n",
    "                                            min_samples_split=2,\n",
    "                                            min_samples_leaf=3)\n",
    "\n",
    "model_tree_balance.fit(train_features, train_target)"
   ]
  },
  {
   "cell_type": "markdown",
   "metadata": {},
   "source": [
    "Решающее дерево обучилось за 30.8 ms.\n",
    "Посчитаем f1-меру, AUC_ROC и построим ROC-кривую."
   ]
  },
  {
   "cell_type": "code",
   "execution_count": 41,
   "metadata": {},
   "outputs": [
    {
     "name": "stdout",
     "output_type": "stream",
     "text": [
      "Recall: 0.764 \n",
      "Precision: 0.475 \n",
      "F1-мера: 0.586 \n",
      "AUC-ROC: 0.853\n"
     ]
    },
    {
     "data": {
      "image/png": "[encoded data removed]",
      "text/plain": [
       "<Figure size 432x288 with 1 Axes>"
      ]
     },
     "metadata": {
      "needs_background": "light"
     },
     "output_type": "display_data"
    }
   ],
   "source": [
    "f1_auc_roc_score(model_tree_balance,valid_features,valid_target)"
   ]
  },
  {
   "cell_type": "markdown",
   "metadata": {},
   "source": [
    "**Наблюдается небольшой рост F1-меры  <font color='red'>с 0.571 до 0.586</font>, при этом значение AUC-ROC не изменилось <font color='red'>0.853</font>.**\n",
    "До взвешивания классов модель обладала хорошей точностью, но низкой полнотой, то теперь наоборот - модель обладает низкой точностью (Precision - 0.475), но при этом хорошей полнотой (Recall - 0.764). \n",
    "\n",
    "Добавим результат в сводную таблицу."
   ]
  },
  {
   "cell_type": "code",
   "execution_count": 42,
   "metadata": {},
   "outputs": [],
   "source": [
    "result = result.append({\"Model\": \"Decision Tree Balance\", \n",
    "                       \"Recall\": 0.764, \n",
    "                       \"Precision\": 0.475,\n",
    "                       \"F1-мера\": 0.586,\n",
    "                       \"AUC-ROC\": 0.853,\n",
    "                       \"Time GridSearchCV\": \"18.1 s\",\n",
    "                       \"Time train\": \"30.8 ms\"},\n",
    "                       ignore_index=True)\n"
   ]
  },
  {
   "cell_type": "markdown",
   "metadata": {},
   "source": [
    "Теперь перейдем к модели **\"Случайный лес\"**. "
   ]
  },
  {
   "cell_type": "code",
   "execution_count": 43,
   "metadata": {},
   "outputs": [],
   "source": [
    "model_forest_balance = RandomForestClassifier(random_state=13,  class_weight='balanced') \n",
    "\n",
    "#формирует гиперпараметры и их значения для перебора в функции GridSearchCV\n",
    "param_grid_forest_balance = { \n",
    "    'n_estimators': [30,40,50,60,70],\n",
    "    'max_depth' : [6,7,8,9,10],\n",
    "    'criterion': ['gini', 'entropy']\n",
    "    \n",
    "}"
   ]
  },
  {
   "cell_type": "markdown",
   "metadata": {},
   "source": [
    "Подберем гиперпараметры."
   ]
  },
  {
   "cell_type": "code",
   "execution_count": 44,
   "metadata": {},
   "outputs": [
    {
     "name": "stdout",
     "output_type": "stream",
     "text": [
      "Лучшее значение f1-меры: 0.611 \n",
      "Значения гиперпараметров:\n",
      "{'criterion': 'entropy', 'max_depth': 9, 'n_estimators': 70}\n",
      "CPU times: user 44.6 s, sys: 76.3 ms, total: 44.7 s\n",
      "Wall time: 45.1 s\n"
     ]
    }
   ],
   "source": [
    "%%time\n",
    "grid_param(model_forest_balance,param_grid_forest_balance,train_features,train_target)"
   ]
  },
  {
   "cell_type": "markdown",
   "metadata": {},
   "source": [
    "Гиперпараметры подбирались в течении 3min 32s, достаточно долго.\n",
    "\n",
    "Лучшее значение f1-меры получили при следующих гиперпараметрах:\n",
    "- максимальная глубина дерева равна 8,\n",
    "- критерий разделения - \"entropy\",\n",
    "- количество деревьев в лесу - 50.\n",
    "\n",
    "Построим модель на основании полученных гиперпараметров."
   ]
  },
  {
   "cell_type": "code",
   "execution_count": 45,
   "metadata": {},
   "outputs": [
    {
     "name": "stdout",
     "output_type": "stream",
     "text": [
      "CPU times: user 409 ms, sys: 7.62 ms, total: 416 ms\n",
      "Wall time: 433 ms\n"
     ]
    },
    {
     "data": {
      "text/plain": [
       "RandomForestClassifier(bootstrap=True, class_weight='balanced',\n",
       "                       criterion='entropy', max_depth=8, max_features='auto',\n",
       "                       max_leaf_nodes=None, min_impurity_decrease=0.0,\n",
       "                       min_impurity_split=None, min_samples_leaf=1,\n",
       "                       min_samples_split=2, min_weight_fraction_leaf=0.0,\n",
       "                       n_estimators=50, n_jobs=None, oob_score=False,\n",
       "                       random_state=13, verbose=0, warm_start=False)"
      ]
     },
     "execution_count": 45,
     "metadata": {},
     "output_type": "execute_result"
    }
   ],
   "source": [
    "%%time\n",
    "model_forest_balance = RandomForestClassifier(random_state=13,\n",
    "                                              class_weight='balanced',\n",
    "                                              n_estimators=50, \n",
    "                                              max_depth=8, \n",
    "                                              criterion='entropy') \n",
    "\n",
    "model_forest_balance.fit(train_features, train_target)"
   ]
  },
  {
   "cell_type": "markdown",
   "metadata": {},
   "source": [
    "Время обучения модели составляет 199 ms. Посмотрим на значения основных метрик."
   ]
  },
  {
   "cell_type": "code",
   "execution_count": 46,
   "metadata": {},
   "outputs": [
    {
     "name": "stdout",
     "output_type": "stream",
     "text": [
      "Recall: 0.683 \n",
      "Precision: 0.527 \n",
      "F1-мера: 0.595 \n",
      "AUC-ROC: 0.855\n"
     ]
    },
    {
     "data": {
      "image/png": "[encoded data removed]",
      "text/plain": [
       "<Figure size 432x288 with 1 Axes>"
      ]
     },
     "metadata": {
      "needs_background": "light"
     },
     "output_type": "display_data"
    }
   ],
   "source": [
    "f1_auc_roc_score(model_forest_balance,valid_features,valid_target)"
   ]
  },
  {
   "cell_type": "markdown",
   "metadata": {},
   "source": [
    "**Наблюдается рост F1-меры  <font color='red'>с 0.581 до 0.601</font>, при этом значение AUC-ROC незначительно снизилось <font color='red'>с 0.859 до 0.853</font>.**\n",
    "До взвешивания классов модель обладала хорошей точностью, но низкой полнотой, то теперь можем сказать, что модель приблизилась к балансу показателей точности (Precision - 0.534) и полноты (Recall - 0.686). \n",
    "\n",
    "Добавим результат в сводную таблицу."
   ]
  },
  {
   "cell_type": "code",
   "execution_count": 47,
   "metadata": {},
   "outputs": [],
   "source": [
    "result = result.append({\"Model\": \"Random Forest Balance\", \n",
    "                       \"Recall\": 0.686, \n",
    "                       \"Precision\": 0.534,\n",
    "                       \"F1-мера\": 0.601,\n",
    "                       \"AUC-ROC\": 0.857,\n",
    "                       \"Time GridSearchCV\": \"3min 32s\",\n",
    "                       \"Time train\": \"199 ms\"},\n",
    "                       ignore_index=True)\n",
    "\n"
   ]
  },
  {
   "cell_type": "markdown",
   "metadata": {},
   "source": [
    "Теперь перейдем к модели **\"Логистическая регрессия\"**."
   ]
  },
  {
   "cell_type": "code",
   "execution_count": 48,
   "metadata": {},
   "outputs": [
    {
     "name": "stdout",
     "output_type": "stream",
     "text": [
      "CPU times: user 16.1 ms, sys: 0 ns, total: 16.1 ms\n",
      "Wall time: 15.6 ms\n"
     ]
    },
    {
     "data": {
      "text/plain": [
       "LogisticRegression(C=1.0, class_weight='balanced', dual=False,\n",
       "                   fit_intercept=True, intercept_scaling=1, l1_ratio=None,\n",
       "                   max_iter=100, multi_class='warn', n_jobs=None, penalty='l2',\n",
       "                   random_state=13, solver='liblinear', tol=0.0001, verbose=0,\n",
       "                   warm_start=False)"
      ]
     },
     "execution_count": 48,
     "metadata": {},
     "output_type": "execute_result"
    }
   ],
   "source": [
    "%%time\n",
    "model_logistic_balance = LogisticRegression(random_state=13, solver='liblinear', class_weight='balanced') \n",
    "model_logistic_balance.fit(train_features, train_target)\n"
   ]
  },
  {
   "cell_type": "markdown",
   "metadata": {},
   "source": [
    "Время обучения модели составляет 5.63 ms. Посмотрим на значения основных метрик."
   ]
  },
  {
   "cell_type": "code",
   "execution_count": 49,
   "metadata": {},
   "outputs": [
    {
     "name": "stdout",
     "output_type": "stream",
     "text": [
      "Recall: 0.688 \n",
      "Precision: 0.375 \n",
      "F1-мера: 0.486 \n",
      "AUC-ROC: 0.759\n"
     ]
    },
    {
     "data": {
      "image/png": "[encoded data removed]",
      "text/plain": [
       "<Figure size 432x288 with 1 Axes>"
      ]
     },
     "metadata": {
      "needs_background": "light"
     },
     "output_type": "display_data"
    }
   ],
   "source": [
    "f1_auc_roc_score(model_logistic_balance,valid_features,valid_target)"
   ]
  },
  {
   "cell_type": "markdown",
   "metadata": {},
   "source": [
    "**Наблюдается высокий рост F1-меры  <font color='red'>с 0.293 до 0.486</font>, при этом значение AUC-ROC незначительно изменилось <font color='red'>с 0.754 до 0.759</font>.**\n",
    "До взвешивания классов модель обладала средней точностью, но низкой полнотой, то теперь наоборот -  низкой точностью (Precision - 0.375) и средней полнотой (Recall - 0.688). \n",
    "\n",
    "Добавим результат в сводную таблицу."
   ]
  },
  {
   "cell_type": "code",
   "execution_count": 50,
   "metadata": {},
   "outputs": [],
   "source": [
    "result = result.append({\"Model\": \"Logistic Regression Balance\", \n",
    "                       \"Recall\": 0.688, \n",
    "                       \"Precision\": 0.375,\n",
    "                       \"F1-мера\": 0.486,\n",
    "                       \"AUC-ROC\": 0.759,\n",
    "                       \"Time GridSearchCV\": \"-\",\n",
    "                       \"Time train\": \"5.63 ms\"},\n",
    "                       ignore_index=True)\n",
    "\n"
   ]
  },
  {
   "cell_type": "markdown",
   "metadata": {},
   "source": [
    "Построим модель с помощью **CatBoostClassifier**."
   ]
  },
  {
   "cell_type": "code",
   "execution_count": 51,
   "metadata": {},
   "outputs": [
    {
     "name": "stdout",
     "output_type": "stream",
     "text": [
      "Learning rate set to 0.09418\n",
      "0:\tlearn: 0.6400832\ttest: 0.6397591\tbest: 0.6397591 (0)\ttotal: 5.67ms\tremaining: 5.67s\n",
      "100:\tlearn: 0.3470247\ttest: 0.4313242\tbest: 0.4257137 (56)\ttotal: 2.7s\tremaining: 24s\n",
      "200:\tlearn: 0.2829402\ttest: 0.4445129\tbest: 0.4257137 (56)\ttotal: 5.35s\tremaining: 21.3s\n",
      "300:\tlearn: 0.2371264\ttest: 0.4600206\tbest: 0.4257137 (56)\ttotal: 8.37s\tremaining: 19.4s\n",
      "400:\tlearn: 0.2001829\ttest: 0.4759926\tbest: 0.4257137 (56)\ttotal: 10.9s\tremaining: 16.3s\n",
      "500:\tlearn: 0.1716689\ttest: 0.4937743\tbest: 0.4257137 (56)\ttotal: 13.6s\tremaining: 13.5s\n",
      "600:\tlearn: 0.1486084\ttest: 0.5083529\tbest: 0.4257137 (56)\ttotal: 16.3s\tremaining: 10.8s\n",
      "700:\tlearn: 0.1286951\ttest: 0.5234302\tbest: 0.4257137 (56)\ttotal: 18.9s\tremaining: 8.07s\n",
      "800:\tlearn: 0.1118105\ttest: 0.5387482\tbest: 0.4257137 (56)\ttotal: 21.5s\tremaining: 5.33s\n",
      "900:\tlearn: 0.0979126\ttest: 0.5510781\tbest: 0.4257137 (56)\ttotal: 24.3s\tremaining: 2.67s\n",
      "999:\tlearn: 0.0856444\ttest: 0.5684396\tbest: 0.4257137 (56)\ttotal: 26.8s\tremaining: 0us\n",
      "\n",
      "bestTest = 0.4257137006\n",
      "bestIteration = 56\n",
      "\n",
      "Shrink model to first 57 iterations.\n",
      "CPU times: user 24.8 s, sys: 2.54 s, total: 27.3 s\n",
      "Wall time: 29.6 s\n"
     ]
    },
    {
     "data": {
      "text/plain": [
       "<catboost.core.CatBoostClassifier at 0x7fe21b8052d0>"
      ]
     },
     "execution_count": 51,
     "metadata": {},
     "output_type": "execute_result"
    }
   ],
   "source": [
    "%%time\n",
    "model_cat_boost_balance = CatBoostClassifier(verbose=100, class_weights=[0.3, 0.7])\n",
    "\n",
    "model_cat_boost_balance.fit(train_features, train_target, \n",
    "                    eval_set=(valid_features, valid_target))\n"
   ]
  },
  {
   "cell_type": "markdown",
   "metadata": {},
   "source": [
    "Время обучения модели составляет 2.5 s. Посмотрим на значения основных метрик."
   ]
  },
  {
   "cell_type": "code",
   "execution_count": 52,
   "metadata": {},
   "outputs": [
    {
     "name": "stdout",
     "output_type": "stream",
     "text": [
      "Recall: 0.627 \n",
      "Precision: 0.625 \n",
      "F1-мера: 0.626 \n",
      "AUC-ROC: 0.869\n"
     ]
    },
    {
     "data": {
      "image/png": "[encoded data removed]",
      "text/plain": [
       "<Figure size 432x288 with 1 Axes>"
      ]
     },
     "metadata": {
      "needs_background": "light"
     },
     "output_type": "display_data"
    }
   ],
   "source": [
    "f1_auc_roc_score(model_cat_boost_balance,valid_features,valid_target)"
   ]
  },
  {
   "cell_type": "markdown",
   "metadata": {},
   "source": [
    "У модели **CatBoostClassifier** снова самые высокие показатели.\n",
    "**Наблюдается рост F1-меры  <font color='red'>с 0.605 до 0.630</font>, при этом значение AUC-ROC незначительно снизилось <font color='red'>с 0.872 до 0.869</font>.**\n",
    "После взвешивания классов модель стала более сбалансирована по точности (Precision - 0.626) и полноте (Recall - 0.634). \n",
    "\n",
    "Добавим результат в сводную таблицу."
   ]
  },
  {
   "cell_type": "code",
   "execution_count": 53,
   "metadata": {
    "scrolled": true
   },
   "outputs": [],
   "source": [
    "result = result.append({\"Model\": \"CatBoost Balance\", \n",
    "                       \"Recall\": 0.634, \n",
    "                       \"Precision\": 0.626,\n",
    "                       \"F1-мера\": 0.630,\n",
    "                       \"AUC-ROC\": 0.869,\n",
    "                       \"Time GridSearchCV\": \"-\",\n",
    "                       \"Time train\": \"2.5 s\"},\n",
    "                       ignore_index=True)\n",
    "\n"
   ]
  },
  {
   "cell_type": "code",
   "execution_count": 54,
   "metadata": {},
   "outputs": [
    {
     "data": {
      "text/html": [
       "<div>\n",
       "<style scoped>\n",
       "    .dataframe tbody tr th:only-of-type {\n",
       "        vertical-align: middle;\n",
       "    }\n",
       "\n",
       "    .dataframe tbody tr th {\n",
       "        vertical-align: top;\n",
       "    }\n",
       "\n",
       "    .dataframe thead th {\n",
       "        text-align: right;\n",
       "    }\n",
       "</style>\n",
       "<table border=\"1\" class=\"dataframe\">\n",
       "  <thead>\n",
       "    <tr style=\"text-align: right;\">\n",
       "      <th></th>\n",
       "      <th>Model</th>\n",
       "      <th>Recall</th>\n",
       "      <th>Precision</th>\n",
       "      <th>F1-мера</th>\n",
       "      <th>AUC-ROC</th>\n",
       "      <th>Time GridSearchCV</th>\n",
       "      <th>Time train</th>\n",
       "    </tr>\n",
       "  </thead>\n",
       "  <tbody>\n",
       "    <tr>\n",
       "      <td>7</td>\n",
       "      <td>CatBoost Balance</td>\n",
       "      <td>0.634</td>\n",
       "      <td>0.626</td>\n",
       "      <td>0.630</td>\n",
       "      <td>0.869</td>\n",
       "      <td>-</td>\n",
       "      <td>2.5 s</td>\n",
       "    </tr>\n",
       "    <tr>\n",
       "      <td>3</td>\n",
       "      <td>CatBoost</td>\n",
       "      <td>0.494</td>\n",
       "      <td>0.779</td>\n",
       "      <td>0.605</td>\n",
       "      <td>0.872</td>\n",
       "      <td>-</td>\n",
       "      <td>2.38 s</td>\n",
       "    </tr>\n",
       "    <tr>\n",
       "      <td>5</td>\n",
       "      <td>Random Forest Balance</td>\n",
       "      <td>0.686</td>\n",
       "      <td>0.534</td>\n",
       "      <td>0.601</td>\n",
       "      <td>0.857</td>\n",
       "      <td>3min 32s</td>\n",
       "      <td>199 ms</td>\n",
       "    </tr>\n",
       "    <tr>\n",
       "      <td>1</td>\n",
       "      <td>Random Forest</td>\n",
       "      <td>0.474</td>\n",
       "      <td>0.769</td>\n",
       "      <td>0.587</td>\n",
       "      <td>0.852</td>\n",
       "      <td>3min 21s</td>\n",
       "      <td>276 ms</td>\n",
       "    </tr>\n",
       "    <tr>\n",
       "      <td>4</td>\n",
       "      <td>Decision Tree Balance</td>\n",
       "      <td>0.764</td>\n",
       "      <td>0.475</td>\n",
       "      <td>0.586</td>\n",
       "      <td>0.853</td>\n",
       "      <td>18.1 s</td>\n",
       "      <td>30.8 ms</td>\n",
       "    </tr>\n",
       "    <tr>\n",
       "      <td>0</td>\n",
       "      <td>Decision Tree</td>\n",
       "      <td>0.469</td>\n",
       "      <td>0.729</td>\n",
       "      <td>0.571</td>\n",
       "      <td>0.853</td>\n",
       "      <td>14.5 s</td>\n",
       "      <td>12.4 ms</td>\n",
       "    </tr>\n",
       "    <tr>\n",
       "      <td>6</td>\n",
       "      <td>Logistic Regression Balance</td>\n",
       "      <td>0.688</td>\n",
       "      <td>0.375</td>\n",
       "      <td>0.486</td>\n",
       "      <td>0.759</td>\n",
       "      <td>-</td>\n",
       "      <td>5.63 ms</td>\n",
       "    </tr>\n",
       "    <tr>\n",
       "      <td>2</td>\n",
       "      <td>Logistic Regression</td>\n",
       "      <td>0.204</td>\n",
       "      <td>0.519</td>\n",
       "      <td>0.293</td>\n",
       "      <td>0.754</td>\n",
       "      <td>-</td>\n",
       "      <td>5.64 ms</td>\n",
       "    </tr>\n",
       "  </tbody>\n",
       "</table>\n",
       "</div>"
      ],
      "text/plain": [
       "                         Model  Recall  Precision  F1-мера  AUC-ROC  \\\n",
       "7             CatBoost Balance   0.634      0.626    0.630    0.869   \n",
       "3                     CatBoost   0.494      0.779    0.605    0.872   \n",
       "5        Random Forest Balance   0.686      0.534    0.601    0.857   \n",
       "1                Random Forest   0.474      0.769    0.587    0.852   \n",
       "4        Decision Tree Balance   0.764      0.475    0.586    0.853   \n",
       "0                Decision Tree   0.469      0.729    0.571    0.853   \n",
       "6  Logistic Regression Balance   0.688      0.375    0.486    0.759   \n",
       "2          Logistic Regression   0.204      0.519    0.293    0.754   \n",
       "\n",
       "  Time GridSearchCV Time train  \n",
       "7                 -      2.5 s  \n",
       "3                 -     2.38 s  \n",
       "5          3min 32s     199 ms  \n",
       "1          3min 21s     276 ms  \n",
       "4            18.1 s    30.8 ms  \n",
       "0            14.5 s    12.4 ms  \n",
       "6                 -    5.63 ms  \n",
       "2                 -    5.64 ms  "
      ]
     },
     "execution_count": 54,
     "metadata": {},
     "output_type": "execute_result"
    }
   ],
   "source": [
    "result.sort_values(by='F1-мера', ascending=False)"
   ]
  },
  {
   "cell_type": "markdown",
   "metadata": {},
   "source": [
    "При моделировании со взвешиванием классов лучшая модель по всем метрикам остается - **CatBoost**, далее идет **CatBoost** без взвешивания и **\"Случайный лес\"** со взвешиванием. Все три модели имеют значение F1-меры выше 0.6, но модель случайного леса требует много времени на подбор параметров."
   ]
  },
  {
   "cell_type": "markdown",
   "metadata": {},
   "source": [
    "### Техника upsampling"
   ]
  },
  {
   "cell_type": "markdown",
   "metadata": {},
   "source": [
    "Еще раз посмотрим на соотношение классов в обучающей выборке."
   ]
  },
  {
   "cell_type": "code",
   "execution_count": 55,
   "metadata": {},
   "outputs": [
    {
     "name": "stdout",
     "output_type": "stream",
     "text": [
      "(6000, 11)\n",
      "(6000,)\n"
     ]
    },
    {
     "data": {
      "text/html": [
       "<div>\n",
       "<style scoped>\n",
       "    .dataframe tbody tr th:only-of-type {\n",
       "        vertical-align: middle;\n",
       "    }\n",
       "\n",
       "    .dataframe tbody tr th {\n",
       "        vertical-align: top;\n",
       "    }\n",
       "\n",
       "    .dataframe thead th {\n",
       "        text-align: right;\n",
       "    }\n",
       "</style>\n",
       "<table border=\"1\" class=\"dataframe\">\n",
       "  <thead>\n",
       "    <tr style=\"text-align: right;\">\n",
       "      <th></th>\n",
       "      <th></th>\n",
       "      <th>exited</th>\n",
       "    </tr>\n",
       "    <tr>\n",
       "      <th>exited</th>\n",
       "      <th>exited</th>\n",
       "      <th></th>\n",
       "    </tr>\n",
       "  </thead>\n",
       "  <tbody>\n",
       "    <tr>\n",
       "      <th>0</th>\n",
       "      <th>0</th>\n",
       "      <td>4777</td>\n",
       "    </tr>\n",
       "    <tr>\n",
       "      <th>1</th>\n",
       "      <th>1</th>\n",
       "      <td>1223</td>\n",
       "    </tr>\n",
       "  </tbody>\n",
       "</table>\n",
       "</div>"
      ],
      "text/plain": [
       "               exited\n",
       "exited exited        \n",
       "0      0         4777\n",
       "1      1         1223"
      ]
     },
     "execution_count": 55,
     "metadata": {},
     "output_type": "execute_result"
    }
   ],
   "source": [
    "print(train_features.shape)\n",
    "print(train_target.shape)\n",
    "train.groupby('exited')['exited'].value_counts().to_frame()"
   ]
  },
  {
   "cell_type": "markdown",
   "metadata": {},
   "source": [
    "Класс 1 (ушедшие клиенты) представлен меньшим количеством объектов."
   ]
  },
  {
   "cell_type": "code",
   "execution_count": 56,
   "metadata": {},
   "outputs": [
    {
     "name": "stdout",
     "output_type": "stream",
     "text": [
      "Увеличить класс 1 в 4 раз\n"
     ]
    }
   ],
   "source": [
    "print('Увеличить класс 1 в {:.0f} раз'.format(4777/1223))"
   ]
  },
  {
   "cell_type": "markdown",
   "metadata": {},
   "source": [
    "Чтобы сбалансировать классы, необходимо увеличить класс 1 в 4 раза. \n",
    "Напишем функцию, которая сбалансирует классы путем увеличения их числа."
   ]
  },
  {
   "cell_type": "code",
   "execution_count": 57,
   "metadata": {},
   "outputs": [],
   "source": [
    "def upsample(features, target, repeat):\n",
    "    '''Возвращает сбалансированные классы, скопировав несколько раз и перемешав объекты меньшего класса'''\n",
    "    features_zeros = features[target == 0]\n",
    "    features_ones = features[target == 1]\n",
    "    target_zeros = target[target == 0]\n",
    "    target_ones = target[target == 1]\n",
    "\n",
    "    features_upsampled = pd.concat([features_zeros] + [features_ones] * repeat)\n",
    "    target_upsampled = pd.concat([target_zeros] + [target_ones] * repeat)\n",
    "    \n",
    "    return shuffle(features_upsampled, target_upsampled, random_state=13)\n",
    "\n"
   ]
  },
  {
   "cell_type": "markdown",
   "metadata": {},
   "source": [
    "Сбалансируем классы обучающей выборки."
   ]
  },
  {
   "cell_type": "code",
   "execution_count": 58,
   "metadata": {},
   "outputs": [
    {
     "name": "stdout",
     "output_type": "stream",
     "text": [
      "(9669, 11)\n",
      "(9669,)\n"
     ]
    },
    {
     "data": {
      "text/html": [
       "<div>\n",
       "<style scoped>\n",
       "    .dataframe tbody tr th:only-of-type {\n",
       "        vertical-align: middle;\n",
       "    }\n",
       "\n",
       "    .dataframe tbody tr th {\n",
       "        vertical-align: top;\n",
       "    }\n",
       "\n",
       "    .dataframe thead th {\n",
       "        text-align: right;\n",
       "    }\n",
       "</style>\n",
       "<table border=\"1\" class=\"dataframe\">\n",
       "  <thead>\n",
       "    <tr style=\"text-align: right;\">\n",
       "      <th></th>\n",
       "      <th>exited</th>\n",
       "    </tr>\n",
       "  </thead>\n",
       "  <tbody>\n",
       "    <tr>\n",
       "      <th>1</th>\n",
       "      <td>4892</td>\n",
       "    </tr>\n",
       "    <tr>\n",
       "      <th>0</th>\n",
       "      <td>4777</td>\n",
       "    </tr>\n",
       "  </tbody>\n",
       "</table>\n",
       "</div>"
      ],
      "text/plain": [
       "   exited\n",
       "1    4892\n",
       "0    4777"
      ]
     },
     "execution_count": 58,
     "metadata": {},
     "output_type": "execute_result"
    }
   ],
   "source": [
    "train_features_upsampled, train_target_upsampled = upsample(train_features, train_target, 4)\n",
    "\n",
    "print(train_features_upsampled.shape)\n",
    "print(train_target_upsampled.shape)\n",
    "train_target_upsampled.value_counts().to_frame()"
   ]
  },
  {
   "cell_type": "markdown",
   "metadata": {},
   "source": [
    "Классы сбалансированы. Перейдем к обучению моделей."
   ]
  },
  {
   "cell_type": "markdown",
   "metadata": {},
   "source": [
    "Начнем с **Дерева решений**. Подберем гиперпараметры с помощью метода `GridSearchCV`."
   ]
  },
  {
   "cell_type": "code",
   "execution_count": 59,
   "metadata": {},
   "outputs": [],
   "source": [
    "model_tree_upsampled = DecisionTreeClassifier(random_state=13)\n",
    "\n",
    "#формирует гиперпараметры и их значения для перебора в функции GridSearchCV\n",
    "param_grid_tree_upsampled = { \n",
    "    'max_depth' : [19,20,21,22,23,24,25],\n",
    "    'criterion': ['gini', 'entropy'],\n",
    "    'min_samples_split': [2,3,4],\n",
    "    'min_samples_leaf': [2,3,4]\n",
    "    \n",
    "}"
   ]
  },
  {
   "cell_type": "code",
   "execution_count": 60,
   "metadata": {},
   "outputs": [
    {
     "name": "stdout",
     "output_type": "stream",
     "text": [
      "Лучшее значение f1-меры: 0.911 \n",
      "Значения гиперпараметров:\n",
      "{'criterion': 'entropy', 'max_depth': 22, 'min_samples_leaf': 2, 'min_samples_split': 2}\n",
      "CPU times: user 15.3 s, sys: 48.4 ms, total: 15.3 s\n",
      "Wall time: 15.3 s\n"
     ]
    }
   ],
   "source": [
    "%%time\n",
    "grid_param(model_tree_upsampled,param_grid_tree_upsampled,train_features_upsampled,train_target_upsampled)"
   ]
  },
  {
   "cell_type": "markdown",
   "metadata": {},
   "source": [
    "Сохраним модель с наилучшими параметрами:\n",
    "- максимальная глубина дерева равна 22,\n",
    "- критерий разделения - \"entropy\",\n",
    "- минимальное число объектов в узле дерева - 2,\n",
    "- минимальное число объектов в листьях дерева - 2. \n"
   ]
  },
  {
   "cell_type": "code",
   "execution_count": 61,
   "metadata": {
    "scrolled": true
   },
   "outputs": [
    {
     "name": "stdout",
     "output_type": "stream",
     "text": [
      "CPU times: user 30.8 ms, sys: 611 µs, total: 31.4 ms\n",
      "Wall time: 30.7 ms\n"
     ]
    },
    {
     "data": {
      "text/plain": [
       "DecisionTreeClassifier(criterion='entropy', max_depth=22, min_samples_leaf=2,\n",
       "                       random_state=13)"
      ]
     },
     "execution_count": 61,
     "metadata": {},
     "output_type": "execute_result"
    }
   ],
   "source": [
    "%%time\n",
    "model_tree_upsampled = DecisionTreeClassifier(random_state=13,\n",
    "                                            max_depth=22,\n",
    "                                            criterion = 'entropy',\n",
    "                                            min_samples_split=2,\n",
    "                                            min_samples_leaf=2)\n",
    "\n",
    "model_tree_upsampled.fit(train_features_upsampled, train_target_upsampled)"
   ]
  },
  {
   "cell_type": "markdown",
   "metadata": {},
   "source": [
    "Решающее дерево обучилось за 30.1 ms.\n",
    "Посчитаем f1-меру, AUC_ROC и построим ROC-кривую."
   ]
  },
  {
   "cell_type": "code",
   "execution_count": 62,
   "metadata": {},
   "outputs": [
    {
     "name": "stdout",
     "output_type": "stream",
     "text": [
      "Recall: 0.572 \n",
      "Precision: 0.512 \n",
      "F1-мера: 0.541 \n",
      "AUC-ROC: 0.723\n"
     ]
    },
    {
     "data": {
      "image/png": "[encoded data removed]",
      "text/plain": [
       "<Figure size 432x288 with 1 Axes>"
      ]
     },
     "metadata": {
      "needs_background": "light"
     },
     "output_type": "display_data"
    }
   ],
   "source": [
    "f1_auc_roc_score(model_tree_upsampled,valid_features,valid_target)"
   ]
  },
  {
   "cell_type": "markdown",
   "metadata": {},
   "source": [
    "При сбалансировании классов техникой **Upsampling** для модели **\"Дерева решений\" наблюдается самые низкие значения F1-меры  <font color='red'>0.541</font> и AUC-ROC <font color='red'>0.723</font>.**, но при этом точность(Precision - 0.512) и полнота (Recall - 0.572) модели сбалансированы.\n",
    "\n",
    "Добавим результат в сводную таблицу."
   ]
  },
  {
   "cell_type": "code",
   "execution_count": 63,
   "metadata": {},
   "outputs": [
    {
     "data": {
      "text/html": [
       "<div>\n",
       "<style scoped>\n",
       "    .dataframe tbody tr th:only-of-type {\n",
       "        vertical-align: middle;\n",
       "    }\n",
       "\n",
       "    .dataframe tbody tr th {\n",
       "        vertical-align: top;\n",
       "    }\n",
       "\n",
       "    .dataframe thead th {\n",
       "        text-align: right;\n",
       "    }\n",
       "</style>\n",
       "<table border=\"1\" class=\"dataframe\">\n",
       "  <thead>\n",
       "    <tr style=\"text-align: right;\">\n",
       "      <th></th>\n",
       "      <th>Model</th>\n",
       "      <th>Recall</th>\n",
       "      <th>Precision</th>\n",
       "      <th>F1-мера</th>\n",
       "      <th>AUC-ROC</th>\n",
       "      <th>Time GridSearchCV</th>\n",
       "      <th>Time train</th>\n",
       "    </tr>\n",
       "  </thead>\n",
       "  <tbody>\n",
       "    <tr>\n",
       "      <th>0</th>\n",
       "      <td>Decision Tree</td>\n",
       "      <td>0.469</td>\n",
       "      <td>0.729</td>\n",
       "      <td>0.571</td>\n",
       "      <td>0.853</td>\n",
       "      <td>14.5 s</td>\n",
       "      <td>12.4 ms</td>\n",
       "    </tr>\n",
       "    <tr>\n",
       "      <th>1</th>\n",
       "      <td>Random Forest</td>\n",
       "      <td>0.474</td>\n",
       "      <td>0.769</td>\n",
       "      <td>0.587</td>\n",
       "      <td>0.852</td>\n",
       "      <td>3min 21s</td>\n",
       "      <td>276 ms</td>\n",
       "    </tr>\n",
       "    <tr>\n",
       "      <th>2</th>\n",
       "      <td>Logistic Regression</td>\n",
       "      <td>0.204</td>\n",
       "      <td>0.519</td>\n",
       "      <td>0.293</td>\n",
       "      <td>0.754</td>\n",
       "      <td>-</td>\n",
       "      <td>5.64 ms</td>\n",
       "    </tr>\n",
       "    <tr>\n",
       "      <th>3</th>\n",
       "      <td>CatBoost</td>\n",
       "      <td>0.494</td>\n",
       "      <td>0.779</td>\n",
       "      <td>0.605</td>\n",
       "      <td>0.872</td>\n",
       "      <td>-</td>\n",
       "      <td>2.38 s</td>\n",
       "    </tr>\n",
       "    <tr>\n",
       "      <th>4</th>\n",
       "      <td>Decision Tree Balance</td>\n",
       "      <td>0.764</td>\n",
       "      <td>0.475</td>\n",
       "      <td>0.586</td>\n",
       "      <td>0.853</td>\n",
       "      <td>18.1 s</td>\n",
       "      <td>30.8 ms</td>\n",
       "    </tr>\n",
       "    <tr>\n",
       "      <th>5</th>\n",
       "      <td>Random Forest Balance</td>\n",
       "      <td>0.686</td>\n",
       "      <td>0.534</td>\n",
       "      <td>0.601</td>\n",
       "      <td>0.857</td>\n",
       "      <td>3min 32s</td>\n",
       "      <td>199 ms</td>\n",
       "    </tr>\n",
       "    <tr>\n",
       "      <th>6</th>\n",
       "      <td>Logistic Regression Balance</td>\n",
       "      <td>0.688</td>\n",
       "      <td>0.375</td>\n",
       "      <td>0.486</td>\n",
       "      <td>0.759</td>\n",
       "      <td>-</td>\n",
       "      <td>5.63 ms</td>\n",
       "    </tr>\n",
       "    <tr>\n",
       "      <th>7</th>\n",
       "      <td>CatBoost Balance</td>\n",
       "      <td>0.634</td>\n",
       "      <td>0.626</td>\n",
       "      <td>0.630</td>\n",
       "      <td>0.869</td>\n",
       "      <td>-</td>\n",
       "      <td>2.5 s</td>\n",
       "    </tr>\n",
       "    <tr>\n",
       "      <th>8</th>\n",
       "      <td>Decision Tree Upsampled</td>\n",
       "      <td>0.572</td>\n",
       "      <td>0.512</td>\n",
       "      <td>0.541</td>\n",
       "      <td>0.723</td>\n",
       "      <td>53.9 s</td>\n",
       "      <td>30.1 ms ms</td>\n",
       "    </tr>\n",
       "  </tbody>\n",
       "</table>\n",
       "</div>"
      ],
      "text/plain": [
       "                         Model  Recall  Precision  F1-мера  AUC-ROC  \\\n",
       "0                Decision Tree   0.469      0.729    0.571    0.853   \n",
       "1                Random Forest   0.474      0.769    0.587    0.852   \n",
       "2          Logistic Regression   0.204      0.519    0.293    0.754   \n",
       "3                     CatBoost   0.494      0.779    0.605    0.872   \n",
       "4        Decision Tree Balance   0.764      0.475    0.586    0.853   \n",
       "5        Random Forest Balance   0.686      0.534    0.601    0.857   \n",
       "6  Logistic Regression Balance   0.688      0.375    0.486    0.759   \n",
       "7             CatBoost Balance   0.634      0.626    0.630    0.869   \n",
       "8      Decision Tree Upsampled   0.572      0.512    0.541    0.723   \n",
       "\n",
       "  Time GridSearchCV  Time train  \n",
       "0            14.5 s     12.4 ms  \n",
       "1          3min 21s      276 ms  \n",
       "2                 -     5.64 ms  \n",
       "3                 -      2.38 s  \n",
       "4            18.1 s     30.8 ms  \n",
       "5          3min 32s      199 ms  \n",
       "6                 -     5.63 ms  \n",
       "7                 -       2.5 s  \n",
       "8            53.9 s  30.1 ms ms  "
      ]
     },
     "execution_count": 63,
     "metadata": {},
     "output_type": "execute_result"
    }
   ],
   "source": [
    "result = result.append({\"Model\": \"Decision Tree Upsampled\", \n",
    "                       \"Recall\": 0.572, \n",
    "                       \"Precision\": 0.512,\n",
    "                       \"F1-мера\": 0.541,\n",
    "                       \"AUC-ROC\": 0.723,\n",
    "                       \"Time GridSearchCV\": \"53.9 s\",\n",
    "                       \"Time train\": \"30.1 ms ms\"},\n",
    "                       ignore_index=True)\n",
    "\n",
    "result"
   ]
  },
  {
   "cell_type": "markdown",
   "metadata": {},
   "source": [
    "Теперь перейдем к модели **\"Случайный лес\"**. "
   ]
  },
  {
   "cell_type": "code",
   "execution_count": 64,
   "metadata": {},
   "outputs": [],
   "source": [
    "model_forest_upsampled = RandomForestClassifier(random_state=13) \n",
    "\n",
    "#формирует гиперпараметры и их значения для перебора в функции GridSearchCV\n",
    "param_grid_forest_upsampled = { \n",
    "    'n_estimators': [10,20,30,40,50],\n",
    "    'max_depth' : [18,19,20,21,22],\n",
    "    'criterion': ['gini', 'entropy']\n",
    "    \n",
    "}"
   ]
  },
  {
   "cell_type": "markdown",
   "metadata": {},
   "source": [
    "Подберем гиперпараметры."
   ]
  },
  {
   "cell_type": "code",
   "execution_count": 65,
   "metadata": {},
   "outputs": [
    {
     "name": "stdout",
     "output_type": "stream",
     "text": [
      "Лучшее значение f1-меры: 0.961 \n",
      "Значения гиперпараметров:\n",
      "{'criterion': 'gini', 'max_depth': 20, 'n_estimators': 20}\n",
      "CPU times: user 48.3 s, sys: 239 ms, total: 48.5 s\n",
      "Wall time: 48.6 s\n"
     ]
    }
   ],
   "source": [
    "%%time\n",
    "grid_param(model_forest_upsampled,param_grid_forest_upsampled,train_features_upsampled, train_target_upsampled)"
   ]
  },
  {
   "cell_type": "markdown",
   "metadata": {},
   "source": [
    "Построим модель на основании полученных гиперпараметров:\n",
    "- максимальная глубина дерева равна 20,\n",
    "- критерий разделения - \"gini\",\n",
    "- количество деревьев в лесу - 20."
   ]
  },
  {
   "cell_type": "code",
   "execution_count": 66,
   "metadata": {},
   "outputs": [
    {
     "name": "stdout",
     "output_type": "stream",
     "text": [
      "CPU times: user 142 ms, sys: 997 µs, total: 143 ms\n",
      "Wall time: 142 ms\n"
     ]
    },
    {
     "data": {
      "text/plain": [
       "RandomForestClassifier(max_depth=20, n_estimators=20, random_state=13)"
      ]
     },
     "execution_count": 66,
     "metadata": {},
     "output_type": "execute_result"
    }
   ],
   "source": [
    "%%time\n",
    "model_forest_upsampled = RandomForestClassifier(random_state=13,\n",
    "                                              n_estimators=20, \n",
    "                                              max_depth=20, \n",
    "                                              criterion='gini') \n",
    "\n",
    "model_forest_upsampled.fit(train_features_upsampled, train_target_upsampled)"
   ]
  },
  {
   "cell_type": "markdown",
   "metadata": {},
   "source": [
    "Время обучения модели составляет 141 ms. Посмотрим на значения основных метрик."
   ]
  },
  {
   "cell_type": "code",
   "execution_count": 67,
   "metadata": {},
   "outputs": [
    {
     "name": "stdout",
     "output_type": "stream",
     "text": [
      "Recall: 0.543 \n",
      "Precision: 0.686 \n",
      "F1-мера: 0.606 \n",
      "AUC-ROC: 0.840\n"
     ]
    },
    {
     "data": {
      "image/png": "[encoded data removed]",
      "text/plain": [
       "<Figure size 432x288 with 1 Axes>"
      ]
     },
     "metadata": {
      "needs_background": "light"
     },
     "output_type": "display_data"
    }
   ],
   "source": [
    "f1_auc_roc_score(model_forest_upsampled,valid_features,valid_target)"
   ]
  },
  {
   "cell_type": "markdown",
   "metadata": {},
   "source": [
    "**Модель случайного леса при использовании техники \"Upsampled\" показала наилучший результат. Значение F1-меры равно <font color='red'>0.606</font>, AUC-ROC - <font color='red'>0.840</font>.**\n",
    "\n",
    "Добавим результат в сводную таблицу."
   ]
  },
  {
   "cell_type": "code",
   "execution_count": 68,
   "metadata": {
    "scrolled": false
   },
   "outputs": [],
   "source": [
    "result = result.append({\"Model\": \"Random Forest Upsampled\", \n",
    "                       \"Recall\": 0.543, \n",
    "                       \"Precision\": 0.686,\n",
    "                       \"F1-мера\": 0.606,\n",
    "                       \"AUC-ROC\": 0.840,\n",
    "                       \"Time GridSearchCV\": \"5min 36s\",\n",
    "                       \"Time train\": \"141 ms\"},\n",
    "                       ignore_index=True)\n",
    "\n"
   ]
  },
  {
   "cell_type": "markdown",
   "metadata": {},
   "source": [
    "Теперь перейдем к модели **\"Логистическая регрессия\"**."
   ]
  },
  {
   "cell_type": "code",
   "execution_count": 69,
   "metadata": {},
   "outputs": [
    {
     "name": "stdout",
     "output_type": "stream",
     "text": [
      "CPU times: user 8.84 ms, sys: 849 µs, total: 9.69 ms\n",
      "Wall time: 8.84 ms\n"
     ]
    },
    {
     "data": {
      "text/plain": [
       "LogisticRegression(random_state=13, solver='liblinear')"
      ]
     },
     "execution_count": 69,
     "metadata": {},
     "output_type": "execute_result"
    }
   ],
   "source": [
    "%%time\n",
    "model_logistic_upsampled = LogisticRegression(random_state=13, solver='liblinear') \n",
    "model_logistic_upsampled.fit(train_features_upsampled, train_target_upsampled)\n"
   ]
  },
  {
   "cell_type": "markdown",
   "metadata": {},
   "source": [
    "Время обучения модели составляет 8.22 ms. Посмотрим на значения основных метрик."
   ]
  },
  {
   "cell_type": "code",
   "execution_count": 70,
   "metadata": {},
   "outputs": [
    {
     "name": "stdout",
     "output_type": "stream",
     "text": [
      "Recall: 0.695 \n",
      "Precision: 0.373 \n",
      "F1-мера: 0.486 \n",
      "AUC-ROC: 0.759\n"
     ]
    },
    {
     "data": {
      "image/png": "[encoded data removed]",
      "text/plain": [
       "<Figure size 432x288 with 1 Axes>"
      ]
     },
     "metadata": {
      "needs_background": "light"
     },
     "output_type": "display_data"
    }
   ],
   "source": [
    "f1_auc_roc_score(model_logistic_upsampled,valid_features,valid_target)"
   ]
  },
  {
   "cell_type": "markdown",
   "metadata": {},
   "source": [
    "**Логистическая модель при использовании техники \"Upsampled\" для сбалансирования классов получила такие же метрики, как и при использовании \"Взвешивания классов\".**\n",
    "\n",
    "Добавим результат в сводную таблицу."
   ]
  },
  {
   "cell_type": "code",
   "execution_count": 71,
   "metadata": {},
   "outputs": [],
   "source": [
    "result = result.append({\"Model\": \"Logistic Regression Upsampled\", \n",
    "                       \"Recall\": 0.695, \n",
    "                       \"Precision\": 0.373,\n",
    "                       \"F1-мера\": 0.486,\n",
    "                       \"AUC-ROC\": 0.759,\n",
    "                       \"Time GridSearchCV\": \"-\",\n",
    "                       \"Time train\": \"8.22 ms\"},\n",
    "                       ignore_index=True)\n",
    "\n"
   ]
  },
  {
   "cell_type": "markdown",
   "metadata": {},
   "source": [
    "Построим модель с помощью **CatBoostClassifier**."
   ]
  },
  {
   "cell_type": "code",
   "execution_count": 72,
   "metadata": {},
   "outputs": [
    {
     "name": "stdout",
     "output_type": "stream",
     "text": [
      "Learning rate set to 0.055501\n",
      "0:\tlearn: 0.6631465\ttest: 0.6661554\tbest: 0.6661554 (0)\ttotal: 2.78ms\tremaining: 2.77s\n",
      "100:\tlearn: 0.3918753\ttest: 0.4359469\tbest: 0.4359469 (100)\ttotal: 319ms\tremaining: 2.84s\n",
      "200:\tlearn: 0.3411751\ttest: 0.4226385\tbest: 0.4226385 (200)\ttotal: 652ms\tremaining: 2.59s\n",
      "300:\tlearn: 0.2962241\ttest: 0.4137564\tbest: 0.4136879 (298)\ttotal: 1.01s\tremaining: 2.34s\n",
      "400:\tlearn: 0.2606951\ttest: 0.4071819\tbest: 0.4071819 (400)\ttotal: 1.39s\tremaining: 2.08s\n",
      "500:\tlearn: 0.2337305\ttest: 0.4050697\tbest: 0.4050031 (498)\ttotal: 1.73s\tremaining: 1.72s\n",
      "600:\tlearn: 0.2094443\ttest: 0.4027446\tbest: 0.4025860 (586)\ttotal: 2.06s\tremaining: 1.37s\n",
      "700:\tlearn: 0.1890920\ttest: 0.4013363\tbest: 0.4010385 (643)\ttotal: 2.39s\tremaining: 1.02s\n",
      "800:\tlearn: 0.1713557\ttest: 0.4010754\tbest: 0.4002219 (720)\ttotal: 2.73s\tremaining: 679ms\n",
      "900:\tlearn: 0.1554068\ttest: 0.3999765\tbest: 0.3997875 (887)\ttotal: 3.08s\tremaining: 338ms\n",
      "999:\tlearn: 0.1407709\ttest: 0.4001244\tbest: 0.3993678 (931)\ttotal: 3.41s\tremaining: 0us\n",
      "\n",
      "bestTest = 0.3993678464\n",
      "bestIteration = 931\n",
      "\n",
      "Shrink model to first 932 iterations.\n",
      "CPU times: user 4.27 s, sys: 1.44 s, total: 5.71 s\n",
      "Wall time: 3.52 s\n"
     ]
    },
    {
     "data": {
      "text/plain": [
       "<catboost.core.CatBoostClassifier at 0x7fa1ea8bbd60>"
      ]
     },
     "execution_count": 72,
     "metadata": {},
     "output_type": "execute_result"
    }
   ],
   "source": [
    "%%time\n",
    "model_cat_boost_upsampled = CatBoostClassifier(verbose=100)\n",
    "\n",
    "model_cat_boost_upsampled.fit(train_features_upsampled, train_target_upsampled, \n",
    "                    eval_set=(valid_features, valid_target))\n"
   ]
  },
  {
   "cell_type": "markdown",
   "metadata": {},
   "source": [
    "Время обучения модели составляет 3.53 s. Посмотрим на значения основных метрик."
   ]
  },
  {
   "cell_type": "code",
   "execution_count": 73,
   "metadata": {},
   "outputs": [
    {
     "name": "stdout",
     "output_type": "stream",
     "text": [
      "Recall: 0.629 \n",
      "Precision: 0.579 \n",
      "F1-мера: 0.603 \n",
      "AUC-ROC: 0.843\n"
     ]
    },
    {
     "data": {
      "image/png": "[encoded data removed]",
      "text/plain": [
       "<Figure size 432x288 with 1 Axes>"
      ]
     },
     "metadata": {
      "needs_background": "light"
     },
     "output_type": "display_data"
    }
   ],
   "source": [
    "f1_auc_roc_score(model_cat_boost_upsampled,valid_features,valid_target)"
   ]
  },
  {
   "cell_type": "markdown",
   "metadata": {},
   "source": [
    "Модель **CatBoostClassifier** при использовании техники \"Upsampled\" показала основные метрики хуже, чем при использовании \"Взвешивание классов\", но все еще достаточные.\n",
    "**F1-мера равна <font color='red'>с 0.603</font>, AUC-ROC равно <font color='red'>с 0.843</font>.**\n",
    "\n",
    "Добавим результат в сводную таблицу."
   ]
  },
  {
   "cell_type": "code",
   "execution_count": 74,
   "metadata": {
    "scrolled": true
   },
   "outputs": [],
   "source": [
    "result = result.append({\"Model\": \"CatBoost Upsampled\", \n",
    "                       \"Recall\": 0.629, \n",
    "                       \"Precision\": 0.579,\n",
    "                       \"F1-мера\": 0.603,\n",
    "                       \"AUC-ROC\": 0.843,\n",
    "                       \"Time GridSearchCV\": \"-\",\n",
    "                       \"Time train\": \"3.53 s\"},\n",
    "                       ignore_index=True)\n",
    "\n"
   ]
  },
  {
   "cell_type": "markdown",
   "metadata": {},
   "source": [
    "Промежуточные результат."
   ]
  },
  {
   "cell_type": "code",
   "execution_count": 75,
   "metadata": {},
   "outputs": [
    {
     "data": {
      "text/html": [
       "<div>\n",
       "<style scoped>\n",
       "    .dataframe tbody tr th:only-of-type {\n",
       "        vertical-align: middle;\n",
       "    }\n",
       "\n",
       "    .dataframe tbody tr th {\n",
       "        vertical-align: top;\n",
       "    }\n",
       "\n",
       "    .dataframe thead th {\n",
       "        text-align: right;\n",
       "    }\n",
       "</style>\n",
       "<table border=\"1\" class=\"dataframe\">\n",
       "  <thead>\n",
       "    <tr style=\"text-align: right;\">\n",
       "      <th></th>\n",
       "      <th>Model</th>\n",
       "      <th>Recall</th>\n",
       "      <th>Precision</th>\n",
       "      <th>F1-мера</th>\n",
       "      <th>AUC-ROC</th>\n",
       "      <th>Time GridSearchCV</th>\n",
       "      <th>Time train</th>\n",
       "    </tr>\n",
       "  </thead>\n",
       "  <tbody>\n",
       "    <tr>\n",
       "      <th>7</th>\n",
       "      <td>CatBoost Balance</td>\n",
       "      <td>0.634</td>\n",
       "      <td>0.626</td>\n",
       "      <td>0.630</td>\n",
       "      <td>0.869</td>\n",
       "      <td>-</td>\n",
       "      <td>2.5 s</td>\n",
       "    </tr>\n",
       "    <tr>\n",
       "      <th>9</th>\n",
       "      <td>Random Forest Upsampled</td>\n",
       "      <td>0.543</td>\n",
       "      <td>0.686</td>\n",
       "      <td>0.606</td>\n",
       "      <td>0.840</td>\n",
       "      <td>5min 36s</td>\n",
       "      <td>141 ms</td>\n",
       "    </tr>\n",
       "    <tr>\n",
       "      <th>3</th>\n",
       "      <td>CatBoost</td>\n",
       "      <td>0.494</td>\n",
       "      <td>0.779</td>\n",
       "      <td>0.605</td>\n",
       "      <td>0.872</td>\n",
       "      <td>-</td>\n",
       "      <td>2.38 s</td>\n",
       "    </tr>\n",
       "    <tr>\n",
       "      <th>11</th>\n",
       "      <td>CatBoost Upsampled</td>\n",
       "      <td>0.629</td>\n",
       "      <td>0.579</td>\n",
       "      <td>0.603</td>\n",
       "      <td>0.843</td>\n",
       "      <td>-</td>\n",
       "      <td>3.53 s</td>\n",
       "    </tr>\n",
       "    <tr>\n",
       "      <th>5</th>\n",
       "      <td>Random Forest Balance</td>\n",
       "      <td>0.686</td>\n",
       "      <td>0.534</td>\n",
       "      <td>0.601</td>\n",
       "      <td>0.857</td>\n",
       "      <td>3min 32s</td>\n",
       "      <td>199 ms</td>\n",
       "    </tr>\n",
       "    <tr>\n",
       "      <th>1</th>\n",
       "      <td>Random Forest</td>\n",
       "      <td>0.474</td>\n",
       "      <td>0.769</td>\n",
       "      <td>0.587</td>\n",
       "      <td>0.852</td>\n",
       "      <td>3min 21s</td>\n",
       "      <td>276 ms</td>\n",
       "    </tr>\n",
       "    <tr>\n",
       "      <th>4</th>\n",
       "      <td>Decision Tree Balance</td>\n",
       "      <td>0.764</td>\n",
       "      <td>0.475</td>\n",
       "      <td>0.586</td>\n",
       "      <td>0.853</td>\n",
       "      <td>18.1 s</td>\n",
       "      <td>30.8 ms</td>\n",
       "    </tr>\n",
       "    <tr>\n",
       "      <th>0</th>\n",
       "      <td>Decision Tree</td>\n",
       "      <td>0.469</td>\n",
       "      <td>0.729</td>\n",
       "      <td>0.571</td>\n",
       "      <td>0.853</td>\n",
       "      <td>14.5 s</td>\n",
       "      <td>12.4 ms</td>\n",
       "    </tr>\n",
       "    <tr>\n",
       "      <th>8</th>\n",
       "      <td>Decision Tree Upsampled</td>\n",
       "      <td>0.572</td>\n",
       "      <td>0.512</td>\n",
       "      <td>0.541</td>\n",
       "      <td>0.723</td>\n",
       "      <td>53.9 s</td>\n",
       "      <td>30.1 ms ms</td>\n",
       "    </tr>\n",
       "    <tr>\n",
       "      <th>6</th>\n",
       "      <td>Logistic Regression Balance</td>\n",
       "      <td>0.688</td>\n",
       "      <td>0.375</td>\n",
       "      <td>0.486</td>\n",
       "      <td>0.759</td>\n",
       "      <td>-</td>\n",
       "      <td>5.63 ms</td>\n",
       "    </tr>\n",
       "    <tr>\n",
       "      <th>10</th>\n",
       "      <td>Logistic Regression Upsampled</td>\n",
       "      <td>0.695</td>\n",
       "      <td>0.373</td>\n",
       "      <td>0.486</td>\n",
       "      <td>0.759</td>\n",
       "      <td>-</td>\n",
       "      <td>8.22 ms</td>\n",
       "    </tr>\n",
       "    <tr>\n",
       "      <th>2</th>\n",
       "      <td>Logistic Regression</td>\n",
       "      <td>0.204</td>\n",
       "      <td>0.519</td>\n",
       "      <td>0.293</td>\n",
       "      <td>0.754</td>\n",
       "      <td>-</td>\n",
       "      <td>5.64 ms</td>\n",
       "    </tr>\n",
       "  </tbody>\n",
       "</table>\n",
       "</div>"
      ],
      "text/plain": [
       "                            Model  Recall  Precision  F1-мера  AUC-ROC  \\\n",
       "7                CatBoost Balance   0.634      0.626    0.630    0.869   \n",
       "9         Random Forest Upsampled   0.543      0.686    0.606    0.840   \n",
       "3                        CatBoost   0.494      0.779    0.605    0.872   \n",
       "11             CatBoost Upsampled   0.629      0.579    0.603    0.843   \n",
       "5           Random Forest Balance   0.686      0.534    0.601    0.857   \n",
       "1                   Random Forest   0.474      0.769    0.587    0.852   \n",
       "4           Decision Tree Balance   0.764      0.475    0.586    0.853   \n",
       "0                   Decision Tree   0.469      0.729    0.571    0.853   \n",
       "8         Decision Tree Upsampled   0.572      0.512    0.541    0.723   \n",
       "6     Logistic Regression Balance   0.688      0.375    0.486    0.759   \n",
       "10  Logistic Regression Upsampled   0.695      0.373    0.486    0.759   \n",
       "2             Logistic Regression   0.204      0.519    0.293    0.754   \n",
       "\n",
       "   Time GridSearchCV  Time train  \n",
       "7                  -       2.5 s  \n",
       "9           5min 36s      141 ms  \n",
       "3                  -      2.38 s  \n",
       "11                 -      3.53 s  \n",
       "5           3min 32s      199 ms  \n",
       "1           3min 21s      276 ms  \n",
       "4             18.1 s     30.8 ms  \n",
       "0             14.5 s     12.4 ms  \n",
       "8             53.9 s  30.1 ms ms  \n",
       "6                  -     5.63 ms  \n",
       "10                 -     8.22 ms  \n",
       "2                  -     5.64 ms  "
      ]
     },
     "execution_count": 75,
     "metadata": {},
     "output_type": "execute_result"
    }
   ],
   "source": [
    "result.sort_values(by='F1-мера', ascending=False)"
   ]
  },
  {
   "cell_type": "markdown",
   "metadata": {},
   "source": [
    "При моделировании с использованием техники \"Upsampled\" лучший результат показала модель **\"Случайного леса\"**, а потом **CatBoost**. Модель **Дерево решений** дало наименьшие показатели, по сравнению с этой же моделью без учета дисбаланса и при взвешивании классов, но при этом показатели полноты и точности стали сбалансированными. Модель **Логистической регресси** также показала самые низкие значения метрик.\n",
    "\n",
    "Наилучшие модели по параметру F1-мера: \n",
    "- все три модели CatBoost\n",
    "- Случайный лес при взвешивание классов и использование техники \"Upsampled\"\n",
    "\n",
    "Проверим их на тестовой выборке."
   ]
  },
  {
   "cell_type": "markdown",
   "metadata": {},
   "source": [
    "## Проверка моделей на тестовой выборке"
   ]
  },
  {
   "cell_type": "markdown",
   "metadata": {},
   "source": [
    "Посмотрим на показатели на тестовой выборке для моделей **Случайного леса**."
   ]
  },
  {
   "cell_type": "code",
   "execution_count": 76,
   "metadata": {},
   "outputs": [
    {
     "name": "stdout",
     "output_type": "stream",
     "text": [
      "Случайный лес - взвешивание классов\n",
      "\n",
      "Recall: 0.693 \n",
      "Precision: 0.541 \n",
      "F1-мера: 0.608 \n",
      "AUC-ROC: 0.846\n"
     ]
    },
    {
     "data": {
      "image/png": "[encoded data removed]",
      "text/plain": [
       "<Figure size 432x288 with 1 Axes>"
      ]
     },
     "metadata": {
      "needs_background": "light"
     },
     "output_type": "display_data"
    },
    {
     "name": "stdout",
     "output_type": "stream",
     "text": [
      "\n",
      "Случайный лес - техника Upsampled\n",
      "\n",
      "Recall: 0.523 \n",
      "Precision: 0.612 \n",
      "F1-мера: 0.564 \n",
      "AUC-ROC: 0.823\n"
     ]
    },
    {
     "data": {
      "image/png": "[encoded data removed]",
      "text/plain": [
       "<Figure size 432x288 with 1 Axes>"
      ]
     },
     "metadata": {
      "needs_background": "light"
     },
     "output_type": "display_data"
    }
   ],
   "source": [
    "print('Случайный лес - взвешивание классов')\n",
    "print('')\n",
    "f1_auc_roc_score(model_forest_balance,test_features,test_target)\n",
    "\n",
    "print('')\n",
    "print('Случайный лес - техника Upsampled')\n",
    "print('')\n",
    "f1_auc_roc_score(model_forest_upsampled,test_features,test_target)"
   ]
  },
  {
   "cell_type": "markdown",
   "metadata": {},
   "source": [
    "Модель **Случайного леса** при использовании техники \"Взвешивание классов\" на тестовой выборке показала лучший результат: **F1-мера 0.608, AUC-ROC - 0.846.**\n",
    "\n",
    "Посмотрим на метрики для модели **CatBoost**."
   ]
  },
  {
   "cell_type": "code",
   "execution_count": 77,
   "metadata": {},
   "outputs": [
    {
     "name": "stdout",
     "output_type": "stream",
     "text": [
      "CatBoost - без учета дисбаланса классов\n",
      "\n",
      "Recall: 0.472 \n",
      "Precision: 0.711 \n",
      "F1-мера: 0.567 \n",
      "AUC-ROC: 0.861\n"
     ]
    },
    {
     "data": {
      "image/png": "[encoded data removed]",
      "text/plain": [
       "<Figure size 432x288 with 1 Axes>"
      ]
     },
     "metadata": {
      "needs_background": "light"
     },
     "output_type": "display_data"
    },
    {
     "name": "stdout",
     "output_type": "stream",
     "text": [
      "\n",
      "CatBoost - взвешивание классов\n",
      "\n",
      "Recall: 0.654 \n",
      "Precision: 0.607 \n",
      "F1-мера: 0.630 \n",
      "AUC-ROC: 0.862\n"
     ]
    },
    {
     "data": {
      "image/png": "[encoded data removed]",
      "text/plain": [
       "<Figure size 432x288 with 1 Axes>"
      ]
     },
     "metadata": {
      "needs_background": "light"
     },
     "output_type": "display_data"
    },
    {
     "name": "stdout",
     "output_type": "stream",
     "text": [
      "\n",
      "CatBoost - техника Upsampled\n",
      "\n",
      "Recall: 0.649 \n",
      "Precision: 0.553 \n",
      "F1-мера: 0.597 \n",
      "AUC-ROC: 0.843\n"
     ]
    },
    {
     "data": {
      "image/png": "[encoded data removed]",
      "text/plain": [
       "<Figure size 432x288 with 1 Axes>"
      ]
     },
     "metadata": {
      "needs_background": "light"
     },
     "output_type": "display_data"
    }
   ],
   "source": [
    "print('CatBoost - без учета дисбаланса классов')\n",
    "print('')\n",
    "f1_auc_roc_score(model_cat_boost,test_features,test_target)\n",
    "\n",
    "print('')\n",
    "print('CatBoost - взвешивание классов')\n",
    "print('')\n",
    "f1_auc_roc_score(model_cat_boost_balance,test_features,test_target)\n",
    "\n",
    "print('')\n",
    "print('CatBoost - техника Upsampled')\n",
    "print('')\n",
    "f1_auc_roc_score(model_cat_boost_upsampled,test_features,test_target)\n"
   ]
  },
  {
   "cell_type": "markdown",
   "metadata": {},
   "source": [
    "Модель **CatBoost** показала наилучшие метрики при использовании взвешивание классов: **F1-мера 0.630, AUC-ROC - 0.862.** При этом полнота и точность также имеют значения выше средних: **0.654 и 0.607 соответственно.**  \n"
   ]
  },
  {
   "cell_type": "markdown",
   "metadata": {},
   "source": [
    "Промежуточный результат.\n",
    "\n",
    "\n",
    "Модель **CatBoost** при использовании взвешивание классов показала наилучшие значения метрик среди всех рассматриваемых моделей, после нее идет модель **Случайного леса** также при использовании взвешивание классов.\n",
    "\n",
    "Учитывая, что модель **Случайного леса** очень трудозатратна - необходимо много времени на подбор наилучших параметров, она уступает модели **CatBoost**, которая показала высокую скорость работы."
   ]
  },
  {
   "cell_type": "markdown",
   "metadata": {},
   "source": [
    "## Проверка модели на адекватность"
   ]
  },
  {
   "cell_type": "markdown",
   "metadata": {},
   "source": [
    "Проверим модели на адекватность с помощью модели **DummyClassifier**."
   ]
  },
  {
   "cell_type": "code",
   "execution_count": 78,
   "metadata": {},
   "outputs": [
    {
     "name": "stdout",
     "output_type": "stream",
     "text": [
      "Recall: 0.194 \n",
      "Precision: 0.196 \n",
      "F1-мера: 0.195 \n",
      "AUC-ROC: 0.495\n"
     ]
    },
    {
     "data": {
      "image/png": "[encoded data removed]",
      "text/plain": [
       "<Figure size 432x288 with 1 Axes>"
      ]
     },
     "metadata": {
      "needs_background": "light"
     },
     "output_type": "display_data"
    }
   ],
   "source": [
    "dummy_clf = DummyClassifier(random_state=13, strategy=\"stratified\")\n",
    "dummy_clf.fit(train_features, train_target)\n",
    "\n",
    "f1_auc_roc_score(dummy_clf,valid_features,valid_target)"
   ]
  },
  {
   "cell_type": "markdown",
   "metadata": {},
   "source": [
    "Посмотрим на тестовой выборке."
   ]
  },
  {
   "cell_type": "code",
   "execution_count": 79,
   "metadata": {},
   "outputs": [
    {
     "name": "stdout",
     "output_type": "stream",
     "text": [
      "Recall: 0.197 \n",
      "Precision: 0.198 \n",
      "F1-мера: 0.197 \n",
      "AUC-ROC: 0.497\n"
     ]
    },
    {
     "data": {
      "image/png": "[encoded data removed]",
      "text/plain": [
       "<Figure size 432x288 with 1 Axes>"
      ]
     },
     "metadata": {
      "needs_background": "light"
     },
     "output_type": "display_data"
    }
   ],
   "source": [
    "f1_auc_roc_score(dummy_clf,test_features,test_target)"
   ]
  },
  {
   "cell_type": "markdown",
   "metadata": {},
   "source": [
    "Случайная модель показала низкие показатели метрик. \n",
    "\n",
    "Таким образом можем сделать вывод, что качество моделей, основанных на алгоритмах **\"Случайный лес\" и \"CatBoost\"** значительно выше случайной. "
   ]
  },
  {
   "cell_type": "markdown",
   "metadata": {},
   "source": [
    "## Вывод"
   ]
  },
  {
   "cell_type": "markdown",
   "metadata": {},
   "source": [
    "**Что сделали:**\n",
    "- Заменили пропуски в параметре **Tenure** (сколько лет человек является клиентом банка) на 0, приняв что данные клиенты пользовались услугами меньше года.\n",
    "\n",
    "\n",
    "- Снизили потребление памяти с 2.6 до 2.1 МВ, изменив тип данных для параметров:\n",
    "    - **age, tenure, num_of_products, has_cr_card, is_active_member и exited** на `int8`,\n",
    "    - **credit_score** на `int16`,\n",
    "    - **balance и estimated_salary** на `float32`.\n",
    "    \n",
    "\n",
    "- Сильной корреляции между параметрами не выявлено. При моделировании использовали все параметры, за исключением тех, что используются для идентификации клиентов - **CustomerId** (уникальный идентификатор клиента) и **Surname** (фамилия).\n",
    "\n",
    "\n",
    "- Применили технику прямого кодирования **One-Hot Encoding** на категориальные параметры: **Geography и Gender**.\n",
    "    \n",
    "    \n",
    "- Разделили данные на три выборки с использованием стратификации: обучающую (60% от исходных данных), валидационную (20%) и тестовую (20%).\n",
    "\n",
    "\n",
    "- Маштабировали количественные признаки с помощью метода стандартизаци данных.\n",
    "\n",
    "\n",
    "- Проверили работу четырех моделей: **\"Дерево решений\", \"Случайный лес\", \"Логистическая регрессия\" и CatBoost** без учета дисбаланса, при взвешивание классов и применение техники \"Upsampling\".\n",
    "\n",
    "\n",
    "- Проверили модели на адекватность, сравнив результаты с результатами случайной моделью."
   ]
  },
  {
   "cell_type": "code",
   "execution_count": 80,
   "metadata": {},
   "outputs": [
    {
     "data": {
      "text/html": [
       "<div>\n",
       "<style scoped>\n",
       "    .dataframe tbody tr th:only-of-type {\n",
       "        vertical-align: middle;\n",
       "    }\n",
       "\n",
       "    .dataframe tbody tr th {\n",
       "        vertical-align: top;\n",
       "    }\n",
       "\n",
       "    .dataframe thead th {\n",
       "        text-align: right;\n",
       "    }\n",
       "</style>\n",
       "<table border=\"1\" class=\"dataframe\">\n",
       "  <thead>\n",
       "    <tr style=\"text-align: right;\">\n",
       "      <th></th>\n",
       "      <th>Model</th>\n",
       "      <th>Recall</th>\n",
       "      <th>Precision</th>\n",
       "      <th>F1-мера</th>\n",
       "      <th>AUC-ROC</th>\n",
       "      <th>Time GridSearchCV</th>\n",
       "      <th>Time train</th>\n",
       "    </tr>\n",
       "  </thead>\n",
       "  <tbody>\n",
       "    <tr>\n",
       "      <th>7</th>\n",
       "      <td>CatBoost Balance</td>\n",
       "      <td>0.634</td>\n",
       "      <td>0.626</td>\n",
       "      <td>0.630</td>\n",
       "      <td>0.869</td>\n",
       "      <td>-</td>\n",
       "      <td>2.5 s</td>\n",
       "    </tr>\n",
       "    <tr>\n",
       "      <th>9</th>\n",
       "      <td>Random Forest Upsampled</td>\n",
       "      <td>0.543</td>\n",
       "      <td>0.686</td>\n",
       "      <td>0.606</td>\n",
       "      <td>0.840</td>\n",
       "      <td>5min 36s</td>\n",
       "      <td>141 ms</td>\n",
       "    </tr>\n",
       "    <tr>\n",
       "      <th>3</th>\n",
       "      <td>CatBoost</td>\n",
       "      <td>0.494</td>\n",
       "      <td>0.779</td>\n",
       "      <td>0.605</td>\n",
       "      <td>0.872</td>\n",
       "      <td>-</td>\n",
       "      <td>2.38 s</td>\n",
       "    </tr>\n",
       "    <tr>\n",
       "      <th>11</th>\n",
       "      <td>CatBoost Upsampled</td>\n",
       "      <td>0.629</td>\n",
       "      <td>0.579</td>\n",
       "      <td>0.603</td>\n",
       "      <td>0.843</td>\n",
       "      <td>-</td>\n",
       "      <td>3.53 s</td>\n",
       "    </tr>\n",
       "    <tr>\n",
       "      <th>5</th>\n",
       "      <td>Random Forest Balance</td>\n",
       "      <td>0.686</td>\n",
       "      <td>0.534</td>\n",
       "      <td>0.601</td>\n",
       "      <td>0.857</td>\n",
       "      <td>3min 32s</td>\n",
       "      <td>199 ms</td>\n",
       "    </tr>\n",
       "    <tr>\n",
       "      <th>1</th>\n",
       "      <td>Random Forest</td>\n",
       "      <td>0.474</td>\n",
       "      <td>0.769</td>\n",
       "      <td>0.587</td>\n",
       "      <td>0.852</td>\n",
       "      <td>3min 21s</td>\n",
       "      <td>276 ms</td>\n",
       "    </tr>\n",
       "    <tr>\n",
       "      <th>4</th>\n",
       "      <td>Decision Tree Balance</td>\n",
       "      <td>0.764</td>\n",
       "      <td>0.475</td>\n",
       "      <td>0.586</td>\n",
       "      <td>0.853</td>\n",
       "      <td>18.1 s</td>\n",
       "      <td>30.8 ms</td>\n",
       "    </tr>\n",
       "    <tr>\n",
       "      <th>0</th>\n",
       "      <td>Decision Tree</td>\n",
       "      <td>0.469</td>\n",
       "      <td>0.729</td>\n",
       "      <td>0.571</td>\n",
       "      <td>0.853</td>\n",
       "      <td>14.5 s</td>\n",
       "      <td>12.4 ms</td>\n",
       "    </tr>\n",
       "    <tr>\n",
       "      <th>8</th>\n",
       "      <td>Decision Tree Upsampled</td>\n",
       "      <td>0.572</td>\n",
       "      <td>0.512</td>\n",
       "      <td>0.541</td>\n",
       "      <td>0.723</td>\n",
       "      <td>53.9 s</td>\n",
       "      <td>30.1 ms ms</td>\n",
       "    </tr>\n",
       "    <tr>\n",
       "      <th>6</th>\n",
       "      <td>Logistic Regression Balance</td>\n",
       "      <td>0.688</td>\n",
       "      <td>0.375</td>\n",
       "      <td>0.486</td>\n",
       "      <td>0.759</td>\n",
       "      <td>-</td>\n",
       "      <td>5.63 ms</td>\n",
       "    </tr>\n",
       "    <tr>\n",
       "      <th>10</th>\n",
       "      <td>Logistic Regression Upsampled</td>\n",
       "      <td>0.695</td>\n",
       "      <td>0.373</td>\n",
       "      <td>0.486</td>\n",
       "      <td>0.759</td>\n",
       "      <td>-</td>\n",
       "      <td>8.22 ms</td>\n",
       "    </tr>\n",
       "    <tr>\n",
       "      <th>2</th>\n",
       "      <td>Logistic Regression</td>\n",
       "      <td>0.204</td>\n",
       "      <td>0.519</td>\n",
       "      <td>0.293</td>\n",
       "      <td>0.754</td>\n",
       "      <td>-</td>\n",
       "      <td>5.64 ms</td>\n",
       "    </tr>\n",
       "  </tbody>\n",
       "</table>\n",
       "</div>"
      ],
      "text/plain": [
       "                            Model  Recall  Precision  F1-мера  AUC-ROC  \\\n",
       "7                CatBoost Balance   0.634      0.626    0.630    0.869   \n",
       "9         Random Forest Upsampled   0.543      0.686    0.606    0.840   \n",
       "3                        CatBoost   0.494      0.779    0.605    0.872   \n",
       "11             CatBoost Upsampled   0.629      0.579    0.603    0.843   \n",
       "5           Random Forest Balance   0.686      0.534    0.601    0.857   \n",
       "1                   Random Forest   0.474      0.769    0.587    0.852   \n",
       "4           Decision Tree Balance   0.764      0.475    0.586    0.853   \n",
       "0                   Decision Tree   0.469      0.729    0.571    0.853   \n",
       "8         Decision Tree Upsampled   0.572      0.512    0.541    0.723   \n",
       "6     Logistic Regression Balance   0.688      0.375    0.486    0.759   \n",
       "10  Logistic Regression Upsampled   0.695      0.373    0.486    0.759   \n",
       "2             Logistic Regression   0.204      0.519    0.293    0.754   \n",
       "\n",
       "   Time GridSearchCV  Time train  \n",
       "7                  -       2.5 s  \n",
       "9           5min 36s      141 ms  \n",
       "3                  -      2.38 s  \n",
       "11                 -      3.53 s  \n",
       "5           3min 32s      199 ms  \n",
       "1           3min 21s      276 ms  \n",
       "4             18.1 s     30.8 ms  \n",
       "0             14.5 s     12.4 ms  \n",
       "8             53.9 s  30.1 ms ms  \n",
       "6                  -     5.63 ms  \n",
       "10                 -     8.22 ms  \n",
       "2                  -     5.64 ms  "
      ]
     },
     "execution_count": 80,
     "metadata": {},
     "output_type": "execute_result"
    }
   ],
   "source": [
    "result.sort_values(by='F1-мера', ascending=False)"
   ]
  },
  {
   "cell_type": "markdown",
   "metadata": {},
   "source": [
    "**Вывод:**\n",
    "\n",
    "1. Наименьшие значения основных метрик показала модели \"Логистическая регрессия\" как без учета дисбаланса классов, так и при использовании ттехник для их сбалансирования(взвешивание и upsampling):\n",
    "    - без учета дисбаланса классов: F1-мера 0.293, AUC-ROC 0.754,\n",
    "    - при взвешивании классов и использовании техники \"Upsampling\": F1-мера 0.486, AUC-ROC 0.759.\n",
    "\n",
    "\n",
    "2. После нее на третьем месте идет модель \"Решающее дерево\":\n",
    "    - без учета дисбаланса классов: F1-мера 0.571, AUC-ROC 0.853,\n",
    "    - при взвешивании классов: F1-мера 0.586, AUC-ROC 0.853,\n",
    "    - при использовании техники \"Upsampling\": F1-мера 0.541, AUC-ROC 0.723.\n",
    "    \n",
    "    \n",
    "3. Самые лучшие результаты показали модели \"Случайный лес\" и CatBoost.\n",
    "\n",
    "\n",
    "4. Модель \"Случайный лес\" показала следующие итоговые метрики:\n",
    "    - без учета дисбаланса классов: F1-мера 0.587, AUC-ROC 0.852,\n",
    "    - при взвешивании классов: F1-мера 0.601, AUC-ROC 0.857,\n",
    "    - при использовании техники \"Upsampling\": F1-мера 0.606, AUC-ROC 0.840.\n",
    "\n",
    "\n",
    "5. Модель CatBoost показала следующие итоговые метрики:\n",
    "    - без учета дисбаланса классов: F1-мера 0.605, AUC-ROC 0.872,\n",
    "    - при взвешивании классов: F1-мера 0.630, AUC-ROC 0.869,\n",
    "    - при использовании техники \"Upsampling\": F1-мера 0.603, AUC-ROC 0.843.\n",
    "\n",
    "\n",
    "6. На тестовой выборке лучший результат показали модели:\n",
    "    - **Случайного леса** при использовании взвешивание классов: **F1-мера 0.608, AUC-ROC - 0.846.**\n",
    "    - **CatBoost** при использовании взвешивание классов: **F1-мера 0.630, AUC-ROC - 0.862.**\n",
    "\n",
    "\n",
    "7. Случайная модель на тестовой выборке достигла значение F1-меры - 0.197, AUC-ROC - 0.497.\n",
    "Что говорит о более высоком качестве моделей, основанных на алгоритмах \"Решающее дерево\", \"Случайный лес\", \"Логистическая регрессия\" и CatBoost.\n",
    "\n",
    "\n"
   ]
  },
  {
   "cell_type": "markdown",
   "metadata": {},
   "source": [
    "**Рекомендации:**\n",
    "Исходя из метрики качества и скорости работы, для предсказания оттока клиентов банка рекомендуем использовать модель **\"CatBoost\" со взвешиванием классов**."
   ]
  }
 ],
 "metadata": {
  "kernelspec": {
   "display_name": "Python 3",
   "language": "python",
   "name": "python3"
  },
  "language_info": {
   "codemirror_mode": {
    "name": "ipython",
    "version": 3
   },
   "file_extension": ".py",
   "mimetype": "text/x-python",
   "name": "python",
   "nbconvert_exporter": "python",
   "pygments_lexer": "ipython3",
   "version": "3.8.5"
  },
  "toc": {
   "base_numbering": 1,
   "nav_menu": {},
   "number_sections": true,
   "sideBar": true,
   "skip_h1_title": true,
   "title_cell": "Table of Contents",
   "title_sidebar": "Contents",
   "toc_cell": true,
   "toc_position": {},
   "toc_section_display": true,
   "toc_window_display": true
  }
 },
 "nbformat": 4,
 "nbformat_minor": 4
}
